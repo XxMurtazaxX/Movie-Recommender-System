{
 "cells": [
  {
   "cell_type": "code",
   "execution_count": 1,
   "metadata": {},
   "outputs": [],
   "source": [
    "import numpy as np\n",
    "import pandas as pd"
   ]
  },
  {
   "cell_type": "code",
   "execution_count": 2,
   "id": "a307fe31",
   "metadata": {},
   "outputs": [],
   "source": [
    "movies = pd.read_csv('tmdb_5000_movies.csv')\n",
    "credits = pd.read_csv('tmdb_5000_credits.csv')"
   ]
  },
  {
   "cell_type": "code",
   "execution_count": 41,
   "id": "626ffa4a",
   "metadata": {},
   "outputs": [
    {
     "data": {
      "application/vnd.microsoft.datawrangler.viewer.v0+json": {
       "columns": [
        {
         "name": "index",
         "rawType": "int64",
         "type": "integer"
        },
        {
         "name": "budget",
         "rawType": "int64",
         "type": "integer"
        },
        {
         "name": "genres",
         "rawType": "object",
         "type": "string"
        },
        {
         "name": "homepage",
         "rawType": "object",
         "type": "string"
        },
        {
         "name": "id",
         "rawType": "int64",
         "type": "integer"
        },
        {
         "name": "keywords",
         "rawType": "object",
         "type": "string"
        },
        {
         "name": "original_language",
         "rawType": "object",
         "type": "string"
        },
        {
         "name": "original_title",
         "rawType": "object",
         "type": "string"
        },
        {
         "name": "overview",
         "rawType": "object",
         "type": "string"
        },
        {
         "name": "popularity",
         "rawType": "float64",
         "type": "float"
        },
        {
         "name": "production_companies",
         "rawType": "object",
         "type": "string"
        },
        {
         "name": "production_countries",
         "rawType": "object",
         "type": "string"
        },
        {
         "name": "release_date",
         "rawType": "object",
         "type": "string"
        },
        {
         "name": "revenue",
         "rawType": "int64",
         "type": "integer"
        },
        {
         "name": "runtime",
         "rawType": "float64",
         "type": "float"
        },
        {
         "name": "spoken_languages",
         "rawType": "object",
         "type": "string"
        },
        {
         "name": "status",
         "rawType": "object",
         "type": "string"
        },
        {
         "name": "tagline",
         "rawType": "object",
         "type": "string"
        },
        {
         "name": "title",
         "rawType": "object",
         "type": "string"
        },
        {
         "name": "vote_average",
         "rawType": "float64",
         "type": "float"
        },
        {
         "name": "vote_count",
         "rawType": "int64",
         "type": "integer"
        }
       ],
       "ref": "71cb74dc-29db-40a2-b9f9-bed2d3e2d83a",
       "rows": [
        [
         "0",
         "237000000",
         "[{\"id\": 28, \"name\": \"Action\"}, {\"id\": 12, \"name\": \"Adventure\"}, {\"id\": 14, \"name\": \"Fantasy\"}, {\"id\": 878, \"name\": \"Science Fiction\"}]",
         "http://www.avatarmovie.com/",
         "19995",
         "[{\"id\": 1463, \"name\": \"culture clash\"}, {\"id\": 2964, \"name\": \"future\"}, {\"id\": 3386, \"name\": \"space war\"}, {\"id\": 3388, \"name\": \"space colony\"}, {\"id\": 3679, \"name\": \"society\"}, {\"id\": 3801, \"name\": \"space travel\"}, {\"id\": 9685, \"name\": \"futuristic\"}, {\"id\": 9840, \"name\": \"romance\"}, {\"id\": 9882, \"name\": \"space\"}, {\"id\": 9951, \"name\": \"alien\"}, {\"id\": 10148, \"name\": \"tribe\"}, {\"id\": 10158, \"name\": \"alien planet\"}, {\"id\": 10987, \"name\": \"cgi\"}, {\"id\": 11399, \"name\": \"marine\"}, {\"id\": 13065, \"name\": \"soldier\"}, {\"id\": 14643, \"name\": \"battle\"}, {\"id\": 14720, \"name\": \"love affair\"}, {\"id\": 165431, \"name\": \"anti war\"}, {\"id\": 193554, \"name\": \"power relations\"}, {\"id\": 206690, \"name\": \"mind and soul\"}, {\"id\": 209714, \"name\": \"3d\"}]",
         "en",
         "Avatar",
         "In the 22nd century, a paraplegic Marine is dispatched to the moon Pandora on a unique mission, but becomes torn between following orders and protecting an alien civilization.",
         "150.437577",
         "[{\"name\": \"Ingenious Film Partners\", \"id\": 289}, {\"name\": \"Twentieth Century Fox Film Corporation\", \"id\": 306}, {\"name\": \"Dune Entertainment\", \"id\": 444}, {\"name\": \"Lightstorm Entertainment\", \"id\": 574}]",
         "[{\"iso_3166_1\": \"US\", \"name\": \"United States of America\"}, {\"iso_3166_1\": \"GB\", \"name\": \"United Kingdom\"}]",
         "2009-12-10",
         "2787965087",
         "162.0",
         "[{\"iso_639_1\": \"en\", \"name\": \"English\"}, {\"iso_639_1\": \"es\", \"name\": \"Espa\\u00f1ol\"}]",
         "Released",
         "Enter the World of Pandora.",
         "Avatar",
         "7.2",
         "11800"
        ],
        [
         "1",
         "300000000",
         "[{\"id\": 12, \"name\": \"Adventure\"}, {\"id\": 14, \"name\": \"Fantasy\"}, {\"id\": 28, \"name\": \"Action\"}]",
         "http://disney.go.com/disneypictures/pirates/",
         "285",
         "[{\"id\": 270, \"name\": \"ocean\"}, {\"id\": 726, \"name\": \"drug abuse\"}, {\"id\": 911, \"name\": \"exotic island\"}, {\"id\": 1319, \"name\": \"east india trading company\"}, {\"id\": 2038, \"name\": \"love of one's life\"}, {\"id\": 2052, \"name\": \"traitor\"}, {\"id\": 2580, \"name\": \"shipwreck\"}, {\"id\": 2660, \"name\": \"strong woman\"}, {\"id\": 3799, \"name\": \"ship\"}, {\"id\": 5740, \"name\": \"alliance\"}, {\"id\": 5941, \"name\": \"calypso\"}, {\"id\": 6155, \"name\": \"afterlife\"}, {\"id\": 6211, \"name\": \"fighter\"}, {\"id\": 12988, \"name\": \"pirate\"}, {\"id\": 157186, \"name\": \"swashbuckler\"}, {\"id\": 179430, \"name\": \"aftercreditsstinger\"}]",
         "en",
         "Pirates of the Caribbean: At World's End",
         "Captain Barbossa, long believed to be dead, has come back to life and is headed to the edge of the Earth with Will Turner and Elizabeth Swann. But nothing is quite as it seems.",
         "139.082615",
         "[{\"name\": \"Walt Disney Pictures\", \"id\": 2}, {\"name\": \"Jerry Bruckheimer Films\", \"id\": 130}, {\"name\": \"Second Mate Productions\", \"id\": 19936}]",
         "[{\"iso_3166_1\": \"US\", \"name\": \"United States of America\"}]",
         "2007-05-19",
         "961000000",
         "169.0",
         "[{\"iso_639_1\": \"en\", \"name\": \"English\"}]",
         "Released",
         "At the end of the world, the adventure begins.",
         "Pirates of the Caribbean: At World's End",
         "6.9",
         "4500"
        ],
        [
         "2",
         "245000000",
         "[{\"id\": 28, \"name\": \"Action\"}, {\"id\": 12, \"name\": \"Adventure\"}, {\"id\": 80, \"name\": \"Crime\"}]",
         "http://www.sonypictures.com/movies/spectre/",
         "206647",
         "[{\"id\": 470, \"name\": \"spy\"}, {\"id\": 818, \"name\": \"based on novel\"}, {\"id\": 4289, \"name\": \"secret agent\"}, {\"id\": 9663, \"name\": \"sequel\"}, {\"id\": 14555, \"name\": \"mi6\"}, {\"id\": 156095, \"name\": \"british secret service\"}, {\"id\": 158431, \"name\": \"united kingdom\"}]",
         "en",
         "Spectre",
         "A cryptic message from Bond’s past sends him on a trail to uncover a sinister organization. While M battles political forces to keep the secret service alive, Bond peels back the layers of deceit to reveal the terrible truth behind SPECTRE.",
         "107.376788",
         "[{\"name\": \"Columbia Pictures\", \"id\": 5}, {\"name\": \"Danjaq\", \"id\": 10761}, {\"name\": \"B24\", \"id\": 69434}]",
         "[{\"iso_3166_1\": \"GB\", \"name\": \"United Kingdom\"}, {\"iso_3166_1\": \"US\", \"name\": \"United States of America\"}]",
         "2015-10-26",
         "880674609",
         "148.0",
         "[{\"iso_639_1\": \"fr\", \"name\": \"Fran\\u00e7ais\"}, {\"iso_639_1\": \"en\", \"name\": \"English\"}, {\"iso_639_1\": \"es\", \"name\": \"Espa\\u00f1ol\"}, {\"iso_639_1\": \"it\", \"name\": \"Italiano\"}, {\"iso_639_1\": \"de\", \"name\": \"Deutsch\"}]",
         "Released",
         "A Plan No One Escapes",
         "Spectre",
         "6.3",
         "4466"
        ],
        [
         "3",
         "250000000",
         "[{\"id\": 28, \"name\": \"Action\"}, {\"id\": 80, \"name\": \"Crime\"}, {\"id\": 18, \"name\": \"Drama\"}, {\"id\": 53, \"name\": \"Thriller\"}]",
         "http://www.thedarkknightrises.com/",
         "49026",
         "[{\"id\": 849, \"name\": \"dc comics\"}, {\"id\": 853, \"name\": \"crime fighter\"}, {\"id\": 949, \"name\": \"terrorist\"}, {\"id\": 1308, \"name\": \"secret identity\"}, {\"id\": 1437, \"name\": \"burglar\"}, {\"id\": 3051, \"name\": \"hostage drama\"}, {\"id\": 3562, \"name\": \"time bomb\"}, {\"id\": 6969, \"name\": \"gotham city\"}, {\"id\": 7002, \"name\": \"vigilante\"}, {\"id\": 9665, \"name\": \"cover-up\"}, {\"id\": 9715, \"name\": \"superhero\"}, {\"id\": 9990, \"name\": \"villainess\"}, {\"id\": 10044, \"name\": \"tragic hero\"}, {\"id\": 13015, \"name\": \"terrorism\"}, {\"id\": 14796, \"name\": \"destruction\"}, {\"id\": 18933, \"name\": \"catwoman\"}, {\"id\": 156082, \"name\": \"cat burglar\"}, {\"id\": 156395, \"name\": \"imax\"}, {\"id\": 173272, \"name\": \"flood\"}, {\"id\": 179093, \"name\": \"criminal underworld\"}, {\"id\": 230775, \"name\": \"batman\"}]",
         "en",
         "The Dark Knight Rises",
         "Following the death of District Attorney Harvey Dent, Batman assumes responsibility for Dent's crimes to protect the late attorney's reputation and is subsequently hunted by the Gotham City Police Department. Eight years later, Batman encounters the mysterious Selina Kyle and the villainous Bane, a new terrorist leader who overwhelms Gotham's finest. The Dark Knight resurfaces to protect a city that has branded him an enemy.",
         "112.31295",
         "[{\"name\": \"Legendary Pictures\", \"id\": 923}, {\"name\": \"Warner Bros.\", \"id\": 6194}, {\"name\": \"DC Entertainment\", \"id\": 9993}, {\"name\": \"Syncopy\", \"id\": 9996}]",
         "[{\"iso_3166_1\": \"US\", \"name\": \"United States of America\"}]",
         "2012-07-16",
         "1084939099",
         "165.0",
         "[{\"iso_639_1\": \"en\", \"name\": \"English\"}]",
         "Released",
         "The Legend Ends",
         "The Dark Knight Rises",
         "7.6",
         "9106"
        ],
        [
         "4",
         "260000000",
         "[{\"id\": 28, \"name\": \"Action\"}, {\"id\": 12, \"name\": \"Adventure\"}, {\"id\": 878, \"name\": \"Science Fiction\"}]",
         "http://movies.disney.com/john-carter",
         "49529",
         "[{\"id\": 818, \"name\": \"based on novel\"}, {\"id\": 839, \"name\": \"mars\"}, {\"id\": 1456, \"name\": \"medallion\"}, {\"id\": 3801, \"name\": \"space travel\"}, {\"id\": 7376, \"name\": \"princess\"}, {\"id\": 9951, \"name\": \"alien\"}, {\"id\": 10028, \"name\": \"steampunk\"}, {\"id\": 10539, \"name\": \"martian\"}, {\"id\": 10685, \"name\": \"escape\"}, {\"id\": 161511, \"name\": \"edgar rice burroughs\"}, {\"id\": 163252, \"name\": \"alien race\"}, {\"id\": 179102, \"name\": \"superhuman strength\"}, {\"id\": 190320, \"name\": \"mars civilization\"}, {\"id\": 195446, \"name\": \"sword and planet\"}, {\"id\": 207928, \"name\": \"19th century\"}, {\"id\": 209714, \"name\": \"3d\"}]",
         "en",
         "John Carter",
         "John Carter is a war-weary, former military captain who's inexplicably transported to the mysterious and exotic planet of Barsoom (Mars) and reluctantly becomes embroiled in an epic conflict. It's a world on the brink of collapse, and Carter rediscovers his humanity when he realizes the survival of Barsoom and its people rests in his hands.",
         "43.926995",
         "[{\"name\": \"Walt Disney Pictures\", \"id\": 2}]",
         "[{\"iso_3166_1\": \"US\", \"name\": \"United States of America\"}]",
         "2012-03-07",
         "284139100",
         "132.0",
         "[{\"iso_639_1\": \"en\", \"name\": \"English\"}]",
         "Released",
         "Lost in our world, found in another.",
         "John Carter",
         "6.1",
         "2124"
        ]
       ],
       "shape": {
        "columns": 20,
        "rows": 5
       }
      },
      "text/html": [
       "<div>\n",
       "<style scoped>\n",
       "    .dataframe tbody tr th:only-of-type {\n",
       "        vertical-align: middle;\n",
       "    }\n",
       "\n",
       "    .dataframe tbody tr th {\n",
       "        vertical-align: top;\n",
       "    }\n",
       "\n",
       "    .dataframe thead th {\n",
       "        text-align: right;\n",
       "    }\n",
       "</style>\n",
       "<table border=\"1\" class=\"dataframe\">\n",
       "  <thead>\n",
       "    <tr style=\"text-align: right;\">\n",
       "      <th></th>\n",
       "      <th>budget</th>\n",
       "      <th>genres</th>\n",
       "      <th>homepage</th>\n",
       "      <th>id</th>\n",
       "      <th>keywords</th>\n",
       "      <th>original_language</th>\n",
       "      <th>original_title</th>\n",
       "      <th>overview</th>\n",
       "      <th>popularity</th>\n",
       "      <th>production_companies</th>\n",
       "      <th>production_countries</th>\n",
       "      <th>release_date</th>\n",
       "      <th>revenue</th>\n",
       "      <th>runtime</th>\n",
       "      <th>spoken_languages</th>\n",
       "      <th>status</th>\n",
       "      <th>tagline</th>\n",
       "      <th>title</th>\n",
       "      <th>vote_average</th>\n",
       "      <th>vote_count</th>\n",
       "    </tr>\n",
       "  </thead>\n",
       "  <tbody>\n",
       "    <tr>\n",
       "      <th>0</th>\n",
       "      <td>237000000</td>\n",
       "      <td>[{\"id\": 28, \"name\": \"Action\"}, {\"id\": 12, \"nam...</td>\n",
       "      <td>http://www.avatarmovie.com/</td>\n",
       "      <td>19995</td>\n",
       "      <td>[{\"id\": 1463, \"name\": \"culture clash\"}, {\"id\":...</td>\n",
       "      <td>en</td>\n",
       "      <td>Avatar</td>\n",
       "      <td>In the 22nd century, a paraplegic Marine is di...</td>\n",
       "      <td>150.437577</td>\n",
       "      <td>[{\"name\": \"Ingenious Film Partners\", \"id\": 289...</td>\n",
       "      <td>[{\"iso_3166_1\": \"US\", \"name\": \"United States o...</td>\n",
       "      <td>2009-12-10</td>\n",
       "      <td>2787965087</td>\n",
       "      <td>162.0</td>\n",
       "      <td>[{\"iso_639_1\": \"en\", \"name\": \"English\"}, {\"iso...</td>\n",
       "      <td>Released</td>\n",
       "      <td>Enter the World of Pandora.</td>\n",
       "      <td>Avatar</td>\n",
       "      <td>7.2</td>\n",
       "      <td>11800</td>\n",
       "    </tr>\n",
       "    <tr>\n",
       "      <th>1</th>\n",
       "      <td>300000000</td>\n",
       "      <td>[{\"id\": 12, \"name\": \"Adventure\"}, {\"id\": 14, \"...</td>\n",
       "      <td>http://disney.go.com/disneypictures/pirates/</td>\n",
       "      <td>285</td>\n",
       "      <td>[{\"id\": 270, \"name\": \"ocean\"}, {\"id\": 726, \"na...</td>\n",
       "      <td>en</td>\n",
       "      <td>Pirates of the Caribbean: At World's End</td>\n",
       "      <td>Captain Barbossa, long believed to be dead, ha...</td>\n",
       "      <td>139.082615</td>\n",
       "      <td>[{\"name\": \"Walt Disney Pictures\", \"id\": 2}, {\"...</td>\n",
       "      <td>[{\"iso_3166_1\": \"US\", \"name\": \"United States o...</td>\n",
       "      <td>2007-05-19</td>\n",
       "      <td>961000000</td>\n",
       "      <td>169.0</td>\n",
       "      <td>[{\"iso_639_1\": \"en\", \"name\": \"English\"}]</td>\n",
       "      <td>Released</td>\n",
       "      <td>At the end of the world, the adventure begins.</td>\n",
       "      <td>Pirates of the Caribbean: At World's End</td>\n",
       "      <td>6.9</td>\n",
       "      <td>4500</td>\n",
       "    </tr>\n",
       "    <tr>\n",
       "      <th>2</th>\n",
       "      <td>245000000</td>\n",
       "      <td>[{\"id\": 28, \"name\": \"Action\"}, {\"id\": 12, \"nam...</td>\n",
       "      <td>http://www.sonypictures.com/movies/spectre/</td>\n",
       "      <td>206647</td>\n",
       "      <td>[{\"id\": 470, \"name\": \"spy\"}, {\"id\": 818, \"name...</td>\n",
       "      <td>en</td>\n",
       "      <td>Spectre</td>\n",
       "      <td>A cryptic message from Bond’s past sends him o...</td>\n",
       "      <td>107.376788</td>\n",
       "      <td>[{\"name\": \"Columbia Pictures\", \"id\": 5}, {\"nam...</td>\n",
       "      <td>[{\"iso_3166_1\": \"GB\", \"name\": \"United Kingdom\"...</td>\n",
       "      <td>2015-10-26</td>\n",
       "      <td>880674609</td>\n",
       "      <td>148.0</td>\n",
       "      <td>[{\"iso_639_1\": \"fr\", \"name\": \"Fran\\u00e7ais\"},...</td>\n",
       "      <td>Released</td>\n",
       "      <td>A Plan No One Escapes</td>\n",
       "      <td>Spectre</td>\n",
       "      <td>6.3</td>\n",
       "      <td>4466</td>\n",
       "    </tr>\n",
       "    <tr>\n",
       "      <th>3</th>\n",
       "      <td>250000000</td>\n",
       "      <td>[{\"id\": 28, \"name\": \"Action\"}, {\"id\": 80, \"nam...</td>\n",
       "      <td>http://www.thedarkknightrises.com/</td>\n",
       "      <td>49026</td>\n",
       "      <td>[{\"id\": 849, \"name\": \"dc comics\"}, {\"id\": 853,...</td>\n",
       "      <td>en</td>\n",
       "      <td>The Dark Knight Rises</td>\n",
       "      <td>Following the death of District Attorney Harve...</td>\n",
       "      <td>112.312950</td>\n",
       "      <td>[{\"name\": \"Legendary Pictures\", \"id\": 923}, {\"...</td>\n",
       "      <td>[{\"iso_3166_1\": \"US\", \"name\": \"United States o...</td>\n",
       "      <td>2012-07-16</td>\n",
       "      <td>1084939099</td>\n",
       "      <td>165.0</td>\n",
       "      <td>[{\"iso_639_1\": \"en\", \"name\": \"English\"}]</td>\n",
       "      <td>Released</td>\n",
       "      <td>The Legend Ends</td>\n",
       "      <td>The Dark Knight Rises</td>\n",
       "      <td>7.6</td>\n",
       "      <td>9106</td>\n",
       "    </tr>\n",
       "    <tr>\n",
       "      <th>4</th>\n",
       "      <td>260000000</td>\n",
       "      <td>[{\"id\": 28, \"name\": \"Action\"}, {\"id\": 12, \"nam...</td>\n",
       "      <td>http://movies.disney.com/john-carter</td>\n",
       "      <td>49529</td>\n",
       "      <td>[{\"id\": 818, \"name\": \"based on novel\"}, {\"id\":...</td>\n",
       "      <td>en</td>\n",
       "      <td>John Carter</td>\n",
       "      <td>John Carter is a war-weary, former military ca...</td>\n",
       "      <td>43.926995</td>\n",
       "      <td>[{\"name\": \"Walt Disney Pictures\", \"id\": 2}]</td>\n",
       "      <td>[{\"iso_3166_1\": \"US\", \"name\": \"United States o...</td>\n",
       "      <td>2012-03-07</td>\n",
       "      <td>284139100</td>\n",
       "      <td>132.0</td>\n",
       "      <td>[{\"iso_639_1\": \"en\", \"name\": \"English\"}]</td>\n",
       "      <td>Released</td>\n",
       "      <td>Lost in our world, found in another.</td>\n",
       "      <td>John Carter</td>\n",
       "      <td>6.1</td>\n",
       "      <td>2124</td>\n",
       "    </tr>\n",
       "  </tbody>\n",
       "</table>\n",
       "</div>"
      ],
      "text/plain": [
       "      budget                                             genres  \\\n",
       "0  237000000  [{\"id\": 28, \"name\": \"Action\"}, {\"id\": 12, \"nam...   \n",
       "1  300000000  [{\"id\": 12, \"name\": \"Adventure\"}, {\"id\": 14, \"...   \n",
       "2  245000000  [{\"id\": 28, \"name\": \"Action\"}, {\"id\": 12, \"nam...   \n",
       "3  250000000  [{\"id\": 28, \"name\": \"Action\"}, {\"id\": 80, \"nam...   \n",
       "4  260000000  [{\"id\": 28, \"name\": \"Action\"}, {\"id\": 12, \"nam...   \n",
       "\n",
       "                                       homepage      id  \\\n",
       "0                   http://www.avatarmovie.com/   19995   \n",
       "1  http://disney.go.com/disneypictures/pirates/     285   \n",
       "2   http://www.sonypictures.com/movies/spectre/  206647   \n",
       "3            http://www.thedarkknightrises.com/   49026   \n",
       "4          http://movies.disney.com/john-carter   49529   \n",
       "\n",
       "                                            keywords original_language  \\\n",
       "0  [{\"id\": 1463, \"name\": \"culture clash\"}, {\"id\":...                en   \n",
       "1  [{\"id\": 270, \"name\": \"ocean\"}, {\"id\": 726, \"na...                en   \n",
       "2  [{\"id\": 470, \"name\": \"spy\"}, {\"id\": 818, \"name...                en   \n",
       "3  [{\"id\": 849, \"name\": \"dc comics\"}, {\"id\": 853,...                en   \n",
       "4  [{\"id\": 818, \"name\": \"based on novel\"}, {\"id\":...                en   \n",
       "\n",
       "                             original_title  \\\n",
       "0                                    Avatar   \n",
       "1  Pirates of the Caribbean: At World's End   \n",
       "2                                   Spectre   \n",
       "3                     The Dark Knight Rises   \n",
       "4                               John Carter   \n",
       "\n",
       "                                            overview  popularity  \\\n",
       "0  In the 22nd century, a paraplegic Marine is di...  150.437577   \n",
       "1  Captain Barbossa, long believed to be dead, ha...  139.082615   \n",
       "2  A cryptic message from Bond’s past sends him o...  107.376788   \n",
       "3  Following the death of District Attorney Harve...  112.312950   \n",
       "4  John Carter is a war-weary, former military ca...   43.926995   \n",
       "\n",
       "                                production_companies  \\\n",
       "0  [{\"name\": \"Ingenious Film Partners\", \"id\": 289...   \n",
       "1  [{\"name\": \"Walt Disney Pictures\", \"id\": 2}, {\"...   \n",
       "2  [{\"name\": \"Columbia Pictures\", \"id\": 5}, {\"nam...   \n",
       "3  [{\"name\": \"Legendary Pictures\", \"id\": 923}, {\"...   \n",
       "4        [{\"name\": \"Walt Disney Pictures\", \"id\": 2}]   \n",
       "\n",
       "                                production_countries release_date     revenue  \\\n",
       "0  [{\"iso_3166_1\": \"US\", \"name\": \"United States o...   2009-12-10  2787965087   \n",
       "1  [{\"iso_3166_1\": \"US\", \"name\": \"United States o...   2007-05-19   961000000   \n",
       "2  [{\"iso_3166_1\": \"GB\", \"name\": \"United Kingdom\"...   2015-10-26   880674609   \n",
       "3  [{\"iso_3166_1\": \"US\", \"name\": \"United States o...   2012-07-16  1084939099   \n",
       "4  [{\"iso_3166_1\": \"US\", \"name\": \"United States o...   2012-03-07   284139100   \n",
       "\n",
       "   runtime                                   spoken_languages    status  \\\n",
       "0    162.0  [{\"iso_639_1\": \"en\", \"name\": \"English\"}, {\"iso...  Released   \n",
       "1    169.0           [{\"iso_639_1\": \"en\", \"name\": \"English\"}]  Released   \n",
       "2    148.0  [{\"iso_639_1\": \"fr\", \"name\": \"Fran\\u00e7ais\"},...  Released   \n",
       "3    165.0           [{\"iso_639_1\": \"en\", \"name\": \"English\"}]  Released   \n",
       "4    132.0           [{\"iso_639_1\": \"en\", \"name\": \"English\"}]  Released   \n",
       "\n",
       "                                          tagline  \\\n",
       "0                     Enter the World of Pandora.   \n",
       "1  At the end of the world, the adventure begins.   \n",
       "2                           A Plan No One Escapes   \n",
       "3                                 The Legend Ends   \n",
       "4            Lost in our world, found in another.   \n",
       "\n",
       "                                      title  vote_average  vote_count  \n",
       "0                                    Avatar           7.2       11800  \n",
       "1  Pirates of the Caribbean: At World's End           6.9        4500  \n",
       "2                                   Spectre           6.3        4466  \n",
       "3                     The Dark Knight Rises           7.6        9106  \n",
       "4                               John Carter           6.1        2124  "
      ]
     },
     "execution_count": 41,
     "metadata": {},
     "output_type": "execute_result"
    }
   ],
   "source": [
    "movies.head()"
   ]
  },
  {
   "cell_type": "code",
   "execution_count": 9,
   "id": "964c3f04",
   "metadata": {},
   "outputs": [
    {
     "data": {
      "application/vnd.microsoft.datawrangler.viewer.v0+json": {
       "columns": [
        {
         "name": "index",
         "rawType": "int64",
         "type": "integer"
        },
        {
         "name": "original_title",
         "rawType": "object",
         "type": "string"
        },
        {
         "name": "title",
         "rawType": "object",
         "type": "string"
        }
       ],
       "ref": "126a17fc-d51d-40d7-a192-2eb17d70e8ce",
       "rows": [
        [
         "97",
         "シン・ゴジラ",
         "Shin Godzilla"
        ],
        [
         "215",
         "4: Rise of the Silver Surfer",
         "Fantastic 4: Rise of the Silver Surfer"
        ],
        [
         "235",
         "Astérix aux Jeux Olympiques",
         "Asterix at the Olympic Games"
        ],
        [
         "317",
         "金陵十三釵",
         "The Flowers of War"
        ],
        [
         "474",
         "Évolution",
         "Evolution"
        ],
        [
         "488",
         "Arthur et les Minimoys",
         "Arthur and the Invisibles"
        ],
        [
         "492",
         "Don Gato: El inicio de la pandilla",
         "Top Cat Begins"
        ],
        [
         "561",
         "Deux frères",
         "Two Brothers"
        ],
        [
         "678",
         "天將雄師",
         "Dragon Blade"
        ],
        [
         "719",
         "Michael Jackson's This Is It",
         "This Is It"
        ],
        [
         "786",
         "西游记之孙悟空三打白骨精",
         "The Monkey King 2"
        ],
        [
         "861",
         "Un long dimanche de fiançailles",
         "A Very Long Engagement"
        ],
        [
         "985",
         "Joan of Arc",
         "The Messenger: The Story of Joan of Arc"
        ],
        [
         "1023",
         "1947: Earth",
         "Earth"
        ],
        [
         "1028",
         "Солярис",
         "Solaris"
        ],
        [
         "1095",
         "滿城盡帶黃金甲",
         "Curse of the Golden Flower"
        ],
        [
         "1136",
         "英雄",
         "Hero"
        ],
        [
         "1140",
         "Micmacs à tire-larigot",
         "Micmacs"
        ],
        [
         "1142",
         "Pourquoi j'ai pas mangé mon père",
         "Why I Did (Not) Eat My Father"
        ],
        [
         "1255",
         "Lo imposible",
         "The Impossible"
        ],
        [
         "1260",
         "Le fabuleux destin d'Amélie Poulain",
         "Amélie"
        ],
        [
         "1284",
         "投名狀",
         "The Warlords"
        ],
        [
         "1285",
         "Nomad",
         "Nomad: The Warrior"
        ],
        [
         "1287",
         "Un monstre à Paris",
         "A Monster in Paris"
        ],
        [
         "1298",
         "Chi bi",
         "Red Cliff"
        ],
        [
         "1304",
         "一代宗師",
         "The Grandmaster"
        ],
        [
         "1341",
         "Obitaemyy Ostrov",
         "The Inhabited Island"
        ],
        [
         "1357",
         "葉問3",
         "Ip Man 3"
        ],
        [
         "1460",
         "Le Hussard sur le toit",
         "The Horseman on the Roof"
        ],
        [
         "1471",
         "崖の上のポニョ",
         "Ponyo"
        ],
        [
         "1481",
         "The House of Magic",
         "Thunder and the House of Magic"
        ],
        [
         "1518",
         "디워",
         "Dragon Wars: D-War"
        ],
        [
         "1669",
         "Wu Ji",
         "The Promise"
        ],
        [
         "1672",
         "辛亥革命",
         "1911"
        ],
        [
         "1673",
         "Le petit Nicolas",
         "Little Nicholas"
        ],
        [
         "1676",
         "Konferenz der Tiere",
         "Animals United"
        ],
        [
         "1680",
         "Савва. Сердце воина",
         "Savva. Heart of the Warrior"
        ],
        [
         "1709",
         "キャプテンハーロック",
         "Space Pirate Captain Harlock"
        ],
        [
         "1730",
         "Le peuple migrateur",
         "Winged Migration"
        ],
        [
         "1761",
         "The Neverending Story",
         "The NeverEnding Story"
        ],
        [
         "1784",
         "EverAfter",
         "Ever After: A Cinderella Story"
        ],
        [
         "1802",
         "Highlander III: The Sorcerer",
         "Highlander: The Final Dimension"
        ],
        [
         "1822",
         "Viy",
         "Forbidden Kingdom"
        ],
        [
         "1919",
         "Un Plan parfait",
         "Fly Me to the Moon"
        ],
        [
         "1945",
         "La migliore offerta",
         "The Best Offer"
        ],
        [
         "1947",
         "Sammy's avonturen: De geheime doorgang",
         "A Turtle's Tale: Sammy's Adventures"
        ],
        [
         "1948",
         "Les petits mouchoirs",
         "Little White Lies"
        ],
        [
         "1950",
         "La véritable histoire du Chat Botté",
         "The True Story of Puss 'n Boots"
        ],
        [
         "1951",
         "Белка и Стрелка. Звёздные собаки",
         "Space Dogs"
        ],
        [
         "1955",
         "一個人的武林",
         "Kung Fu Jungle"
        ]
       ],
       "shape": {
        "columns": 2,
        "rows": 261
       }
      },
      "text/html": [
       "<div>\n",
       "<style scoped>\n",
       "    .dataframe tbody tr th:only-of-type {\n",
       "        vertical-align: middle;\n",
       "    }\n",
       "\n",
       "    .dataframe tbody tr th {\n",
       "        vertical-align: top;\n",
       "    }\n",
       "\n",
       "    .dataframe thead th {\n",
       "        text-align: right;\n",
       "    }\n",
       "</style>\n",
       "<table border=\"1\" class=\"dataframe\">\n",
       "  <thead>\n",
       "    <tr style=\"text-align: right;\">\n",
       "      <th></th>\n",
       "      <th>original_title</th>\n",
       "      <th>title</th>\n",
       "    </tr>\n",
       "  </thead>\n",
       "  <tbody>\n",
       "    <tr>\n",
       "      <th>97</th>\n",
       "      <td>シン・ゴジラ</td>\n",
       "      <td>Shin Godzilla</td>\n",
       "    </tr>\n",
       "    <tr>\n",
       "      <th>215</th>\n",
       "      <td>4: Rise of the Silver Surfer</td>\n",
       "      <td>Fantastic 4: Rise of the Silver Surfer</td>\n",
       "    </tr>\n",
       "    <tr>\n",
       "      <th>235</th>\n",
       "      <td>Astérix aux Jeux Olympiques</td>\n",
       "      <td>Asterix at the Olympic Games</td>\n",
       "    </tr>\n",
       "    <tr>\n",
       "      <th>317</th>\n",
       "      <td>金陵十三釵</td>\n",
       "      <td>The Flowers of War</td>\n",
       "    </tr>\n",
       "    <tr>\n",
       "      <th>474</th>\n",
       "      <td>Évolution</td>\n",
       "      <td>Evolution</td>\n",
       "    </tr>\n",
       "    <tr>\n",
       "      <th>...</th>\n",
       "      <td>...</td>\n",
       "      <td>...</td>\n",
       "    </tr>\n",
       "    <tr>\n",
       "      <th>4699</th>\n",
       "      <td>Lumea e a mea</td>\n",
       "      <td>The World Is Mine</td>\n",
       "    </tr>\n",
       "    <tr>\n",
       "      <th>4719</th>\n",
       "      <td>Une femme mariée: Suite de fragments d'un film...</td>\n",
       "      <td>The Married Woman</td>\n",
       "    </tr>\n",
       "    <tr>\n",
       "      <th>4751</th>\n",
       "      <td>Gabriela, Cravo e Canela</td>\n",
       "      <td>Gabriela</td>\n",
       "    </tr>\n",
       "    <tr>\n",
       "      <th>4790</th>\n",
       "      <td>دایره</td>\n",
       "      <td>The Circle</td>\n",
       "    </tr>\n",
       "    <tr>\n",
       "      <th>4792</th>\n",
       "      <td>キュア</td>\n",
       "      <td>Cure</td>\n",
       "    </tr>\n",
       "  </tbody>\n",
       "</table>\n",
       "<p>261 rows × 2 columns</p>\n",
       "</div>"
      ],
      "text/plain": [
       "                                         original_title  \\\n",
       "97                                               シン・ゴジラ   \n",
       "215                        4: Rise of the Silver Surfer   \n",
       "235                         Astérix aux Jeux Olympiques   \n",
       "317                                               金陵十三釵   \n",
       "474                                           Évolution   \n",
       "...                                                 ...   \n",
       "4699                                      Lumea e a mea   \n",
       "4719  Une femme mariée: Suite de fragments d'un film...   \n",
       "4751                           Gabriela, Cravo e Canela   \n",
       "4790                                              دایره   \n",
       "4792                                                キュア   \n",
       "\n",
       "                                       title  \n",
       "97                             Shin Godzilla  \n",
       "215   Fantastic 4: Rise of the Silver Surfer  \n",
       "235             Asterix at the Olympic Games  \n",
       "317                       The Flowers of War  \n",
       "474                                Evolution  \n",
       "...                                      ...  \n",
       "4699                       The World Is Mine  \n",
       "4719                       The Married Woman  \n",
       "4751                                Gabriela  \n",
       "4790                              The Circle  \n",
       "4792                                    Cure  \n",
       "\n",
       "[261 rows x 2 columns]"
      ]
     },
     "execution_count": 9,
     "metadata": {},
     "output_type": "execute_result"
    }
   ],
   "source": [
    "movies[['original_title', 'title']][movies.original_title != movies.title]"
   ]
  },
  {
   "cell_type": "code",
   "execution_count": 22,
   "id": "a9a0bab9",
   "metadata": {},
   "outputs": [
    {
     "data": {
      "text/plain": [
       "Index(['budget', 'genres', 'homepage', 'id', 'keywords', 'original_language',\n",
       "       'original_title', 'overview', 'popularity', 'production_companies',\n",
       "       'production_countries', 'release_date', 'revenue', 'runtime',\n",
       "       'spoken_languages', 'status', 'tagline', 'title', 'vote_average',\n",
       "       'vote_count'],\n",
       "      dtype='object')"
      ]
     },
     "execution_count": 22,
     "metadata": {},
     "output_type": "execute_result"
    }
   ],
   "source": [
    "movies.columns"
   ]
  },
  {
   "cell_type": "code",
   "execution_count": 35,
   "id": "d162ceaf",
   "metadata": {},
   "outputs": [
    {
     "data": {
      "application/vnd.microsoft.datawrangler.viewer.v0+json": {
       "columns": [
        {
         "name": "production_companies",
         "rawType": "object",
         "type": "string"
        },
        {
         "name": "count",
         "rawType": "int64",
         "type": "integer"
        }
       ],
       "ref": "d1687ee1-f4d4-4146-9a92-23f750038868",
       "rows": [
        [
         "[]",
         "351"
        ],
        [
         "[{\"name\": \"Paramount Pictures\", \"id\": 4}]",
         "58"
        ],
        [
         "[{\"name\": \"Universal Pictures\", \"id\": 33}]",
         "45"
        ],
        [
         "[{\"name\": \"New Line Cinema\", \"id\": 12}]",
         "38"
        ],
        [
         "[{\"name\": \"Columbia Pictures\", \"id\": 5}]",
         "37"
        ],
        [
         "[{\"name\": \"Metro-Goldwyn-Mayer (MGM)\", \"id\": 8411}]",
         "32"
        ],
        [
         "[{\"name\": \"Twentieth Century Fox Film Corporation\", \"id\": 306}]",
         "31"
        ],
        [
         "[{\"name\": \"Warner Bros.\", \"id\": 6194}]",
         "27"
        ],
        [
         "[{\"name\": \"Walt Disney Pictures\", \"id\": 2}]",
         "27"
        ],
        [
         "[{\"name\": \"Touchstone Pictures\", \"id\": 9195}]",
         "26"
        ],
        [
         "[{\"name\": \"Dimension Films\", \"id\": 7405}]",
         "17"
        ],
        [
         "[{\"name\": \"Columbia Pictures Corporation\", \"id\": 441}]",
         "16"
        ],
        [
         "[{\"name\": \"Miramax Films\", \"id\": 14}]",
         "16"
        ],
        [
         "[{\"name\": \"DreamWorks Animation\", \"id\": 521}]",
         "12"
        ],
        [
         "[{\"name\": \"United Artists\", \"id\": 60}]",
         "12"
        ],
        [
         "[{\"name\": \"Walt Disney Pictures\", \"id\": 2}, {\"name\": \"Pixar Animation Studios\", \"id\": 3}]",
         "11"
        ],
        [
         "[{\"name\": \"Fox 2000 Pictures\", \"id\": 711}]",
         "10"
        ],
        [
         "[{\"name\": \"Fox Searchlight Pictures\", \"id\": 43}]",
         "9"
        ],
        [
         "[{\"name\": \"Imagine Entertainment\", \"id\": 23}, {\"name\": \"Universal Pictures\", \"id\": 33}]",
         "9"
        ],
        [
         "[{\"name\": \"Walt Disney Pictures\", \"id\": 2}, {\"name\": \"Walt Disney Feature Animation\", \"id\": 10217}]",
         "9"
        ],
        [
         "[{\"name\": \"Marvel Studios\", \"id\": 420}]",
         "8"
        ],
        [
         "[{\"name\": \"Blue Sky Studios\", \"id\": 9383}, {\"name\": \"Twentieth Century Fox Animation\", \"id\": 11749}]",
         "8"
        ],
        [
         "[{\"name\": \"Lions Gate Films\", \"id\": 35}]",
         "8"
        ],
        [
         "[{\"name\": \"Hollywood Pictures\", \"id\": 915}, {\"name\": \"Cinergi Pictures Entertainment\", \"id\": 1504}]",
         "7"
        ],
        [
         "[{\"name\": \"United Artists\", \"id\": 60}, {\"name\": \"Eon Productions\", \"id\": 7576}, {\"name\": \"Danjaq\", \"id\": 10761}]",
         "7"
        ],
        [
         "[{\"name\": \"Eon Productions\", \"id\": 7576}]",
         "7"
        ],
        [
         "[{\"name\": \"TriStar Pictures\", \"id\": 559}]",
         "6"
        ],
        [
         "[{\"name\": \"DreamWorks SKG\", \"id\": 27}]",
         "6"
        ],
        [
         "[{\"name\": \"The Weinstein Company\", \"id\": 308}]",
         "5"
        ],
        [
         "[{\"name\": \"DreamWorks SKG\", \"id\": 27}, {\"name\": \"Pacific Data Images (PDI)\", \"id\": 520}, {\"name\": \"DreamWorks Animation\", \"id\": 521}]",
         "5"
        ],
        [
         "[{\"name\": \"Universal Pictures\", \"id\": 33}, {\"name\": \"Amblin Entertainment\", \"id\": 56}]",
         "5"
        ],
        [
         "[{\"name\": \"Focus Features\", \"id\": 10146}]",
         "5"
        ],
        [
         "[{\"name\": \"Orion Pictures\", \"id\": 41}]",
         "5"
        ],
        [
         "[{\"name\": \"Silver Pictures\", \"id\": 1885}, {\"name\": \"Warner Bros.\", \"id\": 6194}]",
         "5"
        ],
        [
         "[{\"name\": \"Screen Gems\", \"id\": 3287}]",
         "5"
        ],
        [
         "[{\"name\": \"Walt Disney Pictures\", \"id\": 2}, {\"name\": \"Walt Disney Animation Studios\", \"id\": 6125}]",
         "5"
        ],
        [
         "[{\"name\": \"Yash Raj Films\", \"id\": 1569}]",
         "5"
        ],
        [
         "[{\"name\": \"United Artists\", \"id\": 60}, {\"name\": \"Eon Productions\", \"id\": 7576}]",
         "5"
        ],
        [
         "[{\"name\": \"Lionsgate\", \"id\": 1632}]",
         "5"
        ],
        [
         "[{\"name\": \"Hollywood Pictures\", \"id\": 915}]",
         "5"
        ],
        [
         "[{\"name\": \"Walt Disney Productions\", \"id\": 3166}]",
         "5"
        ],
        [
         "[{\"name\": \"Columbia Pictures\", \"id\": 5}, {\"name\": \"Happy Madison Productions\", \"id\": 2608}]",
         "4"
        ],
        [
         "[{\"name\": \"Warner Bros.\", \"id\": 6194}, {\"name\": \"Morgan Creek Productions\", \"id\": 10210}]",
         "4"
        ],
        [
         "[{\"name\": \"Jerry Bruckheimer Films\", \"id\": 130}, {\"name\": \"Touchstone Pictures\", \"id\": 9195}]",
         "4"
        ],
        [
         "[{\"name\": \"Pixar Animation Studios\", \"id\": 3}]",
         "4"
        ],
        [
         "[{\"name\": \"DreamWorks SKG\", \"id\": 27}, {\"name\": \"DreamWorks Animation\", \"id\": 521}]",
         "4"
        ],
        [
         "[{\"name\": \"Columbia Pictures\", \"id\": 5}, {\"name\": \"Sony Pictures Animation\", \"id\": 2251}]",
         "4"
        ],
        [
         "[{\"name\": \"Lucasfilm\", \"id\": 1}, {\"name\": \"Paramount Pictures\", \"id\": 4}]",
         "4"
        ],
        [
         "[{\"name\": \"Artisan Entertainment\", \"id\": 2188}]",
         "4"
        ],
        [
         "[{\"name\": \"Cannon Films\", \"id\": 4110}]",
         "4"
        ]
       ],
       "shape": {
        "columns": 1,
        "rows": 3697
       }
      },
      "text/plain": [
       "production_companies\n",
       "[]                                                                                                                                                                                                                                                                                                                                                                                                                                                                                                                                                                              351\n",
       "[{\"name\": \"Paramount Pictures\", \"id\": 4}]                                                                                                                                                                                                                                                                                                                                                                                                                                                                                                                                        58\n",
       "[{\"name\": \"Universal Pictures\", \"id\": 33}]                                                                                                                                                                                                                                                                                                                                                                                                                                                                                                                                       45\n",
       "[{\"name\": \"New Line Cinema\", \"id\": 12}]                                                                                                                                                                                                                                                                                                                                                                                                                                                                                                                                          38\n",
       "[{\"name\": \"Columbia Pictures\", \"id\": 5}]                                                                                                                                                                                                                                                                                                                                                                                                                                                                                                                                         37\n",
       "                                                                                                                                                                                                                                                                                                                                                                                                                                                                                                                                                                               ... \n",
       "[{\"name\": \"New Line Cinema\", \"id\": 12}, {\"name\": \"Juno Pix\", \"id\": 4286}, {\"name\": \"Cecchi Gori Pictures\", \"id\": 65394}]                                                                                                                                                                                                                                                                                                                                                                                                                                                          1\n",
       "[{\"name\": \"WingNut Films\", \"id\": 11}, {\"name\": \"TriStar Pictures\", \"id\": 559}, {\"name\": \"Key Creatives\", \"id\": 2300}, {\"name\": \"Block / Hanson\", \"id\": 8504}, {\"name\": \"Canadian Film or Video Production Tax Credit (CPTC)\", \"id\": 8582}, {\"name\": \"The Department of Trade and Industry of South Africa\", \"id\": 10884}, {\"name\": \"QED International\", \"id\": 11029}, {\"name\": \"Province of British Columbia Production Services Tax Credit\", \"id\": 12200}, {\"name\": \"District 9\", \"id\": 20667}, {\"name\": \"New Zealand Post Digital and Visual Effects Grant\", \"id\": 20668}]      1\n",
       "[{\"name\": \"Paramount Pictures\", \"id\": 4}, {\"name\": \"Nickelodeon Movies\", \"id\": 2348}, {\"name\": \"United Plankton Pictures\", \"id\": 8921}, {\"name\": \"Paramount Animation\", \"id\": 24955}]                                                                                                                                                                                                                                                                                                                                                                                             1\n",
       "[{\"name\": \"Village Roadshow Pictures\", \"id\": 79}, {\"name\": \"Malpaso Productions\", \"id\": 171}, {\"name\": \"NPV Entertainment\", \"id\": 172}, {\"name\": \"Warner Bros.\", \"id\": 6194}]                                                                                                                                                                                                                                                                                                                                                                                                     1\n",
       "[{\"name\": \"rusty bear entertainment\", \"id\": 87986}, {\"name\": \"lucky crow films\", \"id\": 87987}]                                                                                                                                                                                                                                                                                                                                                                                                                                                                                    1\n",
       "Name: count, Length: 3697, dtype: int64"
      ]
     },
     "execution_count": 35,
     "metadata": {},
     "output_type": "execute_result"
    }
   ],
   "source": [
    "# movies['status'].value_counts()\n",
    "movies['production_companies'].value_counts()"
   ]
  },
  {
   "cell_type": "code",
   "execution_count": 54,
   "id": "4b959981",
   "metadata": {},
   "outputs": [
    {
     "data": {
      "application/vnd.microsoft.datawrangler.viewer.v0+json": {
       "columns": [
        {
         "name": "movie_id",
         "rawType": "int64",
         "type": "integer"
        },
        {
         "name": "count",
         "rawType": "int64",
         "type": "integer"
        }
       ],
       "ref": "71954261-6cfb-42d8-bd54-e8758d5cbeb6",
       "rows": [
        [
         "19995",
         "1"
        ],
        [
         "333355",
         "1"
        ],
        [
         "71157",
         "1"
        ],
        [
         "43418",
         "1"
        ],
        [
         "11588",
         "1"
        ],
        [
         "52010",
         "1"
        ],
        [
         "9671",
         "1"
        ],
        [
         "25968",
         "1"
        ],
        [
         "41248",
         "1"
        ],
        [
         "291081",
         "1"
        ],
        [
         "17926",
         "1"
        ],
        [
         "8883",
         "1"
        ],
        [
         "15699",
         "1"
        ],
        [
         "39806",
         "1"
        ],
        [
         "12454",
         "1"
        ],
        [
         "250349",
         "1"
        ],
        [
         "29514",
         "1"
        ],
        [
         "13483",
         "1"
        ],
        [
         "327833",
         "1"
        ],
        [
         "67675",
         "1"
        ],
        [
         "1547",
         "1"
        ],
        [
         "62676",
         "1"
        ],
        [
         "152747",
         "1"
        ],
        [
         "26022",
         "1"
        ],
        [
         "29963",
         "1"
        ],
        [
         "19644",
         "1"
        ],
        [
         "150202",
         "1"
        ],
        [
         "10696",
         "1"
        ],
        [
         "272693",
         "1"
        ],
        [
         "16727",
         "1"
        ],
        [
         "9451",
         "1"
        ],
        [
         "71805",
         "1"
        ],
        [
         "8069",
         "1"
        ],
        [
         "175528",
         "1"
        ],
        [
         "16323",
         "1"
        ],
        [
         "25196",
         "1"
        ],
        [
         "27329",
         "1"
        ],
        [
         "293670",
         "1"
        ],
        [
         "13776",
         "1"
        ],
        [
         "10472",
         "1"
        ],
        [
         "2359",
         "1"
        ],
        [
         "10585",
         "1"
        ],
        [
         "16162",
         "1"
        ],
        [
         "9400",
         "1"
        ],
        [
         "40794",
         "1"
        ],
        [
         "68684",
         "1"
        ],
        [
         "660",
         "1"
        ],
        [
         "14811",
         "1"
        ],
        [
         "27586",
         "1"
        ],
        [
         "30497",
         "1"
        ]
       ],
       "shape": {
        "columns": 1,
        "rows": 4803
       }
      },
      "text/plain": [
       "movie_id\n",
       "19995     1\n",
       "333355    1\n",
       "71157     1\n",
       "43418     1\n",
       "11588     1\n",
       "         ..\n",
       "13156     1\n",
       "293863    1\n",
       "16871     1\n",
       "307081    1\n",
       "25975     1\n",
       "Name: count, Length: 4803, dtype: int64"
      ]
     },
     "execution_count": 54,
     "metadata": {},
     "output_type": "execute_result"
    }
   ],
   "source": [
    "credits.movie_id.value_counts()"
   ]
  },
  {
   "cell_type": "code",
   "execution_count": 44,
   "id": "2f3473bf",
   "metadata": {},
   "outputs": [],
   "source": [
    "movies = movies.merge(credits, left_on='id', right_on='movie_id')"
   ]
  },
  {
   "cell_type": "code",
   "execution_count": 50,
   "id": "e560aa99",
   "metadata": {},
   "outputs": [],
   "source": [
    "movies.to_csv('movies_with_credits_merged.csv', index=False)"
   ]
  },
  {
   "cell_type": "markdown",
   "id": "78697300",
   "metadata": {},
   "source": [
    "### Now Data Preprocessing on the merged movie Dataset"
   ]
  },
  {
   "cell_type": "code",
   "execution_count": 1,
   "id": "53db5add",
   "metadata": {},
   "outputs": [],
   "source": [
    "import numpy as np\n",
    "import pandas as pd"
   ]
  },
  {
   "cell_type": "code",
   "execution_count": 18,
   "id": "511e03c9",
   "metadata": {},
   "outputs": [],
   "source": [
    "movies = pd.read_csv('Data/movies_with_credits_merged.csv')"
   ]
  },
  {
   "cell_type": "code",
   "execution_count": 19,
   "id": "0ee8416c",
   "metadata": {},
   "outputs": [],
   "source": [
    "movies = movies[['movie_id', 'title_x', 'genres', 'overview', 'keywords', 'cast', 'crew']]\n",
    "movies.rename(columns={'title_x': 'title'}, inplace=True)"
   ]
  },
  {
   "cell_type": "code",
   "execution_count": 20,
   "id": "5a683625",
   "metadata": {},
   "outputs": [],
   "source": [
    "movies.dropna(inplace=True)"
   ]
  },
  {
   "cell_type": "markdown",
   "id": "feae46e6",
   "metadata": {},
   "source": [
    "#### Function to fetch different fields"
   ]
  },
  {
   "cell_type": "code",
   "execution_count": 21,
   "id": "1e5a65b5",
   "metadata": {},
   "outputs": [],
   "source": [
    "import ast\n",
    "\n",
    "def get_names(obj, limit = None):\n",
    "    l = ast.literal_eval(obj)\n",
    "    names = []\n",
    "    counter = 0\n",
    "    for dict in l:\n",
    "        if(counter == limit):\n",
    "            break\n",
    "        names.append(dict['name'])\n",
    "        counter += 1\n",
    "    return names\n",
    "\n",
    "def get_director(obj):\n",
    "    names = []\n",
    "    l = ast.literal_eval(obj)\n",
    "    for dict in l:\n",
    "        if (dict['job'] == 'Director'):\n",
    "            names.append(dict['name'])\n",
    "            break\n",
    "    return names"
   ]
  },
  {
   "cell_type": "code",
   "execution_count": null,
   "id": "4a588f31",
   "metadata": {},
   "outputs": [],
   "source": [
    "movies[['cast', 'crew', 'genres', 'keywords', 'overview']] = movies.transform({\n",
    "    'cast': lambda x: get_names(x, 3),\n",
    "    'crew': get_director,\n",
    "    'genres': get_names,\n",
    "    'keywords': get_names,\n",
    "    'overview': str.split\n",
    "})"
   ]
  },
  {
   "cell_type": "code",
   "execution_count": 25,
   "id": "81402930",
   "metadata": {},
   "outputs": [],
   "source": [
    "movies.rename(columns={'crew': 'director'}, inplace=True)"
   ]
  },
  {
   "cell_type": "code",
   "execution_count": 27,
   "id": "5834451d",
   "metadata": {},
   "outputs": [
    {
     "data": {
      "application/vnd.microsoft.datawrangler.viewer.v0+json": {
       "columns": [
        {
         "name": "index",
         "rawType": "int64",
         "type": "integer"
        },
        {
         "name": "movie_id",
         "rawType": "int64",
         "type": "integer"
        },
        {
         "name": "title",
         "rawType": "object",
         "type": "string"
        },
        {
         "name": "genres",
         "rawType": "object",
         "type": "unknown"
        },
        {
         "name": "overview",
         "rawType": "object",
         "type": "unknown"
        },
        {
         "name": "keywords",
         "rawType": "object",
         "type": "unknown"
        },
        {
         "name": "cast",
         "rawType": "object",
         "type": "unknown"
        },
        {
         "name": "director",
         "rawType": "object",
         "type": "unknown"
        }
       ],
       "ref": "59794ab3-8518-4f1e-b0cf-6e97e5990474",
       "rows": [
        [
         "0",
         "19995",
         "Avatar",
         "['Action', 'Adventure', 'Fantasy', 'Science Fiction']",
         "['In', 'the', '22nd', 'century,', 'a', 'paraplegic', 'Marine', 'is', 'dispatched', 'to', 'the', 'moon', 'Pandora', 'on', 'a', 'unique', 'mission,', 'but', 'becomes', 'torn', 'between', 'following', 'orders', 'and', 'protecting', 'an', 'alien', 'civilization.']",
         "['culture clash', 'future', 'space war', 'space colony', 'society', 'space travel', 'futuristic', 'romance', 'space', 'alien', 'tribe', 'alien planet', 'cgi', 'marine', 'soldier', 'battle', 'love affair', 'anti war', 'power relations', 'mind and soul', '3d']",
         "['Sam Worthington', 'Zoe Saldana', 'Sigourney Weaver']",
         "['James Cameron']"
        ],
        [
         "1",
         "285",
         "Pirates of the Caribbean: At World's End",
         "['Adventure', 'Fantasy', 'Action']",
         "['Captain', 'Barbossa,', 'long', 'believed', 'to', 'be', 'dead,', 'has', 'come', 'back', 'to', 'life', 'and', 'is', 'headed', 'to', 'the', 'edge', 'of', 'the', 'Earth', 'with', 'Will', 'Turner', 'and', 'Elizabeth', 'Swann.', 'But', 'nothing', 'is', 'quite', 'as', 'it', 'seems.']",
         "['ocean', 'drug abuse', 'exotic island', 'east india trading company', \"love of one's life\", 'traitor', 'shipwreck', 'strong woman', 'ship', 'alliance', 'calypso', 'afterlife', 'fighter', 'pirate', 'swashbuckler', 'aftercreditsstinger']",
         "['Johnny Depp', 'Orlando Bloom', 'Keira Knightley']",
         "['Gore Verbinski']"
        ],
        [
         "2",
         "206647",
         "Spectre",
         "['Action', 'Adventure', 'Crime']",
         "['A', 'cryptic', 'message', 'from', 'Bond’s', 'past', 'sends', 'him', 'on', 'a', 'trail', 'to', 'uncover', 'a', 'sinister', 'organization.', 'While', 'M', 'battles', 'political', 'forces', 'to', 'keep', 'the', 'secret', 'service', 'alive,', 'Bond', 'peels', 'back', 'the', 'layers', 'of', 'deceit', 'to', 'reveal', 'the', 'terrible', 'truth', 'behind', 'SPECTRE.']",
         "['spy', 'based on novel', 'secret agent', 'sequel', 'mi6', 'british secret service', 'united kingdom']",
         "['Daniel Craig', 'Christoph Waltz', 'Léa Seydoux']",
         "['Sam Mendes']"
        ],
        [
         "3",
         "49026",
         "The Dark Knight Rises",
         "['Action', 'Crime', 'Drama', 'Thriller']",
         "['Following', 'the', 'death', 'of', 'District', 'Attorney', 'Harvey', 'Dent,', 'Batman', 'assumes', 'responsibility', 'for', \"Dent's\", 'crimes', 'to', 'protect', 'the', 'late', \"attorney's\", 'reputation', 'and', 'is', 'subsequently', 'hunted', 'by', 'the', 'Gotham', 'City', 'Police', 'Department.', 'Eight', 'years', 'later,', 'Batman', 'encounters', 'the', 'mysterious', 'Selina', 'Kyle', 'and', 'the', 'villainous', 'Bane,', 'a', 'new', 'terrorist', 'leader', 'who', 'overwhelms', \"Gotham's\", 'finest.', 'The', 'Dark', 'Knight', 'resurfaces', 'to', 'protect', 'a', 'city', 'that', 'has', 'branded', 'him', 'an', 'enemy.']",
         "['dc comics', 'crime fighter', 'terrorist', 'secret identity', 'burglar', 'hostage drama', 'time bomb', 'gotham city', 'vigilante', 'cover-up', 'superhero', 'villainess', 'tragic hero', 'terrorism', 'destruction', 'catwoman', 'cat burglar', 'imax', 'flood', 'criminal underworld', 'batman']",
         "['Christian Bale', 'Michael Caine', 'Gary Oldman']",
         "['Christopher Nolan']"
        ],
        [
         "4",
         "49529",
         "John Carter",
         "['Action', 'Adventure', 'Science Fiction']",
         "['John', 'Carter', 'is', 'a', 'war-weary,', 'former', 'military', 'captain', \"who's\", 'inexplicably', 'transported', 'to', 'the', 'mysterious', 'and', 'exotic', 'planet', 'of', 'Barsoom', '(Mars)', 'and', 'reluctantly', 'becomes', 'embroiled', 'in', 'an', 'epic', 'conflict.', \"It's\", 'a', 'world', 'on', 'the', 'brink', 'of', 'collapse,', 'and', 'Carter', 'rediscovers', 'his', 'humanity', 'when', 'he', 'realizes', 'the', 'survival', 'of', 'Barsoom', 'and', 'its', 'people', 'rests', 'in', 'his', 'hands.']",
         "['based on novel', 'mars', 'medallion', 'space travel', 'princess', 'alien', 'steampunk', 'martian', 'escape', 'edgar rice burroughs', 'alien race', 'superhuman strength', 'mars civilization', 'sword and planet', '19th century', '3d']",
         "['Taylor Kitsch', 'Lynn Collins', 'Samantha Morton']",
         "['Andrew Stanton']"
        ],
        [
         "5",
         "559",
         "Spider-Man 3",
         "['Fantasy', 'Action', 'Adventure']",
         "['The', 'seemingly', 'invincible', 'Spider-Man', 'goes', 'up', 'against', 'an', 'all-new', 'crop', 'of', 'villain', '–', 'including', 'the', 'shape-shifting', 'Sandman.', 'While', 'Spider-Man’s', 'superpowers', 'are', 'altered', 'by', 'an', 'alien', 'organism,', 'his', 'alter', 'ego,', 'Peter', 'Parker,', 'deals', 'with', 'nemesis', 'Eddie', 'Brock', 'and', 'also', 'gets', 'caught', 'up', 'in', 'a', 'love', 'triangle.']",
         "['dual identity', 'amnesia', 'sandstorm', \"love of one's life\", 'forgiveness', 'spider', 'wretch', 'death of a friend', 'egomania', 'sand', 'narcism', 'hostility', 'marvel comic', 'sequel', 'superhero', 'revenge']",
         "['Tobey Maguire', 'Kirsten Dunst', 'James Franco']",
         "['Sam Raimi']"
        ],
        [
         "6",
         "38757",
         "Tangled",
         "['Animation', 'Family']",
         "['When', 'the', \"kingdom's\", 'most', 'wanted-and', 'most', 'charming-bandit', 'Flynn', 'Rider', 'hides', 'out', 'in', 'a', 'mysterious', 'tower,', \"he's\", 'taken', 'hostage', 'by', 'Rapunzel,', 'a', 'beautiful', 'and', 'feisty', 'tower-bound', 'teen', 'with', '70', 'feet', 'of', 'magical,', 'golden', 'hair.', \"Flynn's\", 'curious', 'captor,', \"who's\", 'looking', 'for', 'her', 'ticket', 'out', 'of', 'the', 'tower', 'where', \"she's\", 'been', 'locked', 'away', 'for', 'years,', 'strikes', 'a', 'deal', 'with', 'the', 'handsome', 'thief', 'and', 'the', 'unlikely', 'duo', 'sets', 'off', 'on', 'an', 'action-packed', 'escapade,', 'complete', 'with', 'a', 'super-cop', 'horse,', 'an', 'over-protective', 'chameleon', 'and', 'a', 'gruff', 'gang', 'of', 'pub', 'thugs.']",
         "['hostage', 'magic', 'horse', 'fairy tale', 'musical', 'princess', 'animation', 'tower', 'blonde woman', 'selfishness', 'healing power', 'based on fairy tale', 'duringcreditsstinger', 'healing gift', 'animal sidekick']",
         "['Zachary Levi', 'Mandy Moore', 'Donna Murphy']",
         "['Byron Howard']"
        ],
        [
         "7",
         "99861",
         "Avengers: Age of Ultron",
         "['Action', 'Adventure', 'Science Fiction']",
         "['When', 'Tony', 'Stark', 'tries', 'to', 'jumpstart', 'a', 'dormant', 'peacekeeping', 'program,', 'things', 'go', 'awry', 'and', 'Earth’s', 'Mightiest', 'Heroes', 'are', 'put', 'to', 'the', 'ultimate', 'test', 'as', 'the', 'fate', 'of', 'the', 'planet', 'hangs', 'in', 'the', 'balance.', 'As', 'the', 'villainous', 'Ultron', 'emerges,', 'it', 'is', 'up', 'to', 'The', 'Avengers', 'to', 'stop', 'him', 'from', 'enacting', 'his', 'terrible', 'plans,', 'and', 'soon', 'uneasy', 'alliances', 'and', 'unexpected', 'action', 'pave', 'the', 'way', 'for', 'an', 'epic', 'and', 'unique', 'global', 'adventure.']",
         "['marvel comic', 'sequel', 'superhero', 'based on comic book', 'vision', 'superhero team', 'duringcreditsstinger', 'marvel cinematic universe', '3d']",
         "['Robert Downey Jr.', 'Chris Hemsworth', 'Mark Ruffalo']",
         "['Joss Whedon']"
        ],
        [
         "8",
         "767",
         "Harry Potter and the Half-Blood Prince",
         "['Adventure', 'Fantasy', 'Family']",
         "['As', 'Harry', 'begins', 'his', 'sixth', 'year', 'at', 'Hogwarts,', 'he', 'discovers', 'an', 'old', 'book', 'marked', 'as', \"'Property\", 'of', 'the', 'Half-Blood', \"Prince',\", 'and', 'begins', 'to', 'learn', 'more', 'about', 'Lord', \"Voldemort's\", 'dark', 'past.']",
         "['witch', 'magic', 'broom', 'school of witchcraft', 'wizardry', 'apparition', 'teenage crush', 'werewolf']",
         "['Daniel Radcliffe', 'Rupert Grint', 'Emma Watson']",
         "['David Yates']"
        ],
        [
         "9",
         "209112",
         "Batman v Superman: Dawn of Justice",
         "['Action', 'Adventure', 'Fantasy']",
         "['Fearing', 'the', 'actions', 'of', 'a', 'god-like', 'Super', 'Hero', 'left', 'unchecked,', 'Gotham', 'City’s', 'own', 'formidable,', 'forceful', 'vigilante', 'takes', 'on', 'Metropolis’s', 'most', 'revered,', 'modern-day', 'savior,', 'while', 'the', 'world', 'wrestles', 'with', 'what', 'sort', 'of', 'hero', 'it', 'really', 'needs.', 'And', 'with', 'Batman', 'and', 'Superman', 'at', 'war', 'with', 'one', 'another,', 'a', 'new', 'threat', 'quickly', 'arises,', 'putting', 'mankind', 'in', 'greater', 'danger', 'than', 'it’s', 'ever', 'known', 'before.']",
         "['dc comics', 'vigilante', 'superhero', 'based on comic book', 'revenge', 'super powers', 'clark kent', 'bruce wayne', 'dc extended universe']",
         "['Ben Affleck', 'Henry Cavill', 'Gal Gadot']",
         "['Zack Snyder']"
        ],
        [
         "10",
         "1452",
         "Superman Returns",
         "['Adventure', 'Fantasy', 'Action', 'Science Fiction']",
         "['Superman', 'returns', 'to', 'discover', 'his', '5-year', 'absence', 'has', 'allowed', 'Lex', 'Luthor', 'to', 'walk', 'free,', 'and', 'that', 'those', 'he', 'was', 'closest', 'too', 'felt', 'abandoned', 'and', 'have', 'moved', 'on.', 'Luthor', 'plots', 'his', 'ultimate', 'revenge', 'that', 'could', 'see', 'millions', 'killed', 'and', 'change', 'the', 'face', 'of', 'the', 'planet', 'forever,', 'as', 'well', 'as', 'ridding', 'himself', 'of', 'the', 'Man', 'of', 'Steel.']",
         "['saving the world', 'dc comics', 'invulnerability', 'sequel', 'superhero', 'based on comic book', 'kryptonite', 'super powers', 'superhuman strength', 'lex luthor']",
         "['Brandon Routh', 'Kevin Spacey', 'Kate Bosworth']",
         "['Bryan Singer']"
        ],
        [
         "11",
         "10764",
         "Quantum of Solace",
         "['Adventure', 'Action', 'Thriller', 'Crime']",
         "['Quantum', 'of', 'Solace', 'continues', 'the', 'adventures', 'of', 'James', 'Bond', 'after', 'Casino', 'Royale.', 'Betrayed', 'by', 'Vesper,', 'the', 'woman', 'he', 'loved,', '007', 'fights', 'the', 'urge', 'to', 'make', 'his', 'latest', 'mission', 'personal.', 'Pursuing', 'his', 'determination', 'to', 'uncover', 'the', 'truth,', 'Bond', 'and', 'M', 'interrogate', 'Mr.', 'White,', 'who', 'reveals', 'that', 'the', 'organization', 'that', 'blackmailed', 'Vesper', 'is', 'far', 'more', 'complex', 'and', 'dangerous', 'than', 'anyone', 'had', 'imagined.']",
         "['killing', 'undercover', 'secret agent', 'british secret service']",
         "['Daniel Craig', 'Olga Kurylenko', 'Mathieu Amalric']",
         "['Marc Forster']"
        ],
        [
         "12",
         "58",
         "Pirates of the Caribbean: Dead Man's Chest",
         "['Adventure', 'Fantasy', 'Action']",
         "['Captain', 'Jack', 'Sparrow', 'works', 'his', 'way', 'out', 'of', 'a', 'blood', 'debt', 'with', 'the', 'ghostly', 'Davey', 'Jones,', 'he', 'also', 'attempts', 'to', 'avoid', 'eternal', 'damnation.']",
         "['witch', 'fortune teller', 'bondage', 'exotic island', 'monster', 'captain', 'card game', 'east india trading company', 'compass', 'ship', 'daughter', 'pirate', 'swashbuckler', 'aftercreditsstinger']",
         "['Johnny Depp', 'Orlando Bloom', 'Keira Knightley']",
         "['Gore Verbinski']"
        ],
        [
         "13",
         "57201",
         "The Lone Ranger",
         "['Action', 'Adventure', 'Western']",
         "['The', 'Texas', 'Rangers', 'chase', 'down', 'a', 'gang', 'of', 'outlaws', 'led', 'by', 'Butch', 'Cavendish,', 'but', 'the', 'gang', 'ambushes', 'the', 'Rangers,', 'seemingly', 'killing', 'them', 'all.', 'One', 'survivor', 'is', 'found,', 'however,', 'by', 'an', 'American', 'Indian', 'named', 'Tonto,', 'who', 'nurses', 'him', 'back', 'to', 'health.', 'The', 'Ranger,', 'donning', 'a', 'mask', 'and', 'riding', 'a', 'white', 'stallion', 'named', 'Silver,', 'teams', 'up', 'with', 'Tonto', 'to', 'bring', 'the', 'unscrupulous', 'gang', 'and', 'others', 'of', 'that', 'ilk', 'to', 'justice.']",
         "['texas', 'horse', 'survivor', 'texas ranger', 'partner', 'outlaw', 'escape', 'lawyer', 'train', 'lone ranger', 'comanche', 'the lone ranger', 'tonto']",
         "['Johnny Depp', 'Armie Hammer', 'William Fichtner']",
         "['Gore Verbinski']"
        ],
        [
         "14",
         "49521",
         "Man of Steel",
         "['Action', 'Adventure', 'Fantasy', 'Science Fiction']",
         "['A', 'young', 'boy', 'learns', 'that', 'he', 'has', 'extraordinary', 'powers', 'and', 'is', 'not', 'of', 'this', 'earth.', 'As', 'a', 'young', 'man,', 'he', 'journeys', 'to', 'discover', 'where', 'he', 'came', 'from', 'and', 'what', 'he', 'was', 'sent', 'here', 'to', 'do.', 'But', 'the', 'hero', 'in', 'him', 'must', 'emerge', 'if', 'he', 'is', 'to', 'save', 'the', 'world', 'from', 'annihilation', 'and', 'become', 'the', 'symbol', 'of', 'hope', 'for', 'all', 'mankind.']",
         "['saving the world', 'dc comics', 'superhero', 'based on comic book', 'superhuman', 'alien invasion', 'reboot', 'super powers', 'dc extended universe']",
         "['Henry Cavill', 'Amy Adams', 'Michael Shannon']",
         "['Zack Snyder']"
        ],
        [
         "15",
         "2454",
         "The Chronicles of Narnia: Prince Caspian",
         "['Adventure', 'Family', 'Fantasy']",
         "['One', 'year', 'after', 'their', 'incredible', 'adventures', 'in', 'the', 'Lion,', 'the', 'Witch', 'and', 'the', 'Wardrobe,', 'Peter,', 'Edmund,', 'Lucy', 'and', 'Susan', 'Pevensie', 'return', 'to', 'Narnia', 'to', 'aid', 'a', 'young', 'prince', 'whose', 'life', 'has', 'been', 'threatened', 'by', 'the', 'evil', 'King', 'Miraz.', 'Now,', 'with', 'the', 'help', 'of', 'a', 'colorful', 'cast', 'of', 'new', 'characters,', 'including', 'Trufflehunter', 'the', 'badger', 'and', 'Nikabrik', 'the', 'dwarf,', 'the', 'Pevensie', 'clan', 'embarks', 'on', 'an', 'incredible', 'quest', 'to', 'ensure', 'that', 'Narnia', 'is', 'returned', 'to', 'its', 'rightful', 'heir.']",
         "['based on novel', 'fictional place', 'brother sister relationship', 'lion', 'human being', 'wretch', 'leap in time', 'matter of life and death', 'faith', 'uncle', 'narnia', 'fantasy world']",
         "['Ben Barnes', 'William Moseley', 'Anna Popplewell']",
         "['Andrew Adamson']"
        ],
        [
         "16",
         "24428",
         "The Avengers",
         "['Science Fiction', 'Action', 'Adventure']",
         "['When', 'an', 'unexpected', 'enemy', 'emerges', 'and', 'threatens', 'global', 'safety', 'and', 'security,', 'Nick', 'Fury,', 'director', 'of', 'the', 'international', 'peacekeeping', 'agency', 'known', 'as', 'S.H.I.E.L.D.,', 'finds', 'himself', 'in', 'need', 'of', 'a', 'team', 'to', 'pull', 'the', 'world', 'back', 'from', 'the', 'brink', 'of', 'disaster.', 'Spanning', 'the', 'globe,', 'a', 'daring', 'recruitment', 'effort', 'begins!']",
         "['new york', 'shield', 'marvel comic', 'superhero', 'based on comic book', 'alien invasion', 'superhero team', 'aftercreditsstinger', 'duringcreditsstinger', 'marvel cinematic universe']",
         "['Robert Downey Jr.', 'Chris Evans', 'Mark Ruffalo']",
         "['Joss Whedon']"
        ],
        [
         "17",
         "1865",
         "Pirates of the Caribbean: On Stranger Tides",
         "['Adventure', 'Action', 'Fantasy']",
         "['Captain', 'Jack', 'Sparrow', 'crosses', 'paths', 'with', 'a', 'woman', 'from', 'his', 'past,', 'and', \"he's\", 'not', 'sure', 'if', \"it's\", 'love', '--', 'or', 'if', \"she's\", 'a', 'ruthless', 'con', 'artist', \"who's\", 'using', 'him', 'to', 'find', 'the', 'fabled', 'Fountain', 'of', 'Youth.', 'When', 'she', 'forces', 'him', 'aboard', 'the', 'Queen', \"Anne's\", 'Revenge,', 'the', 'ship', 'of', 'the', 'formidable', 'pirate', 'Blackbeard,', 'Jack', 'finds', 'himself', 'on', 'an', 'unexpected', 'adventure', 'in', 'which', 'he', \"doesn't\", 'know', 'who', 'to', 'fear', 'more:', 'Blackbeard', 'or', 'the', 'woman', 'from', 'his', 'past.']",
         "['sea', 'captain', 'mutiny', 'sword', 'prime minister', 'sailing', 'silver', 'ship', 'duke', 'mermaid', 'pirate', 'soldier', 'battle', 'swashbuckler', 'aftercreditsstinger', '3d']",
         "['Johnny Depp', 'Penélope Cruz', 'Ian McShane']",
         "['Rob Marshall']"
        ],
        [
         "18",
         "41154",
         "Men in Black 3",
         "['Action', 'Comedy', 'Science Fiction']",
         "['Agents', 'J', '(Will', 'Smith)', 'and', 'K', '(Tommy', 'Lee', 'Jones)', 'are', 'back...in', 'time.', 'J', 'has', 'seen', 'some', 'inexplicable', 'things', 'in', 'his', '15', 'years', 'with', 'the', 'Men', 'in', 'Black,', 'but', 'nothing,', 'not', 'even', 'aliens,', 'perplexes', 'him', 'as', 'much', 'as', 'his', 'wry,', 'reticent', 'partner.', 'But', 'when', \"K's\", 'life', 'and', 'the', 'fate', 'of', 'the', 'planet', 'are', 'put', 'at', 'stake,', 'Agent', 'J', 'will', 'have', 'to', 'travel', 'back', 'in', 'time', 'to', 'put', 'things', 'right.', 'J', 'discovers', 'that', 'there', 'are', 'secrets', 'to', 'the', 'universe', 'that', 'K', 'never', 'told', 'him', '-', 'secrets', 'that', 'will', 'reveal', 'themselves', 'as', 'he', 'teams', 'up', 'with', 'the', 'young', 'Agent', 'K', '(Josh', 'Brolin)', 'to', 'save', 'his', 'partner,', 'the', 'agency,', 'and', 'the', 'future', 'of', 'humankind.']",
         "['time travel', 'time machine', 'alien', 'fictional government agency', 'seeing the future', 'changing history']",
         "['Will Smith', 'Tommy Lee Jones', 'Josh Brolin']",
         "['Barry Sonnenfeld']"
        ],
        [
         "19",
         "122917",
         "The Hobbit: The Battle of the Five Armies",
         "['Action', 'Adventure', 'Fantasy']",
         "['Immediately', 'after', 'the', 'events', 'of', 'The', 'Desolation', 'of', 'Smaug,', 'Bilbo', 'and', 'the', 'dwarves', 'try', 'to', 'defend', \"Erebor's\", 'mountain', 'of', 'treasure', 'from', 'others', 'who', 'claim', 'it:', 'the', 'men', 'of', 'the', 'ruined', 'Laketown', 'and', 'the', 'elves', 'of', 'Mirkwood.', 'Meanwhile', 'an', 'army', 'of', 'Orcs', 'led', 'by', 'Azog', 'the', 'Defiler', 'is', 'marching', 'on', 'Erebor,', 'fueled', 'by', 'the', 'rise', 'of', 'the', 'dark', 'lord', 'Sauron.', 'Dwarves,', 'elves', 'and', 'men', 'must', 'unite,', 'and', 'the', 'hope', 'for', 'Middle-Earth', 'falls', 'into', \"Bilbo's\", 'hands.']",
         "['corruption', 'elves', 'dwarves', 'orcs', 'middle-earth (tolkien)', 'hobbit', 'dragon', 'battle', 'unlikely friendship', 'epic battle', 'sword and sorcery']",
         "['Martin Freeman', 'Ian McKellen', 'Richard Armitage']",
         "['Peter Jackson']"
        ],
        [
         "20",
         "1930",
         "The Amazing Spider-Man",
         "['Action', 'Adventure', 'Fantasy']",
         "['Peter', 'Parker', 'is', 'an', 'outcast', 'high', 'schooler', 'abandoned', 'by', 'his', 'parents', 'as', 'a', 'boy,', 'leaving', 'him', 'to', 'be', 'raised', 'by', 'his', 'Uncle', 'Ben', 'and', 'Aunt', 'May.', 'Like', 'most', 'teenagers,', 'Peter', 'is', 'trying', 'to', 'figure', 'out', 'who', 'he', 'is', 'and', 'how', 'he', 'got', 'to', 'be', 'the', 'person', 'he', 'is', 'today.', 'As', 'Peter', 'discovers', 'a', 'mysterious', 'briefcase', 'that', 'belonged', 'to', 'his', 'father,', 'he', 'begins', 'a', 'quest', 'to', 'understand', 'his', \"parents'\", 'disappearance', '–', 'leading', 'him', 'directly', 'to', 'Oscorp', 'and', 'the', 'lab', 'of', 'Dr.', 'Curt', 'Connors,', 'his', \"father's\", 'former', 'partner.', 'As', 'Spider-Man', 'is', 'set', 'on', 'a', 'collision', 'course', 'with', \"Connors'\", 'alter', 'ego,', 'The', 'Lizard,', 'Peter', 'will', 'make', 'life-altering', 'choices', 'to', 'use', 'his', 'powers', 'and', 'shape', 'his', 'destiny', 'to', 'become', 'a', 'hero.']",
         "['loss of father', 'vigilante', 'serum', 'marvel comic', 'scientific experiment', 'spider bite', 'masked vigilante', 'reboot', 'super powers', 'genetic engineering', 'social outcast', 'duringcreditsstinger']",
         "['Andrew Garfield', 'Emma Stone', 'Rhys Ifans']",
         "['Marc Webb']"
        ],
        [
         "21",
         "20662",
         "Robin Hood",
         "['Action', 'Adventure']",
         "['When', 'soldier', 'Robin', 'happens', 'upon', 'the', 'dying', 'Robert', 'of', 'Loxley,', 'he', 'promises', 'to', 'return', 'the', \"man's\", 'sword', 'to', 'his', 'family', 'in', 'Nottingham.', 'There,', 'he', 'assumes', \"Robert's\", 'identity;', 'romances', 'his', 'widow,', 'Marion;', 'and', 'draws', 'the', 'ire', 'of', 'the', \"town's\", 'sheriff', 'and', 'King', \"John's\", 'henchman,', 'Godfrey.']",
         "['robin hood', 'archer', 'knight', 'sherwood forest', 'bow and arrow', 'middle ages', 'medieval', 'king of england']",
         "['Russell Crowe', 'Cate Blanchett', 'Max von Sydow']",
         "['Ridley Scott']"
        ],
        [
         "22",
         "57158",
         "The Hobbit: The Desolation of Smaug",
         "['Adventure', 'Fantasy']",
         "['The', 'Dwarves,', 'Bilbo', 'and', 'Gandalf', 'have', 'successfully', 'escaped', 'the', 'Misty', 'Mountains,', 'and', 'Bilbo', 'has', 'gained', 'the', 'One', 'Ring.', 'They', 'all', 'continue', 'their', 'journey', 'to', 'get', 'their', 'gold', 'back', 'from', 'the', 'Dragon,', 'Smaug.']",
         "['elves', 'dwarves', 'orcs', 'hobbit', 'dragon', 'wizard', 'sword and sorcery']",
         "['Martin Freeman', 'Ian McKellen', 'Richard Armitage']",
         "['Peter Jackson']"
        ],
        [
         "23",
         "2268",
         "The Golden Compass",
         "['Adventure', 'Fantasy']",
         "['After', 'overhearing', 'a', 'shocking', 'secret,', 'precocious', 'orphan', 'Lyra', 'Belacqua', 'trades', 'her', 'carefree', 'existence', 'roaming', 'the', 'halls', 'of', 'Jordan', 'College', 'for', 'an', 'otherworldly', 'adventure', 'in', 'the', 'far', 'North,', 'unaware', 'that', \"it's\", 'part', 'of', 'her', 'destiny.']",
         "['england', 'compass', 'experiment', 'lordship', 'uncle', 'polar bear', 'orphan', 'animal', 'based on young adult novel']",
         "['Dakota Blue Richards', 'Nicole Kidman', 'Daniel Craig']",
         "['Chris Weitz']"
        ],
        [
         "24",
         "254",
         "King Kong",
         "['Adventure', 'Drama', 'Action']",
         "['In', '1933', 'New', 'York,', 'an', 'overly', 'ambitious', 'movie', 'producer', 'coerces', 'his', 'cast', 'and', 'hired', 'ship', 'crew', 'to', 'travel', 'to', 'mysterious', 'Skull', 'Island,', 'where', 'they', 'encounter', 'Kong,', 'a', 'giant', 'ape', 'who', 'is', 'immediately', 'smitten', 'with', 'the', 'leading', 'lady.']",
         "['film business', 'screenplay', 'show business', 'film making', 'film producer', 'exotic island', 'monster', 'indigenous', 'ship', 'dinosaur']",
         "['Naomi Watts', 'Jack Black', 'Adrien Brody']",
         "['Peter Jackson']"
        ],
        [
         "25",
         "597",
         "Titanic",
         "['Drama', 'Romance', 'Thriller']",
         "['84', 'years', 'later,', 'a', '101-year-old', 'woman', 'named', 'Rose', 'DeWitt', 'Bukater', 'tells', 'the', 'story', 'to', 'her', 'granddaughter', 'Lizzy', 'Calvert,', 'Brock', 'Lovett,', 'Lewis', 'Bodine,', 'Bobby', 'Buell', 'and', 'Anatoly', 'Mikailavich', 'on', 'the', 'Keldysh', 'about', 'her', 'life', 'set', 'in', 'April', '10th', '1912,', 'on', 'a', 'ship', 'called', 'Titanic', 'when', 'young', 'Rose', 'boards', 'the', 'departing', 'ship', 'with', 'the', 'upper-class', 'passengers', 'and', 'her', 'mother,', 'Ruth', 'DeWitt', 'Bukater,', 'and', 'her', 'fiancé,', 'Caledon', 'Hockley.', 'Meanwhile,', 'a', 'drifter', 'and', 'artist', 'named', 'Jack', 'Dawson', 'and', 'his', 'best', 'friend', 'Fabrizio', 'De', 'Rossi', 'win', 'third-class', 'tickets', 'to', 'the', 'ship', 'in', 'a', 'game.', 'And', 'she', 'explains', 'the', 'whole', 'story', 'from', 'departure', 'until', 'the', 'death', 'of', 'Titanic', 'on', 'its', 'first', 'and', 'last', 'voyage', 'April', '15th,', '1912', 'at', '2:20', 'in', 'the', 'morning.']",
         "['shipwreck', 'iceberg', 'ship', 'panic', 'titanic', 'ocean liner', 'epic', 'rich woman - poor man', 'love', 'disaster', 'tragic love', 'class differences', 'imax', 'star crossed lovers', 'steerage', 'salvage', 'rich snob', '3d', '1910s']",
         "['Kate Winslet', 'Leonardo DiCaprio', 'Frances Fisher']",
         "['James Cameron']"
        ],
        [
         "26",
         "271110",
         "Captain America: Civil War",
         "['Adventure', 'Action', 'Science Fiction']",
         "['Following', 'the', 'events', 'of', 'Age', 'of', 'Ultron,', 'the', 'collective', 'governments', 'of', 'the', 'world', 'pass', 'an', 'act', 'designed', 'to', 'regulate', 'all', 'superhuman', 'activity.', 'This', 'polarizes', 'opinion', 'amongst', 'the', 'Avengers,', 'causing', 'two', 'factions', 'to', 'side', 'with', 'Iron', 'Man', 'or', 'Captain', 'America,', 'which', 'causes', 'an', 'epic', 'battle', 'between', 'former', 'allies.']",
         "['civil war', 'war', 'marvel comic', 'sequel', 'superhero', 'based on comic book', 'imax', 'aftercreditsstinger', 'duringcreditsstinger', 'marvel cinematic universe', '3d']",
         "['Chris Evans', 'Robert Downey Jr.', 'Scarlett Johansson']",
         "['Anthony Russo']"
        ],
        [
         "27",
         "44833",
         "Battleship",
         "['Thriller', 'Action', 'Adventure', 'Science Fiction']",
         "['When', 'mankind', 'beams', 'a', 'radio', 'signal', 'into', 'space,', 'a', 'reply', 'comes', 'from', '‘Planet', 'G’,', 'in', 'the', 'form', 'of', 'several', 'alien', 'crafts', 'that', 'splash', 'down', 'in', 'the', 'waters', 'off', 'Hawaii.', 'Lieutenant', 'Alex', 'Hopper', 'is', 'a', 'weapons', 'officer', 'assigned', 'to', 'the', 'USS', 'John', 'Paul', 'Jones,', 'part', 'of', 'an', 'international', 'naval', 'coalition', 'which', 'becomes', 'the', \"world's\", 'last', 'hope', 'for', 'survival', 'as', 'they', 'engage', 'the', 'hostile', 'alien', 'force', 'of', 'unimaginable', 'strength.', 'While', 'taking', 'on', 'the', 'invaders,', 'Hopper', 'must', 'also', 'try', 'to', 'live', 'up', 'to', 'the', 'potential', 'his', 'brother,', 'and', 'his', \"fiancée's\", 'father,', 'Admiral', 'Shane,', 'expect', 'of', 'him.']",
         "['fight', 'u.s. navy', 'mind reading', 'hong kong', 'soccer', 'scientist', 'fictional war', 'naval', 'armada', 'battleship', 'naval combat', 'jds myoko', 'lost communication', 'taser', 'buoy', 'communications expert', 'joint chiefs of staff', 'crash landing', 'jet fighter pilot', 'navy lieutenant', 'permission to marry', 'uss john paul jones', 'based on board game', 'aftercreditsstinger', 'mighty mo', 'uss missouri']",
         "['Taylor Kitsch', 'Alexander Skarsgård', 'Rihanna']",
         "['Peter Berg']"
        ],
        [
         "28",
         "135397",
         "Jurassic World",
         "['Action', 'Adventure', 'Science Fiction', 'Thriller']",
         "['Twenty-two', 'years', 'after', 'the', 'events', 'of', 'Jurassic', 'Park,', 'Isla', 'Nublar', 'now', 'features', 'a', 'fully', 'functioning', 'dinosaur', 'theme', 'park,', 'Jurassic', 'World,', 'as', 'originally', 'envisioned', 'by', 'John', 'Hammond.']",
         "['monster', 'dna', 'tyrannosaurus rex', 'velociraptor', 'island', 'sequel', 'suspense', 'disaster', 'escape', 'dinosaur', 'amusement park', 'animal attack', 'theme park', 'jurassic park', '3d', 'animal horror']",
         "['Chris Pratt', 'Bryce Dallas Howard', 'Irrfan Khan']",
         "['Colin Trevorrow']"
        ],
        [
         "29",
         "37724",
         "Skyfall",
         "['Action', 'Adventure', 'Thriller']",
         "['When', \"Bond's\", 'latest', 'assignment', 'goes', 'gravely', 'wrong', 'and', 'agents', 'around', 'the', 'world', 'are', 'exposed,', 'MI6', 'is', 'attacked', 'forcing', 'M', 'to', 'relocate', 'the', 'agency.', 'These', 'events', 'cause', 'her', 'authority', 'and', 'position', 'to', 'be', 'challenged', 'by', 'Gareth', 'Mallory,', 'the', 'new', 'Chairman', 'of', 'the', 'Intelligence', 'and', 'Security', 'Committee.', 'With', 'MI6', 'now', 'compromised', 'from', 'both', 'inside', 'and', 'out,', 'M', 'is', 'left', 'with', 'one', 'ally', 'she', 'can', 'trust:', 'Bond.', '007', 'takes', 'to', 'the', 'shadows', '-', 'aided', 'only', 'by', 'field', 'agent,', 'Eve', '-', 'following', 'a', 'trail', 'to', 'the', 'mysterious', 'Silva,', 'whose', 'lethal', 'and', 'hidden', 'motives', 'have', 'yet', 'to', 'reveal', 'themselves.']",
         "['spy', 'secret agent', 'sociopath', 'killer', 'art gallery', 'british secret service', 'istanbul turkey', 'imax', 'uzi', 'booby trap', 'impersonating a police officer', 'macao']",
         "['Daniel Craig', 'Judi Dench', 'Javier Bardem']",
         "['Sam Mendes']"
        ],
        [
         "30",
         "558",
         "Spider-Man 2",
         "['Action', 'Adventure', 'Fantasy']",
         "['Peter', 'Parker', 'is', 'going', 'through', 'a', 'major', 'identity', 'crisis.', 'Burned', 'out', 'from', 'being', 'Spider-Man,', 'he', 'decides', 'to', 'shelve', 'his', 'superhero', 'alter', 'ego,', 'which', 'leaves', 'the', 'city', 'suffering', 'in', 'the', 'wake', 'of', 'carnage', 'left', 'by', 'the', 'evil', 'Doc', 'Ock.', 'In', 'the', 'meantime,', 'Parker', 'still', \"can't\", 'act', 'on', 'his', 'feelings', 'for', 'Mary', 'Jane', 'Watson,', 'a', 'girl', \"he's\", 'loved', 'since', 'childhood.']",
         "['dual identity', \"love of one's life\", 'pizza boy', 'marvel comic', 'sequel', 'superhero', 'doctor', 'scientist', 'tentacle', 'death', 'super villain']",
         "['Tobey Maguire', 'Kirsten Dunst', 'James Franco']",
         "['Sam Raimi']"
        ],
        [
         "31",
         "68721",
         "Iron Man 3",
         "['Action', 'Adventure', 'Science Fiction']",
         "['When', 'Tony', \"Stark's\", 'world', 'is', 'torn', 'apart', 'by', 'a', 'formidable', 'terrorist', 'called', 'the', 'Mandarin,', 'he', 'starts', 'an', 'odyssey', 'of', 'rebuilding', 'and', 'retribution.']",
         "['terrorist', 'war on terror', 'tennessee', 'malibu', 'marvel comic', 'superhero', 'based on comic book', 'tony stark', 'iron man', 'aftercreditsstinger', 'marvel cinematic universe', 'mandarin', '3d', 'war machine', 'iron patriot', 'extremis']",
         "['Robert Downey Jr.', 'Gwyneth Paltrow', 'Don Cheadle']",
         "['Shane Black']"
        ],
        [
         "32",
         "12155",
         "Alice in Wonderland",
         "['Family', 'Fantasy', 'Adventure']",
         "['Alice,', 'an', 'unpretentious', 'and', 'individual', '19-year-old,', 'is', 'betrothed', 'to', 'a', 'dunce', 'of', 'an', 'English', 'nobleman.', 'At', 'her', 'engagement', 'party,', 'she', 'escapes', 'the', 'crowd', 'to', 'consider', 'whether', 'to', 'go', 'through', 'with', 'the', 'marriage', 'and', 'falls', 'down', 'a', 'hole', 'in', 'the', 'garden', 'after', 'spotting', 'an', 'unusual', 'rabbit.', 'Arriving', 'in', 'a', 'strange', 'and', 'surreal', 'place', 'called', \"'Underland,'\", 'she', 'finds', 'herself', 'in', 'a', 'world', 'that', 'resembles', 'the', 'nightmares', 'she', 'had', 'as', 'a', 'child,', 'filled', 'with', 'talking', 'animals,', 'villainous', 'queens', 'and', 'knights,', 'and', 'frumious', 'bandersnatches.', 'Alice', 'realizes', 'that', 'she', 'is', 'there', 'for', 'a', 'reason', '–', 'to', 'conquer', 'the', 'horrific', 'Jabberwocky', 'and', 'restore', 'the', 'rightful', 'queen', 'to', 'her', 'throne.']",
         "['based on novel', 'fictional place', 'queen', 'fantasy', 'alice in wonderland', 'fantasy world', '3d']",
         "['Mia Wasikowska', 'Johnny Depp', 'Anne Hathaway']",
         "['Tim Burton']"
        ],
        [
         "33",
         "36668",
         "X-Men: The Last Stand",
         "['Adventure', 'Action', 'Science Fiction', 'Thriller']",
         "['When', 'a', 'cure', 'is', 'found', 'to', 'treat', 'mutations,', 'lines', 'are', 'drawn', 'amongst', 'the', 'X-Men', 'and', 'The', 'Brotherhood,', 'a', 'band', 'of', 'powerful', 'mutants', 'organized', 'under', \"Xavier's\", 'former', 'ally,', 'Magneto.']",
         "['mutant', 'marvel comic', 'based on comic book', 'superhuman', 'beast', 'cyclops', 'aftercreditsstinger']",
         "['Hugh Jackman', 'Halle Berry', 'Ian McKellen']",
         "['Brett Ratner']"
        ],
        [
         "34",
         "62211",
         "Monsters University",
         "['Animation', 'Family']",
         "['A', 'look', 'at', 'the', 'relationship', 'between', 'Mike', 'and', 'Sulley', 'during', 'their', 'days', 'at', 'Monsters', 'University', '—', 'when', 'they', \"weren't\", 'necessarily', 'the', 'best', 'of', 'friends.']",
         "['monster', 'dormitory', 'games', 'animation', 'best friend', 'university', 'scary', 'aftercreditsstinger']",
         "['Billy Crystal', 'John Goodman', 'Steve Buscemi']",
         "['Dan Scanlon']"
        ],
        [
         "35",
         "8373",
         "Transformers: Revenge of the Fallen",
         "['Science Fiction', 'Action', 'Adventure']",
         "['Sam', 'Witwicky', 'leaves', 'the', 'Autobots', 'behind', 'for', 'a', 'normal', 'life.', 'But', 'when', 'his', 'mind', 'is', 'filled', 'with', 'cryptic', 'symbols,', 'the', 'Decepticons', 'target', 'him', 'and', 'he', 'is', 'dragged', 'back', 'into', 'the', \"Transformers'\", 'war.']",
         "['egypt', 'sun', 'chaos', 'symbol', 'artifact', 'transformers', 'tank', 'robot', 'imax', 'duringcreditsstinger']",
         "['Shia LaBeouf', 'Megan Fox', 'Josh Duhamel']",
         "['Michael Bay']"
        ],
        [
         "36",
         "91314",
         "Transformers: Age of Extinction",
         "['Science Fiction', 'Action', 'Adventure']",
         "['As', 'humanity', 'picks', 'up', 'the', 'pieces,', 'following', 'the', 'conclusion', 'of', '\"Transformers:', 'Dark', 'of', 'the', 'Moon,\"', 'Autobots', 'and', 'Decepticons', 'have', 'all', 'but', 'vanished', 'from', 'the', 'face', 'of', 'the', 'planet.', 'However,', 'a', 'group', 'of', 'powerful,', 'ingenious', 'businessman', 'and', 'scientists', 'attempt', 'to', 'learn', 'from', 'past', 'Transformer', 'incursions', 'and', 'push', 'the', 'boundaries', 'of', 'technology', 'beyond', 'what', 'they', 'can', 'control', '-', 'all', 'while', 'an', 'ancient,', 'powerful', 'Transformer', 'menace', 'sets', 'Earth', 'in', 'his', 'cross-hairs.']",
         "['sequel', 'alien', 'transformers', 'giant robot', 'robot', 'imax', 'transforming robot']",
         "['Mark Wahlberg', 'Stanley Tucci', 'Kelsey Grammer']",
         "['Michael Bay']"
        ],
        [
         "37",
         "68728",
         "Oz: The Great and Powerful",
         "['Fantasy', 'Adventure', 'Family']",
         "['Oscar', 'Diggs,', 'a', 'small-time', 'circus', 'illusionist', 'and', 'con-artist,', 'is', 'whisked', 'from', 'Kansas', 'to', 'the', 'Land', 'of', 'Oz', 'where', 'the', 'inhabitants', 'assume', \"he's\", 'the', 'great', 'wizard', 'of', 'prophecy,', 'there', 'to', 'save', 'Oz', 'from', 'the', 'clutches', 'of', 'evil.']",
         "['circus', 'witch', 'magic', 'hope', 'illusion', 'lost', 'magic trick', 'wizard', '3d']",
         "['James Franco', 'Mila Kunis', 'Rachel Weisz']",
         "['Sam Raimi']"
        ],
        [
         "38",
         "102382",
         "The Amazing Spider-Man 2",
         "['Action', 'Adventure', 'Fantasy']",
         "['For', 'Peter', 'Parker,', 'life', 'is', 'busy.', 'Between', 'taking', 'out', 'the', 'bad', 'guys', 'as', 'Spider-Man', 'and', 'spending', 'time', 'with', 'the', 'person', 'he', 'loves,', 'Gwen', 'Stacy,', 'high', 'school', 'graduation', 'cannot', 'come', 'quickly', 'enough.', 'Peter', 'has', 'not', 'forgotten', 'about', 'the', 'promise', 'he', 'made', 'to', 'Gwen’s', 'father', 'to', 'protect', 'her', 'by', 'staying', 'away,', 'but', 'that', 'is', 'a', 'promise', 'he', 'cannot', 'keep.', 'Things', 'will', 'change', 'for', 'Peter', 'when', 'a', 'new', 'villain,', 'Electro,', 'emerges,', 'an', 'old', 'friend,', 'Harry', 'Osborn,', 'returns,', 'and', 'Peter', 'uncovers', 'new', 'clues', 'about', 'his', 'past.']",
         "['obsession', 'marvel comic', 'sequel', 'based on comic book', 'electrocution', 'medical experiment', 'electricity', 'super powers']",
         "['Andrew Garfield', 'Emma Stone', 'Jamie Foxx']",
         "['Marc Webb']"
        ],
        [
         "39",
         "20526",
         "TRON: Legacy",
         "['Adventure', 'Action', 'Science Fiction']",
         "['Sam', 'Flynn,', 'the', 'tech-savvy', 'and', 'daring', 'son', 'of', 'Kevin', 'Flynn,', 'investigates', 'his', \"father's\", 'disappearance', 'and', 'is', 'pulled', 'into', 'The', 'Grid.', 'With', 'the', 'help', 'of', 'a', 'mysterious', 'program', 'named', 'Quorra,', 'Sam', 'quests', 'to', 'stop', 'evil', 'dictator', 'Clu', 'from', 'crossing', 'into', 'the', 'real', 'world.']",
         "['artificial intelligence', 'secret identity', 'computer program', 'dystopia', 'computer', 'deception', 'duel', 'motorcycle', 'neon light', 'autocracy']",
         "['Garrett Hedlund', 'Jeff Bridges', 'Olivia Wilde']",
         "['Joseph Kosinski']"
        ],
        [
         "40",
         "49013",
         "Cars 2",
         "['Animation', 'Family', 'Adventure', 'Comedy']",
         "['Star', 'race', 'car', 'Lightning', 'McQueen', 'and', 'his', 'pal', 'Mater', 'head', 'overseas', 'to', 'compete', 'in', 'the', 'World', 'Grand', 'Prix', 'race.', 'But', 'the', 'road', 'to', 'the', 'championship', 'becomes', 'rocky', 'as', 'Mater', 'gets', 'caught', 'up', 'in', 'an', 'intriguing', 'adventure', 'of', 'his', 'own:', 'international', 'espionage.']",
         "['car race', 'sequel', 'comedy', 'anthropomorphism', 'best friend', 'duringcreditsstinger']",
         "['Owen Wilson', 'Larry the Cable Guy', 'Michael Caine']",
         "['John Lasseter']"
        ],
        [
         "41",
         "44912",
         "Green Lantern",
         "['Adventure', 'Action', 'Thriller', 'Science Fiction']",
         "['For', 'centuries,', 'a', 'small', 'but', 'powerful', 'force', 'of', 'warriors', 'called', 'the', 'Green', 'Lantern', 'Corps', 'has', 'sworn', 'to', 'keep', 'intergalactic', 'order.', 'Each', 'Green', 'Lantern', 'wears', 'a', 'ring', 'that', 'grants', 'him', 'superpowers.', 'But', 'when', 'a', 'new', 'enemy', 'called', 'Parallax', 'threatens', 'to', 'destroy', 'the', 'balance', 'of', 'power', 'in', 'the', 'Universe,', 'their', 'fate', 'and', 'the', 'fate', 'of', 'Earth', 'lie', 'in', 'the', 'hands', 'of', 'the', 'first', 'human', 'ever', 'recruited.']",
         "['dc comics', 'transformation', 'superhero', 'alien', 'alien infection', 'magical object', 'protector', 'super powers', 'origin', '3d']",
         "['Ryan Reynolds', 'Blake Lively', 'Peter Sarsgaard']",
         "['Martin Campbell']"
        ],
        [
         "42",
         "10193",
         "Toy Story 3",
         "['Animation', 'Family', 'Comedy']",
         "['Woody,', 'Buzz,', 'and', 'the', 'rest', 'of', \"Andy's\", 'toys', \"haven't\", 'been', 'played', 'with', 'in', 'years.', 'With', 'Andy', 'about', 'to', 'go', 'to', 'college,', 'the', 'gang', 'find', 'themselves', 'accidentally', 'left', 'at', 'a', 'nefarious', 'day', 'care', 'center.', 'The', 'toys', 'must', 'band', 'together', 'to', 'escape', 'and', 'return', 'home', 'to', 'Andy.']",
         "['hostage', 'college', 'toy', 'barbie', 'animation', 'escape', 'day care', 'teddy bear', 'duringcreditsstinger', 'toy comes to life', 'personification', 'inanimate objects coming to life', 'toy story']",
         "['Tom Hanks', 'Tim Allen', 'Ned Beatty']",
         "['Lee Unkrich']"
        ],
        [
         "43",
         "534",
         "Terminator Salvation",
         "['Action', 'Science Fiction', 'Thriller']",
         "['All', 'grown', 'up', 'in', 'post-apocalyptic', '2018,', 'John', 'Connor', 'must', 'lead', 'the', 'resistance', 'of', 'humans', 'against', 'the', 'increasingly', 'dominating', 'militaristic', 'robots.', 'But', 'when', 'Marcus', 'Wright', 'appears,', 'his', 'existence', 'confuses', 'the', 'mission', 'as', 'Connor', 'tries', 'to', 'determine', 'whether', 'Wright', 'has', 'come', 'from', 'the', 'future', 'or', 'the', 'past', '--', 'and', 'whether', \"he's\", 'friend', 'or', 'foe.']",
         "['saving the world', 'artificial intelligence', 'prophecy', 'san francisco', 'cyborg', 'killer robot', 'gas station', 'post-apocalyptic', 'dystopia', 'army', 'firearm', 'wartime', 'los angeles']",
         "['Christian Bale', 'Sam Worthington', 'Anton Yelchin']",
         "['McG']"
        ],
        [
         "44",
         "168259",
         "Furious 7",
         "['Action']",
         "['Deckard', 'Shaw', 'seeks', 'revenge', 'against', 'Dominic', 'Toretto', 'and', 'his', 'family', 'for', 'his', 'comatose', 'brother.']",
         "['car race', 'speed', 'revenge', 'suspense', 'car', 'race', 'muscle car']",
         "['Vin Diesel', 'Paul Walker', 'Dwayne Johnson']",
         "['James Wan']"
        ],
        [
         "45",
         "72190",
         "World War Z",
         "['Action', 'Drama', 'Horror', 'Science Fiction', 'Thriller']",
         "['Life', 'for', 'former', 'United', 'Nations', 'investigator', 'Gerry', 'Lane', 'and', 'his', 'family', 'seems', 'content.', 'Suddenly,', 'the', 'world', 'is', 'plagued', 'by', 'a', 'mysterious', 'infection', 'turning', 'whole', 'human', 'populations', 'into', 'rampaging', 'mindless', 'zombies.', 'After', 'barely', 'escaping', 'the', 'chaos,', 'Lane', 'is', 'persuaded', 'to', 'go', 'on', 'a', 'mission', 'to', 'investigate', 'this', 'disease.', 'What', 'follows', 'is', 'a', 'perilous', 'trek', 'around', 'the', 'world', 'where', 'Lane', 'must', 'brave', 'horrific', 'dangers', 'and', 'long', 'odds', 'to', 'find', 'answers', 'before', 'human', 'civilization', 'falls.']",
         "['dystopia', 'apocalypse', 'zombie', 'nuclear weapons', 'multiple perspectives', 'zombie apocalypse']",
         "['Brad Pitt', 'Mireille Enos', 'Abigail Hargrove']",
         "['Marc Forster']"
        ],
        [
         "46",
         "127585",
         "X-Men: Days of Future Past",
         "['Action', 'Adventure', 'Fantasy', 'Science Fiction']",
         "['The', 'ultimate', 'X-Men', 'ensemble', 'fights', 'a', 'war', 'for', 'the', 'survival', 'of', 'the', 'species', 'across', 'two', 'time', 'periods', 'as', 'they', 'join', 'forces', 'with', 'their', 'younger', 'selves', 'in', 'an', 'epic', 'battle', 'that', 'must', 'change', 'the', 'past', '–', 'to', 'save', 'our', 'future.']",
         "['1970s', 'mutant', 'time travel', 'marvel comic', 'based on comic book', 'superhuman', 'storm', 'beast', 'aftercreditsstinger', 'changing the past or future']",
         "['Hugh Jackman', 'James McAvoy', 'Michael Fassbender']",
         "['Bryan Singer']"
        ],
        [
         "47",
         "54138",
         "Star Trek Into Darkness",
         "['Action', 'Adventure', 'Science Fiction']",
         "['When', 'the', 'crew', 'of', 'the', 'Enterprise', 'is', 'called', 'back', 'home,', 'they', 'find', 'an', 'unstoppable', 'force', 'of', 'terror', 'from', 'within', 'their', 'own', 'organization', 'has', 'detonated', 'the', 'fleet', 'and', 'everything', 'it', 'stands', 'for,', 'leaving', 'our', 'world', 'in', 'a', 'state', 'of', 'crisis.', 'With', 'a', 'personal', 'score', 'to', 'settle,', 'Captain', 'Kirk', 'leads', 'a', 'manhunt', 'to', 'a', 'war-zone', 'world', 'to', 'capture', 'a', 'one', 'man', 'weapon', 'of', 'mass', 'destruction.', 'As', 'our', 'heroes', 'are', 'propelled', 'into', 'an', 'epic', 'chess', 'game', 'of', 'life', 'and', 'death,', 'love', 'will', 'be', 'challenged,', 'friendships', 'will', 'be', 'torn', 'apart,', 'and', 'sacrifices', 'must', 'be', 'made', 'for', 'the', 'only', 'family', 'Kirk', 'has', 'left:', 'his', 'crew.']",
         "['spacecraft', 'friendship', 'sequel', 'futuristic', 'space', 'alien', 'imax', 'space opera', 'terrorist bombing', '3d']",
         "['Chris Pine', 'Zachary Quinto', 'Zoe Saldana']",
         "['J.J. Abrams']"
        ],
        [
         "48",
         "81005",
         "Jack the Giant Slayer",
         "['Action', 'Family', 'Fantasy']",
         "['The', 'story', 'of', 'an', 'ancient', 'war', 'that', 'is', 'reignited', 'when', 'a', 'young', 'farmhand', 'unwittingly', 'opens', 'a', 'gateway', 'between', 'our', 'world', 'and', 'a', 'fearsome', 'race', 'of', 'giants.', 'Unleashed', 'on', 'the', 'Earth', 'for', 'the', 'first', 'time', 'in', 'centuries,', 'the', 'giants', 'strive', 'to', 'reclaim', 'the', 'land', 'they', 'once', 'lost,', 'forcing', 'the', 'young', 'man,', 'Jack', 'into', 'the', 'battle', 'of', 'his', 'life', 'to', 'stop', 'them.', 'Fighting', 'for', 'a', 'kingdom,', 'its', 'people,', 'and', 'the', 'love', 'of', 'a', 'brave', 'princess,', 'he', 'comes', 'face', 'to', 'face', 'with', 'the', 'unstoppable', 'warriors', 'he', 'thought', 'only', 'existed', 'in', 'legend–and', 'gets', 'the', 'chance', 'to', 'become', 'a', 'legend', 'himself.']",
         "['based on fairy tale', 'giant']",
         "['Nicholas Hoult', 'Eleanor Tomlinson', 'Ewan McGregor']",
         "['Bryan Singer']"
        ],
        [
         "49",
         "64682",
         "The Great Gatsby",
         "['Drama', 'Romance']",
         "['An', 'adaptation', 'of', 'F.', 'Scott', \"Fitzgerald's\", 'Long', 'Island-set', 'novel,', 'where', 'Midwesterner', 'Nick', 'Carraway', 'is', 'lured', 'into', 'the', 'lavish', 'world', 'of', 'his', 'neighbor,', 'Jay', 'Gatsby.', 'Soon', 'enough,', 'however,', 'Carraway', 'will', 'see', 'through', 'the', 'cracks', 'of', \"Gatsby's\", 'nouveau', 'riche', 'existence,', 'where', 'obsession,', 'madness,', 'and', 'tragedy', 'await.']",
         "['based on novel', 'infidelity', 'obsession', 'hope', '3d']",
         "['Leonardo DiCaprio', 'Tobey Maguire', 'Carey Mulligan']",
         "['Baz Luhrmann']"
        ]
       ],
       "shape": {
        "columns": 7,
        "rows": 4800
       }
      },
      "text/html": [
       "<div>\n",
       "<style scoped>\n",
       "    .dataframe tbody tr th:only-of-type {\n",
       "        vertical-align: middle;\n",
       "    }\n",
       "\n",
       "    .dataframe tbody tr th {\n",
       "        vertical-align: top;\n",
       "    }\n",
       "\n",
       "    .dataframe thead th {\n",
       "        text-align: right;\n",
       "    }\n",
       "</style>\n",
       "<table border=\"1\" class=\"dataframe\">\n",
       "  <thead>\n",
       "    <tr style=\"text-align: right;\">\n",
       "      <th></th>\n",
       "      <th>movie_id</th>\n",
       "      <th>title</th>\n",
       "      <th>genres</th>\n",
       "      <th>overview</th>\n",
       "      <th>keywords</th>\n",
       "      <th>cast</th>\n",
       "      <th>director</th>\n",
       "    </tr>\n",
       "  </thead>\n",
       "  <tbody>\n",
       "    <tr>\n",
       "      <th>0</th>\n",
       "      <td>19995</td>\n",
       "      <td>Avatar</td>\n",
       "      <td>[Action, Adventure, Fantasy, Science Fiction]</td>\n",
       "      <td>[In, the, 22nd, century,, a, paraplegic, Marin...</td>\n",
       "      <td>[culture clash, future, space war, space colon...</td>\n",
       "      <td>[Sam Worthington, Zoe Saldana, Sigourney Weaver]</td>\n",
       "      <td>[James Cameron]</td>\n",
       "    </tr>\n",
       "    <tr>\n",
       "      <th>1</th>\n",
       "      <td>285</td>\n",
       "      <td>Pirates of the Caribbean: At World's End</td>\n",
       "      <td>[Adventure, Fantasy, Action]</td>\n",
       "      <td>[Captain, Barbossa,, long, believed, to, be, d...</td>\n",
       "      <td>[ocean, drug abuse, exotic island, east india ...</td>\n",
       "      <td>[Johnny Depp, Orlando Bloom, Keira Knightley]</td>\n",
       "      <td>[Gore Verbinski]</td>\n",
       "    </tr>\n",
       "    <tr>\n",
       "      <th>2</th>\n",
       "      <td>206647</td>\n",
       "      <td>Spectre</td>\n",
       "      <td>[Action, Adventure, Crime]</td>\n",
       "      <td>[A, cryptic, message, from, Bond’s, past, send...</td>\n",
       "      <td>[spy, based on novel, secret agent, sequel, mi...</td>\n",
       "      <td>[Daniel Craig, Christoph Waltz, Léa Seydoux]</td>\n",
       "      <td>[Sam Mendes]</td>\n",
       "    </tr>\n",
       "    <tr>\n",
       "      <th>3</th>\n",
       "      <td>49026</td>\n",
       "      <td>The Dark Knight Rises</td>\n",
       "      <td>[Action, Crime, Drama, Thriller]</td>\n",
       "      <td>[Following, the, death, of, District, Attorney...</td>\n",
       "      <td>[dc comics, crime fighter, terrorist, secret i...</td>\n",
       "      <td>[Christian Bale, Michael Caine, Gary Oldman]</td>\n",
       "      <td>[Christopher Nolan]</td>\n",
       "    </tr>\n",
       "    <tr>\n",
       "      <th>4</th>\n",
       "      <td>49529</td>\n",
       "      <td>John Carter</td>\n",
       "      <td>[Action, Adventure, Science Fiction]</td>\n",
       "      <td>[John, Carter, is, a, war-weary,, former, mili...</td>\n",
       "      <td>[based on novel, mars, medallion, space travel...</td>\n",
       "      <td>[Taylor Kitsch, Lynn Collins, Samantha Morton]</td>\n",
       "      <td>[Andrew Stanton]</td>\n",
       "    </tr>\n",
       "    <tr>\n",
       "      <th>...</th>\n",
       "      <td>...</td>\n",
       "      <td>...</td>\n",
       "      <td>...</td>\n",
       "      <td>...</td>\n",
       "      <td>...</td>\n",
       "      <td>...</td>\n",
       "      <td>...</td>\n",
       "    </tr>\n",
       "    <tr>\n",
       "      <th>4798</th>\n",
       "      <td>9367</td>\n",
       "      <td>El Mariachi</td>\n",
       "      <td>[Action, Crime, Thriller]</td>\n",
       "      <td>[El, Mariachi, just, wants, to, play, his, gui...</td>\n",
       "      <td>[united states–mexico barrier, legs, arms, pap...</td>\n",
       "      <td>[Carlos Gallardo, Jaime de Hoyos, Peter Marqua...</td>\n",
       "      <td>[Robert Rodriguez]</td>\n",
       "    </tr>\n",
       "    <tr>\n",
       "      <th>4799</th>\n",
       "      <td>72766</td>\n",
       "      <td>Newlyweds</td>\n",
       "      <td>[Comedy, Romance]</td>\n",
       "      <td>[A, newlywed, couple's, honeymoon, is, upended...</td>\n",
       "      <td>[]</td>\n",
       "      <td>[Edward Burns, Kerry Bishé, Marsha Dietlein]</td>\n",
       "      <td>[Edward Burns]</td>\n",
       "    </tr>\n",
       "    <tr>\n",
       "      <th>4800</th>\n",
       "      <td>231617</td>\n",
       "      <td>Signed, Sealed, Delivered</td>\n",
       "      <td>[Comedy, Drama, Romance, TV Movie]</td>\n",
       "      <td>[\"Signed,, Sealed,, Delivered\", introduces, a,...</td>\n",
       "      <td>[date, love at first sight, narration, investi...</td>\n",
       "      <td>[Eric Mabius, Kristin Booth, Crystal Lowe]</td>\n",
       "      <td>[Scott Smith]</td>\n",
       "    </tr>\n",
       "    <tr>\n",
       "      <th>4801</th>\n",
       "      <td>126186</td>\n",
       "      <td>Shanghai Calling</td>\n",
       "      <td>[]</td>\n",
       "      <td>[When, ambitious, New, York, attorney, Sam, is...</td>\n",
       "      <td>[]</td>\n",
       "      <td>[Daniel Henney, Eliza Coupe, Bill Paxton]</td>\n",
       "      <td>[Daniel Hsia]</td>\n",
       "    </tr>\n",
       "    <tr>\n",
       "      <th>4802</th>\n",
       "      <td>25975</td>\n",
       "      <td>My Date with Drew</td>\n",
       "      <td>[Documentary]</td>\n",
       "      <td>[Ever, since, the, second, grade, when, he, fi...</td>\n",
       "      <td>[obsession, camcorder, crush, dream girl]</td>\n",
       "      <td>[Drew Barrymore, Brian Herzlinger, Corey Feldman]</td>\n",
       "      <td>[Brian Herzlinger]</td>\n",
       "    </tr>\n",
       "  </tbody>\n",
       "</table>\n",
       "<p>4800 rows × 7 columns</p>\n",
       "</div>"
      ],
      "text/plain": [
       "      movie_id                                     title  \\\n",
       "0        19995                                    Avatar   \n",
       "1          285  Pirates of the Caribbean: At World's End   \n",
       "2       206647                                   Spectre   \n",
       "3        49026                     The Dark Knight Rises   \n",
       "4        49529                               John Carter   \n",
       "...        ...                                       ...   \n",
       "4798      9367                               El Mariachi   \n",
       "4799     72766                                 Newlyweds   \n",
       "4800    231617                 Signed, Sealed, Delivered   \n",
       "4801    126186                          Shanghai Calling   \n",
       "4802     25975                         My Date with Drew   \n",
       "\n",
       "                                             genres  \\\n",
       "0     [Action, Adventure, Fantasy, Science Fiction]   \n",
       "1                      [Adventure, Fantasy, Action]   \n",
       "2                        [Action, Adventure, Crime]   \n",
       "3                  [Action, Crime, Drama, Thriller]   \n",
       "4              [Action, Adventure, Science Fiction]   \n",
       "...                                             ...   \n",
       "4798                      [Action, Crime, Thriller]   \n",
       "4799                              [Comedy, Romance]   \n",
       "4800             [Comedy, Drama, Romance, TV Movie]   \n",
       "4801                                             []   \n",
       "4802                                  [Documentary]   \n",
       "\n",
       "                                               overview  \\\n",
       "0     [In, the, 22nd, century,, a, paraplegic, Marin...   \n",
       "1     [Captain, Barbossa,, long, believed, to, be, d...   \n",
       "2     [A, cryptic, message, from, Bond’s, past, send...   \n",
       "3     [Following, the, death, of, District, Attorney...   \n",
       "4     [John, Carter, is, a, war-weary,, former, mili...   \n",
       "...                                                 ...   \n",
       "4798  [El, Mariachi, just, wants, to, play, his, gui...   \n",
       "4799  [A, newlywed, couple's, honeymoon, is, upended...   \n",
       "4800  [\"Signed,, Sealed,, Delivered\", introduces, a,...   \n",
       "4801  [When, ambitious, New, York, attorney, Sam, is...   \n",
       "4802  [Ever, since, the, second, grade, when, he, fi...   \n",
       "\n",
       "                                               keywords  \\\n",
       "0     [culture clash, future, space war, space colon...   \n",
       "1     [ocean, drug abuse, exotic island, east india ...   \n",
       "2     [spy, based on novel, secret agent, sequel, mi...   \n",
       "3     [dc comics, crime fighter, terrorist, secret i...   \n",
       "4     [based on novel, mars, medallion, space travel...   \n",
       "...                                                 ...   \n",
       "4798  [united states–mexico barrier, legs, arms, pap...   \n",
       "4799                                                 []   \n",
       "4800  [date, love at first sight, narration, investi...   \n",
       "4801                                                 []   \n",
       "4802          [obsession, camcorder, crush, dream girl]   \n",
       "\n",
       "                                                   cast             director  \n",
       "0      [Sam Worthington, Zoe Saldana, Sigourney Weaver]      [James Cameron]  \n",
       "1         [Johnny Depp, Orlando Bloom, Keira Knightley]     [Gore Verbinski]  \n",
       "2          [Daniel Craig, Christoph Waltz, Léa Seydoux]         [Sam Mendes]  \n",
       "3          [Christian Bale, Michael Caine, Gary Oldman]  [Christopher Nolan]  \n",
       "4        [Taylor Kitsch, Lynn Collins, Samantha Morton]     [Andrew Stanton]  \n",
       "...                                                 ...                  ...  \n",
       "4798  [Carlos Gallardo, Jaime de Hoyos, Peter Marqua...   [Robert Rodriguez]  \n",
       "4799       [Edward Burns, Kerry Bishé, Marsha Dietlein]       [Edward Burns]  \n",
       "4800         [Eric Mabius, Kristin Booth, Crystal Lowe]        [Scott Smith]  \n",
       "4801          [Daniel Henney, Eliza Coupe, Bill Paxton]        [Daniel Hsia]  \n",
       "4802  [Drew Barrymore, Brian Herzlinger, Corey Feldman]   [Brian Herzlinger]  \n",
       "\n",
       "[4800 rows x 7 columns]"
      ]
     },
     "execution_count": 27,
     "metadata": {},
     "output_type": "execute_result"
    }
   ],
   "source": [
    "movies"
   ]
  },
  {
   "cell_type": "code",
   "execution_count": 28,
   "id": "5937b8bc",
   "metadata": {},
   "outputs": [],
   "source": [
    "def remove_space(x):\n",
    "    space_removed = []\n",
    "    for word in x:\n",
    "        space_removed.append(word.replace(' ', ''))\n",
    "    return space_removed"
   ]
  },
  {
   "cell_type": "code",
   "execution_count": 30,
   "id": "44aa7a08",
   "metadata": {},
   "outputs": [],
   "source": [
    "movies[['cast', 'director', 'genres', 'keywords']] = movies.transform({\n",
    "    'cast': remove_space,\n",
    "    'director': remove_space,\n",
    "    'genres': remove_space,\n",
    "    'keywords': remove_space\n",
    "})"
   ]
  },
  {
   "cell_type": "code",
   "execution_count": 84,
   "id": "d0200f79",
   "metadata": {},
   "outputs": [
    {
     "data": {
      "application/vnd.microsoft.datawrangler.viewer.v0+json": {
       "columns": [
        {
         "name": "index",
         "rawType": "int64",
         "type": "integer"
        },
        {
         "name": "movie_id",
         "rawType": "int64",
         "type": "integer"
        },
        {
         "name": "title",
         "rawType": "object",
         "type": "string"
        },
        {
         "name": "genres",
         "rawType": "object",
         "type": "unknown"
        },
        {
         "name": "overview",
         "rawType": "object",
         "type": "unknown"
        },
        {
         "name": "keywords",
         "rawType": "object",
         "type": "unknown"
        },
        {
         "name": "cast",
         "rawType": "object",
         "type": "unknown"
        },
        {
         "name": "director",
         "rawType": "object",
         "type": "unknown"
        },
        {
         "name": "tags",
         "rawType": "object",
         "type": "unknown"
        }
       ],
       "ref": "77b9c84c-af94-4048-8e46-00edfe069dce",
       "rows": [
        [
         "0",
         "19995",
         "Avatar",
         "['Action', 'Adventure', 'Fantasy', 'ScienceFiction']",
         "['In', 'the', '22nd', 'century,', 'a', 'paraplegic', 'Marine', 'is', 'dispatched', 'to', 'the', 'moon', 'Pandora', 'on', 'a', 'unique', 'mission,', 'but', 'becomes', 'torn', 'between', 'following', 'orders', 'and', 'protecting', 'an', 'alien', 'civilization.']",
         "['cultureclash', 'future', 'spacewar', 'spacecolony', 'society', 'spacetravel', 'futuristic', 'romance', 'space', 'alien', 'tribe', 'alienplanet', 'cgi', 'marine', 'soldier', 'battle', 'loveaffair', 'antiwar', 'powerrelations', 'mindandsoul', '3d']",
         "['SamWorthington', 'ZoeSaldana', 'SigourneyWeaver']",
         "['JamesCameron']",
         "['Action', 'Adventure', 'Fantasy', 'ScienceFiction', 'In', 'the', '22nd', 'century,', 'a', 'paraplegic', 'Marine', 'is', 'dispatched', 'to', 'the', 'moon', 'Pandora', 'on', 'a', 'unique', 'mission,', 'but', 'becomes', 'torn', 'between', 'following', 'orders', 'and', 'protecting', 'an', 'alien', 'civilization.', 'cultureclash', 'future', 'spacewar', 'spacecolony', 'society', 'spacetravel', 'futuristic', 'romance', 'space', 'alien', 'tribe', 'alienplanet', 'cgi', 'marine', 'soldier', 'battle', 'loveaffair', 'antiwar', 'powerrelations', 'mindandsoul', '3d', 'SamWorthington', 'ZoeSaldana', 'SigourneyWeaver', 'JamesCameron']"
        ],
        [
         "1",
         "285",
         "Pirates of the Caribbean: At World's End",
         "['Adventure', 'Fantasy', 'Action']",
         "['Captain', 'Barbossa,', 'long', 'believed', 'to', 'be', 'dead,', 'has', 'come', 'back', 'to', 'life', 'and', 'is', 'headed', 'to', 'the', 'edge', 'of', 'the', 'Earth', 'with', 'Will', 'Turner', 'and', 'Elizabeth', 'Swann.', 'But', 'nothing', 'is', 'quite', 'as', 'it', 'seems.']",
         "['ocean', 'drugabuse', 'exoticisland', 'eastindiatradingcompany', \"loveofone'slife\", 'traitor', 'shipwreck', 'strongwoman', 'ship', 'alliance', 'calypso', 'afterlife', 'fighter', 'pirate', 'swashbuckler', 'aftercreditsstinger']",
         "['JohnnyDepp', 'OrlandoBloom', 'KeiraKnightley']",
         "['GoreVerbinski']",
         "['Adventure', 'Fantasy', 'Action', 'Captain', 'Barbossa,', 'long', 'believed', 'to', 'be', 'dead,', 'has', 'come', 'back', 'to', 'life', 'and', 'is', 'headed', 'to', 'the', 'edge', 'of', 'the', 'Earth', 'with', 'Will', 'Turner', 'and', 'Elizabeth', 'Swann.', 'But', 'nothing', 'is', 'quite', 'as', 'it', 'seems.', 'ocean', 'drugabuse', 'exoticisland', 'eastindiatradingcompany', \"loveofone'slife\", 'traitor', 'shipwreck', 'strongwoman', 'ship', 'alliance', 'calypso', 'afterlife', 'fighter', 'pirate', 'swashbuckler', 'aftercreditsstinger', 'JohnnyDepp', 'OrlandoBloom', 'KeiraKnightley', 'GoreVerbinski']"
        ],
        [
         "2",
         "206647",
         "Spectre",
         "['Action', 'Adventure', 'Crime']",
         "['A', 'cryptic', 'message', 'from', 'Bond’s', 'past', 'sends', 'him', 'on', 'a', 'trail', 'to', 'uncover', 'a', 'sinister', 'organization.', 'While', 'M', 'battles', 'political', 'forces', 'to', 'keep', 'the', 'secret', 'service', 'alive,', 'Bond', 'peels', 'back', 'the', 'layers', 'of', 'deceit', 'to', 'reveal', 'the', 'terrible', 'truth', 'behind', 'SPECTRE.']",
         "['spy', 'basedonnovel', 'secretagent', 'sequel', 'mi6', 'britishsecretservice', 'unitedkingdom']",
         "['DanielCraig', 'ChristophWaltz', 'LéaSeydoux']",
         "['SamMendes']",
         "['Action', 'Adventure', 'Crime', 'A', 'cryptic', 'message', 'from', 'Bond’s', 'past', 'sends', 'him', 'on', 'a', 'trail', 'to', 'uncover', 'a', 'sinister', 'organization.', 'While', 'M', 'battles', 'political', 'forces', 'to', 'keep', 'the', 'secret', 'service', 'alive,', 'Bond', 'peels', 'back', 'the', 'layers', 'of', 'deceit', 'to', 'reveal', 'the', 'terrible', 'truth', 'behind', 'SPECTRE.', 'spy', 'basedonnovel', 'secretagent', 'sequel', 'mi6', 'britishsecretservice', 'unitedkingdom', 'DanielCraig', 'ChristophWaltz', 'LéaSeydoux', 'SamMendes']"
        ],
        [
         "3",
         "49026",
         "The Dark Knight Rises",
         "['Action', 'Crime', 'Drama', 'Thriller']",
         "['Following', 'the', 'death', 'of', 'District', 'Attorney', 'Harvey', 'Dent,', 'Batman', 'assumes', 'responsibility', 'for', \"Dent's\", 'crimes', 'to', 'protect', 'the', 'late', \"attorney's\", 'reputation', 'and', 'is', 'subsequently', 'hunted', 'by', 'the', 'Gotham', 'City', 'Police', 'Department.', 'Eight', 'years', 'later,', 'Batman', 'encounters', 'the', 'mysterious', 'Selina', 'Kyle', 'and', 'the', 'villainous', 'Bane,', 'a', 'new', 'terrorist', 'leader', 'who', 'overwhelms', \"Gotham's\", 'finest.', 'The', 'Dark', 'Knight', 'resurfaces', 'to', 'protect', 'a', 'city', 'that', 'has', 'branded', 'him', 'an', 'enemy.']",
         "['dccomics', 'crimefighter', 'terrorist', 'secretidentity', 'burglar', 'hostagedrama', 'timebomb', 'gothamcity', 'vigilante', 'cover-up', 'superhero', 'villainess', 'tragichero', 'terrorism', 'destruction', 'catwoman', 'catburglar', 'imax', 'flood', 'criminalunderworld', 'batman']",
         "['ChristianBale', 'MichaelCaine', 'GaryOldman']",
         "['ChristopherNolan']",
         "['Action', 'Crime', 'Drama', 'Thriller', 'Following', 'the', 'death', 'of', 'District', 'Attorney', 'Harvey', 'Dent,', 'Batman', 'assumes', 'responsibility', 'for', \"Dent's\", 'crimes', 'to', 'protect', 'the', 'late', \"attorney's\", 'reputation', 'and', 'is', 'subsequently', 'hunted', 'by', 'the', 'Gotham', 'City', 'Police', 'Department.', 'Eight', 'years', 'later,', 'Batman', 'encounters', 'the', 'mysterious', 'Selina', 'Kyle', 'and', 'the', 'villainous', 'Bane,', 'a', 'new', 'terrorist', 'leader', 'who', 'overwhelms', \"Gotham's\", 'finest.', 'The', 'Dark', 'Knight', 'resurfaces', 'to', 'protect', 'a', 'city', 'that', 'has', 'branded', 'him', 'an', 'enemy.', 'dccomics', 'crimefighter', 'terrorist', 'secretidentity', 'burglar', 'hostagedrama', 'timebomb', 'gothamcity', 'vigilante', 'cover-up', 'superhero', 'villainess', 'tragichero', 'terrorism', 'destruction', 'catwoman', 'catburglar', 'imax', 'flood', 'criminalunderworld', 'batman', 'ChristianBale', 'MichaelCaine', 'GaryOldman', 'ChristopherNolan']"
        ],
        [
         "4",
         "49529",
         "John Carter",
         "['Action', 'Adventure', 'ScienceFiction']",
         "['John', 'Carter', 'is', 'a', 'war-weary,', 'former', 'military', 'captain', \"who's\", 'inexplicably', 'transported', 'to', 'the', 'mysterious', 'and', 'exotic', 'planet', 'of', 'Barsoom', '(Mars)', 'and', 'reluctantly', 'becomes', 'embroiled', 'in', 'an', 'epic', 'conflict.', \"It's\", 'a', 'world', 'on', 'the', 'brink', 'of', 'collapse,', 'and', 'Carter', 'rediscovers', 'his', 'humanity', 'when', 'he', 'realizes', 'the', 'survival', 'of', 'Barsoom', 'and', 'its', 'people', 'rests', 'in', 'his', 'hands.']",
         "['basedonnovel', 'mars', 'medallion', 'spacetravel', 'princess', 'alien', 'steampunk', 'martian', 'escape', 'edgarriceburroughs', 'alienrace', 'superhumanstrength', 'marscivilization', 'swordandplanet', '19thcentury', '3d']",
         "['TaylorKitsch', 'LynnCollins', 'SamanthaMorton']",
         "['AndrewStanton']",
         "['Action', 'Adventure', 'ScienceFiction', 'John', 'Carter', 'is', 'a', 'war-weary,', 'former', 'military', 'captain', \"who's\", 'inexplicably', 'transported', 'to', 'the', 'mysterious', 'and', 'exotic', 'planet', 'of', 'Barsoom', '(Mars)', 'and', 'reluctantly', 'becomes', 'embroiled', 'in', 'an', 'epic', 'conflict.', \"It's\", 'a', 'world', 'on', 'the', 'brink', 'of', 'collapse,', 'and', 'Carter', 'rediscovers', 'his', 'humanity', 'when', 'he', 'realizes', 'the', 'survival', 'of', 'Barsoom', 'and', 'its', 'people', 'rests', 'in', 'his', 'hands.', 'basedonnovel', 'mars', 'medallion', 'spacetravel', 'princess', 'alien', 'steampunk', 'martian', 'escape', 'edgarriceburroughs', 'alienrace', 'superhumanstrength', 'marscivilization', 'swordandplanet', '19thcentury', '3d', 'TaylorKitsch', 'LynnCollins', 'SamanthaMorton', 'AndrewStanton']"
        ],
        [
         "5",
         "559",
         "Spider-Man 3",
         "['Fantasy', 'Action', 'Adventure']",
         "['The', 'seemingly', 'invincible', 'Spider-Man', 'goes', 'up', 'against', 'an', 'all-new', 'crop', 'of', 'villain', '–', 'including', 'the', 'shape-shifting', 'Sandman.', 'While', 'Spider-Man’s', 'superpowers', 'are', 'altered', 'by', 'an', 'alien', 'organism,', 'his', 'alter', 'ego,', 'Peter', 'Parker,', 'deals', 'with', 'nemesis', 'Eddie', 'Brock', 'and', 'also', 'gets', 'caught', 'up', 'in', 'a', 'love', 'triangle.']",
         "['dualidentity', 'amnesia', 'sandstorm', \"loveofone'slife\", 'forgiveness', 'spider', 'wretch', 'deathofafriend', 'egomania', 'sand', 'narcism', 'hostility', 'marvelcomic', 'sequel', 'superhero', 'revenge']",
         "['TobeyMaguire', 'KirstenDunst', 'JamesFranco']",
         "['SamRaimi']",
         "['Fantasy', 'Action', 'Adventure', 'The', 'seemingly', 'invincible', 'Spider-Man', 'goes', 'up', 'against', 'an', 'all-new', 'crop', 'of', 'villain', '–', 'including', 'the', 'shape-shifting', 'Sandman.', 'While', 'Spider-Man’s', 'superpowers', 'are', 'altered', 'by', 'an', 'alien', 'organism,', 'his', 'alter', 'ego,', 'Peter', 'Parker,', 'deals', 'with', 'nemesis', 'Eddie', 'Brock', 'and', 'also', 'gets', 'caught', 'up', 'in', 'a', 'love', 'triangle.', 'dualidentity', 'amnesia', 'sandstorm', \"loveofone'slife\", 'forgiveness', 'spider', 'wretch', 'deathofafriend', 'egomania', 'sand', 'narcism', 'hostility', 'marvelcomic', 'sequel', 'superhero', 'revenge', 'TobeyMaguire', 'KirstenDunst', 'JamesFranco', 'SamRaimi']"
        ],
        [
         "6",
         "38757",
         "Tangled",
         "['Animation', 'Family']",
         "['When', 'the', \"kingdom's\", 'most', 'wanted-and', 'most', 'charming-bandit', 'Flynn', 'Rider', 'hides', 'out', 'in', 'a', 'mysterious', 'tower,', \"he's\", 'taken', 'hostage', 'by', 'Rapunzel,', 'a', 'beautiful', 'and', 'feisty', 'tower-bound', 'teen', 'with', '70', 'feet', 'of', 'magical,', 'golden', 'hair.', \"Flynn's\", 'curious', 'captor,', \"who's\", 'looking', 'for', 'her', 'ticket', 'out', 'of', 'the', 'tower', 'where', \"she's\", 'been', 'locked', 'away', 'for', 'years,', 'strikes', 'a', 'deal', 'with', 'the', 'handsome', 'thief', 'and', 'the', 'unlikely', 'duo', 'sets', 'off', 'on', 'an', 'action-packed', 'escapade,', 'complete', 'with', 'a', 'super-cop', 'horse,', 'an', 'over-protective', 'chameleon', 'and', 'a', 'gruff', 'gang', 'of', 'pub', 'thugs.']",
         "['hostage', 'magic', 'horse', 'fairytale', 'musical', 'princess', 'animation', 'tower', 'blondewoman', 'selfishness', 'healingpower', 'basedonfairytale', 'duringcreditsstinger', 'healinggift', 'animalsidekick']",
         "['ZacharyLevi', 'MandyMoore', 'DonnaMurphy']",
         "['ByronHoward']",
         "['Animation', 'Family', 'When', 'the', \"kingdom's\", 'most', 'wanted-and', 'most', 'charming-bandit', 'Flynn', 'Rider', 'hides', 'out', 'in', 'a', 'mysterious', 'tower,', \"he's\", 'taken', 'hostage', 'by', 'Rapunzel,', 'a', 'beautiful', 'and', 'feisty', 'tower-bound', 'teen', 'with', '70', 'feet', 'of', 'magical,', 'golden', 'hair.', \"Flynn's\", 'curious', 'captor,', \"who's\", 'looking', 'for', 'her', 'ticket', 'out', 'of', 'the', 'tower', 'where', \"she's\", 'been', 'locked', 'away', 'for', 'years,', 'strikes', 'a', 'deal', 'with', 'the', 'handsome', 'thief', 'and', 'the', 'unlikely', 'duo', 'sets', 'off', 'on', 'an', 'action-packed', 'escapade,', 'complete', 'with', 'a', 'super-cop', 'horse,', 'an', 'over-protective', 'chameleon', 'and', 'a', 'gruff', 'gang', 'of', 'pub', 'thugs.', 'hostage', 'magic', 'horse', 'fairytale', 'musical', 'princess', 'animation', 'tower', 'blondewoman', 'selfishness', 'healingpower', 'basedonfairytale', 'duringcreditsstinger', 'healinggift', 'animalsidekick', 'ZacharyLevi', 'MandyMoore', 'DonnaMurphy', 'ByronHoward']"
        ],
        [
         "7",
         "99861",
         "Avengers: Age of Ultron",
         "['Action', 'Adventure', 'ScienceFiction']",
         "['When', 'Tony', 'Stark', 'tries', 'to', 'jumpstart', 'a', 'dormant', 'peacekeeping', 'program,', 'things', 'go', 'awry', 'and', 'Earth’s', 'Mightiest', 'Heroes', 'are', 'put', 'to', 'the', 'ultimate', 'test', 'as', 'the', 'fate', 'of', 'the', 'planet', 'hangs', 'in', 'the', 'balance.', 'As', 'the', 'villainous', 'Ultron', 'emerges,', 'it', 'is', 'up', 'to', 'The', 'Avengers', 'to', 'stop', 'him', 'from', 'enacting', 'his', 'terrible', 'plans,', 'and', 'soon', 'uneasy', 'alliances', 'and', 'unexpected', 'action', 'pave', 'the', 'way', 'for', 'an', 'epic', 'and', 'unique', 'global', 'adventure.']",
         "['marvelcomic', 'sequel', 'superhero', 'basedoncomicbook', 'vision', 'superheroteam', 'duringcreditsstinger', 'marvelcinematicuniverse', '3d']",
         "['RobertDowneyJr.', 'ChrisHemsworth', 'MarkRuffalo']",
         "['JossWhedon']",
         "['Action', 'Adventure', 'ScienceFiction', 'When', 'Tony', 'Stark', 'tries', 'to', 'jumpstart', 'a', 'dormant', 'peacekeeping', 'program,', 'things', 'go', 'awry', 'and', 'Earth’s', 'Mightiest', 'Heroes', 'are', 'put', 'to', 'the', 'ultimate', 'test', 'as', 'the', 'fate', 'of', 'the', 'planet', 'hangs', 'in', 'the', 'balance.', 'As', 'the', 'villainous', 'Ultron', 'emerges,', 'it', 'is', 'up', 'to', 'The', 'Avengers', 'to', 'stop', 'him', 'from', 'enacting', 'his', 'terrible', 'plans,', 'and', 'soon', 'uneasy', 'alliances', 'and', 'unexpected', 'action', 'pave', 'the', 'way', 'for', 'an', 'epic', 'and', 'unique', 'global', 'adventure.', 'marvelcomic', 'sequel', 'superhero', 'basedoncomicbook', 'vision', 'superheroteam', 'duringcreditsstinger', 'marvelcinematicuniverse', '3d', 'RobertDowneyJr.', 'ChrisHemsworth', 'MarkRuffalo', 'JossWhedon']"
        ],
        [
         "8",
         "767",
         "Harry Potter and the Half-Blood Prince",
         "['Adventure', 'Fantasy', 'Family']",
         "['As', 'Harry', 'begins', 'his', 'sixth', 'year', 'at', 'Hogwarts,', 'he', 'discovers', 'an', 'old', 'book', 'marked', 'as', \"'Property\", 'of', 'the', 'Half-Blood', \"Prince',\", 'and', 'begins', 'to', 'learn', 'more', 'about', 'Lord', \"Voldemort's\", 'dark', 'past.']",
         "['witch', 'magic', 'broom', 'schoolofwitchcraft', 'wizardry', 'apparition', 'teenagecrush', 'werewolf']",
         "['DanielRadcliffe', 'RupertGrint', 'EmmaWatson']",
         "['DavidYates']",
         "['Adventure', 'Fantasy', 'Family', 'As', 'Harry', 'begins', 'his', 'sixth', 'year', 'at', 'Hogwarts,', 'he', 'discovers', 'an', 'old', 'book', 'marked', 'as', \"'Property\", 'of', 'the', 'Half-Blood', \"Prince',\", 'and', 'begins', 'to', 'learn', 'more', 'about', 'Lord', \"Voldemort's\", 'dark', 'past.', 'witch', 'magic', 'broom', 'schoolofwitchcraft', 'wizardry', 'apparition', 'teenagecrush', 'werewolf', 'DanielRadcliffe', 'RupertGrint', 'EmmaWatson', 'DavidYates']"
        ],
        [
         "9",
         "209112",
         "Batman v Superman: Dawn of Justice",
         "['Action', 'Adventure', 'Fantasy']",
         "['Fearing', 'the', 'actions', 'of', 'a', 'god-like', 'Super', 'Hero', 'left', 'unchecked,', 'Gotham', 'City’s', 'own', 'formidable,', 'forceful', 'vigilante', 'takes', 'on', 'Metropolis’s', 'most', 'revered,', 'modern-day', 'savior,', 'while', 'the', 'world', 'wrestles', 'with', 'what', 'sort', 'of', 'hero', 'it', 'really', 'needs.', 'And', 'with', 'Batman', 'and', 'Superman', 'at', 'war', 'with', 'one', 'another,', 'a', 'new', 'threat', 'quickly', 'arises,', 'putting', 'mankind', 'in', 'greater', 'danger', 'than', 'it’s', 'ever', 'known', 'before.']",
         "['dccomics', 'vigilante', 'superhero', 'basedoncomicbook', 'revenge', 'superpowers', 'clarkkent', 'brucewayne', 'dcextendeduniverse']",
         "['BenAffleck', 'HenryCavill', 'GalGadot']",
         "['ZackSnyder']",
         "['Action', 'Adventure', 'Fantasy', 'Fearing', 'the', 'actions', 'of', 'a', 'god-like', 'Super', 'Hero', 'left', 'unchecked,', 'Gotham', 'City’s', 'own', 'formidable,', 'forceful', 'vigilante', 'takes', 'on', 'Metropolis’s', 'most', 'revered,', 'modern-day', 'savior,', 'while', 'the', 'world', 'wrestles', 'with', 'what', 'sort', 'of', 'hero', 'it', 'really', 'needs.', 'And', 'with', 'Batman', 'and', 'Superman', 'at', 'war', 'with', 'one', 'another,', 'a', 'new', 'threat', 'quickly', 'arises,', 'putting', 'mankind', 'in', 'greater', 'danger', 'than', 'it’s', 'ever', 'known', 'before.', 'dccomics', 'vigilante', 'superhero', 'basedoncomicbook', 'revenge', 'superpowers', 'clarkkent', 'brucewayne', 'dcextendeduniverse', 'BenAffleck', 'HenryCavill', 'GalGadot', 'ZackSnyder']"
        ],
        [
         "10",
         "1452",
         "Superman Returns",
         "['Adventure', 'Fantasy', 'Action', 'ScienceFiction']",
         "['Superman', 'returns', 'to', 'discover', 'his', '5-year', 'absence', 'has', 'allowed', 'Lex', 'Luthor', 'to', 'walk', 'free,', 'and', 'that', 'those', 'he', 'was', 'closest', 'too', 'felt', 'abandoned', 'and', 'have', 'moved', 'on.', 'Luthor', 'plots', 'his', 'ultimate', 'revenge', 'that', 'could', 'see', 'millions', 'killed', 'and', 'change', 'the', 'face', 'of', 'the', 'planet', 'forever,', 'as', 'well', 'as', 'ridding', 'himself', 'of', 'the', 'Man', 'of', 'Steel.']",
         "['savingtheworld', 'dccomics', 'invulnerability', 'sequel', 'superhero', 'basedoncomicbook', 'kryptonite', 'superpowers', 'superhumanstrength', 'lexluthor']",
         "['BrandonRouth', 'KevinSpacey', 'KateBosworth']",
         "['BryanSinger']",
         "['Adventure', 'Fantasy', 'Action', 'ScienceFiction', 'Superman', 'returns', 'to', 'discover', 'his', '5-year', 'absence', 'has', 'allowed', 'Lex', 'Luthor', 'to', 'walk', 'free,', 'and', 'that', 'those', 'he', 'was', 'closest', 'too', 'felt', 'abandoned', 'and', 'have', 'moved', 'on.', 'Luthor', 'plots', 'his', 'ultimate', 'revenge', 'that', 'could', 'see', 'millions', 'killed', 'and', 'change', 'the', 'face', 'of', 'the', 'planet', 'forever,', 'as', 'well', 'as', 'ridding', 'himself', 'of', 'the', 'Man', 'of', 'Steel.', 'savingtheworld', 'dccomics', 'invulnerability', 'sequel', 'superhero', 'basedoncomicbook', 'kryptonite', 'superpowers', 'superhumanstrength', 'lexluthor', 'BrandonRouth', 'KevinSpacey', 'KateBosworth', 'BryanSinger']"
        ],
        [
         "11",
         "10764",
         "Quantum of Solace",
         "['Adventure', 'Action', 'Thriller', 'Crime']",
         "['Quantum', 'of', 'Solace', 'continues', 'the', 'adventures', 'of', 'James', 'Bond', 'after', 'Casino', 'Royale.', 'Betrayed', 'by', 'Vesper,', 'the', 'woman', 'he', 'loved,', '007', 'fights', 'the', 'urge', 'to', 'make', 'his', 'latest', 'mission', 'personal.', 'Pursuing', 'his', 'determination', 'to', 'uncover', 'the', 'truth,', 'Bond', 'and', 'M', 'interrogate', 'Mr.', 'White,', 'who', 'reveals', 'that', 'the', 'organization', 'that', 'blackmailed', 'Vesper', 'is', 'far', 'more', 'complex', 'and', 'dangerous', 'than', 'anyone', 'had', 'imagined.']",
         "['killing', 'undercover', 'secretagent', 'britishsecretservice']",
         "['DanielCraig', 'OlgaKurylenko', 'MathieuAmalric']",
         "['MarcForster']",
         "['Adventure', 'Action', 'Thriller', 'Crime', 'Quantum', 'of', 'Solace', 'continues', 'the', 'adventures', 'of', 'James', 'Bond', 'after', 'Casino', 'Royale.', 'Betrayed', 'by', 'Vesper,', 'the', 'woman', 'he', 'loved,', '007', 'fights', 'the', 'urge', 'to', 'make', 'his', 'latest', 'mission', 'personal.', 'Pursuing', 'his', 'determination', 'to', 'uncover', 'the', 'truth,', 'Bond', 'and', 'M', 'interrogate', 'Mr.', 'White,', 'who', 'reveals', 'that', 'the', 'organization', 'that', 'blackmailed', 'Vesper', 'is', 'far', 'more', 'complex', 'and', 'dangerous', 'than', 'anyone', 'had', 'imagined.', 'killing', 'undercover', 'secretagent', 'britishsecretservice', 'DanielCraig', 'OlgaKurylenko', 'MathieuAmalric', 'MarcForster']"
        ],
        [
         "12",
         "58",
         "Pirates of the Caribbean: Dead Man's Chest",
         "['Adventure', 'Fantasy', 'Action']",
         "['Captain', 'Jack', 'Sparrow', 'works', 'his', 'way', 'out', 'of', 'a', 'blood', 'debt', 'with', 'the', 'ghostly', 'Davey', 'Jones,', 'he', 'also', 'attempts', 'to', 'avoid', 'eternal', 'damnation.']",
         "['witch', 'fortuneteller', 'bondage', 'exoticisland', 'monster', 'captain', 'cardgame', 'eastindiatradingcompany', 'compass', 'ship', 'daughter', 'pirate', 'swashbuckler', 'aftercreditsstinger']",
         "['JohnnyDepp', 'OrlandoBloom', 'KeiraKnightley']",
         "['GoreVerbinski']",
         "['Adventure', 'Fantasy', 'Action', 'Captain', 'Jack', 'Sparrow', 'works', 'his', 'way', 'out', 'of', 'a', 'blood', 'debt', 'with', 'the', 'ghostly', 'Davey', 'Jones,', 'he', 'also', 'attempts', 'to', 'avoid', 'eternal', 'damnation.', 'witch', 'fortuneteller', 'bondage', 'exoticisland', 'monster', 'captain', 'cardgame', 'eastindiatradingcompany', 'compass', 'ship', 'daughter', 'pirate', 'swashbuckler', 'aftercreditsstinger', 'JohnnyDepp', 'OrlandoBloom', 'KeiraKnightley', 'GoreVerbinski']"
        ],
        [
         "13",
         "57201",
         "The Lone Ranger",
         "['Action', 'Adventure', 'Western']",
         "['The', 'Texas', 'Rangers', 'chase', 'down', 'a', 'gang', 'of', 'outlaws', 'led', 'by', 'Butch', 'Cavendish,', 'but', 'the', 'gang', 'ambushes', 'the', 'Rangers,', 'seemingly', 'killing', 'them', 'all.', 'One', 'survivor', 'is', 'found,', 'however,', 'by', 'an', 'American', 'Indian', 'named', 'Tonto,', 'who', 'nurses', 'him', 'back', 'to', 'health.', 'The', 'Ranger,', 'donning', 'a', 'mask', 'and', 'riding', 'a', 'white', 'stallion', 'named', 'Silver,', 'teams', 'up', 'with', 'Tonto', 'to', 'bring', 'the', 'unscrupulous', 'gang', 'and', 'others', 'of', 'that', 'ilk', 'to', 'justice.']",
         "['texas', 'horse', 'survivor', 'texasranger', 'partner', 'outlaw', 'escape', 'lawyer', 'train', 'loneranger', 'comanche', 'theloneranger', 'tonto']",
         "['JohnnyDepp', 'ArmieHammer', 'WilliamFichtner']",
         "['GoreVerbinski']",
         "['Action', 'Adventure', 'Western', 'The', 'Texas', 'Rangers', 'chase', 'down', 'a', 'gang', 'of', 'outlaws', 'led', 'by', 'Butch', 'Cavendish,', 'but', 'the', 'gang', 'ambushes', 'the', 'Rangers,', 'seemingly', 'killing', 'them', 'all.', 'One', 'survivor', 'is', 'found,', 'however,', 'by', 'an', 'American', 'Indian', 'named', 'Tonto,', 'who', 'nurses', 'him', 'back', 'to', 'health.', 'The', 'Ranger,', 'donning', 'a', 'mask', 'and', 'riding', 'a', 'white', 'stallion', 'named', 'Silver,', 'teams', 'up', 'with', 'Tonto', 'to', 'bring', 'the', 'unscrupulous', 'gang', 'and', 'others', 'of', 'that', 'ilk', 'to', 'justice.', 'texas', 'horse', 'survivor', 'texasranger', 'partner', 'outlaw', 'escape', 'lawyer', 'train', 'loneranger', 'comanche', 'theloneranger', 'tonto', 'JohnnyDepp', 'ArmieHammer', 'WilliamFichtner', 'GoreVerbinski']"
        ],
        [
         "14",
         "49521",
         "Man of Steel",
         "['Action', 'Adventure', 'Fantasy', 'ScienceFiction']",
         "['A', 'young', 'boy', 'learns', 'that', 'he', 'has', 'extraordinary', 'powers', 'and', 'is', 'not', 'of', 'this', 'earth.', 'As', 'a', 'young', 'man,', 'he', 'journeys', 'to', 'discover', 'where', 'he', 'came', 'from', 'and', 'what', 'he', 'was', 'sent', 'here', 'to', 'do.', 'But', 'the', 'hero', 'in', 'him', 'must', 'emerge', 'if', 'he', 'is', 'to', 'save', 'the', 'world', 'from', 'annihilation', 'and', 'become', 'the', 'symbol', 'of', 'hope', 'for', 'all', 'mankind.']",
         "['savingtheworld', 'dccomics', 'superhero', 'basedoncomicbook', 'superhuman', 'alieninvasion', 'reboot', 'superpowers', 'dcextendeduniverse']",
         "['HenryCavill', 'AmyAdams', 'MichaelShannon']",
         "['ZackSnyder']",
         "['Action', 'Adventure', 'Fantasy', 'ScienceFiction', 'A', 'young', 'boy', 'learns', 'that', 'he', 'has', 'extraordinary', 'powers', 'and', 'is', 'not', 'of', 'this', 'earth.', 'As', 'a', 'young', 'man,', 'he', 'journeys', 'to', 'discover', 'where', 'he', 'came', 'from', 'and', 'what', 'he', 'was', 'sent', 'here', 'to', 'do.', 'But', 'the', 'hero', 'in', 'him', 'must', 'emerge', 'if', 'he', 'is', 'to', 'save', 'the', 'world', 'from', 'annihilation', 'and', 'become', 'the', 'symbol', 'of', 'hope', 'for', 'all', 'mankind.', 'savingtheworld', 'dccomics', 'superhero', 'basedoncomicbook', 'superhuman', 'alieninvasion', 'reboot', 'superpowers', 'dcextendeduniverse', 'HenryCavill', 'AmyAdams', 'MichaelShannon', 'ZackSnyder']"
        ],
        [
         "15",
         "2454",
         "The Chronicles of Narnia: Prince Caspian",
         "['Adventure', 'Family', 'Fantasy']",
         "['One', 'year', 'after', 'their', 'incredible', 'adventures', 'in', 'the', 'Lion,', 'the', 'Witch', 'and', 'the', 'Wardrobe,', 'Peter,', 'Edmund,', 'Lucy', 'and', 'Susan', 'Pevensie', 'return', 'to', 'Narnia', 'to', 'aid', 'a', 'young', 'prince', 'whose', 'life', 'has', 'been', 'threatened', 'by', 'the', 'evil', 'King', 'Miraz.', 'Now,', 'with', 'the', 'help', 'of', 'a', 'colorful', 'cast', 'of', 'new', 'characters,', 'including', 'Trufflehunter', 'the', 'badger', 'and', 'Nikabrik', 'the', 'dwarf,', 'the', 'Pevensie', 'clan', 'embarks', 'on', 'an', 'incredible', 'quest', 'to', 'ensure', 'that', 'Narnia', 'is', 'returned', 'to', 'its', 'rightful', 'heir.']",
         "['basedonnovel', 'fictionalplace', 'brothersisterrelationship', 'lion', 'humanbeing', 'wretch', 'leapintime', 'matteroflifeanddeath', 'faith', 'uncle', 'narnia', 'fantasyworld']",
         "['BenBarnes', 'WilliamMoseley', 'AnnaPopplewell']",
         "['AndrewAdamson']",
         "['Adventure', 'Family', 'Fantasy', 'One', 'year', 'after', 'their', 'incredible', 'adventures', 'in', 'the', 'Lion,', 'the', 'Witch', 'and', 'the', 'Wardrobe,', 'Peter,', 'Edmund,', 'Lucy', 'and', 'Susan', 'Pevensie', 'return', 'to', 'Narnia', 'to', 'aid', 'a', 'young', 'prince', 'whose', 'life', 'has', 'been', 'threatened', 'by', 'the', 'evil', 'King', 'Miraz.', 'Now,', 'with', 'the', 'help', 'of', 'a', 'colorful', 'cast', 'of', 'new', 'characters,', 'including', 'Trufflehunter', 'the', 'badger', 'and', 'Nikabrik', 'the', 'dwarf,', 'the', 'Pevensie', 'clan', 'embarks', 'on', 'an', 'incredible', 'quest', 'to', 'ensure', 'that', 'Narnia', 'is', 'returned', 'to', 'its', 'rightful', 'heir.', 'basedonnovel', 'fictionalplace', 'brothersisterrelationship', 'lion', 'humanbeing', 'wretch', 'leapintime', 'matteroflifeanddeath', 'faith', 'uncle', 'narnia', 'fantasyworld', 'BenBarnes', 'WilliamMoseley', 'AnnaPopplewell', 'AndrewAdamson']"
        ],
        [
         "16",
         "24428",
         "The Avengers",
         "['ScienceFiction', 'Action', 'Adventure']",
         "['When', 'an', 'unexpected', 'enemy', 'emerges', 'and', 'threatens', 'global', 'safety', 'and', 'security,', 'Nick', 'Fury,', 'director', 'of', 'the', 'international', 'peacekeeping', 'agency', 'known', 'as', 'S.H.I.E.L.D.,', 'finds', 'himself', 'in', 'need', 'of', 'a', 'team', 'to', 'pull', 'the', 'world', 'back', 'from', 'the', 'brink', 'of', 'disaster.', 'Spanning', 'the', 'globe,', 'a', 'daring', 'recruitment', 'effort', 'begins!']",
         "['newyork', 'shield', 'marvelcomic', 'superhero', 'basedoncomicbook', 'alieninvasion', 'superheroteam', 'aftercreditsstinger', 'duringcreditsstinger', 'marvelcinematicuniverse']",
         "['RobertDowneyJr.', 'ChrisEvans', 'MarkRuffalo']",
         "['JossWhedon']",
         "['ScienceFiction', 'Action', 'Adventure', 'When', 'an', 'unexpected', 'enemy', 'emerges', 'and', 'threatens', 'global', 'safety', 'and', 'security,', 'Nick', 'Fury,', 'director', 'of', 'the', 'international', 'peacekeeping', 'agency', 'known', 'as', 'S.H.I.E.L.D.,', 'finds', 'himself', 'in', 'need', 'of', 'a', 'team', 'to', 'pull', 'the', 'world', 'back', 'from', 'the', 'brink', 'of', 'disaster.', 'Spanning', 'the', 'globe,', 'a', 'daring', 'recruitment', 'effort', 'begins!', 'newyork', 'shield', 'marvelcomic', 'superhero', 'basedoncomicbook', 'alieninvasion', 'superheroteam', 'aftercreditsstinger', 'duringcreditsstinger', 'marvelcinematicuniverse', 'RobertDowneyJr.', 'ChrisEvans', 'MarkRuffalo', 'JossWhedon']"
        ],
        [
         "17",
         "1865",
         "Pirates of the Caribbean: On Stranger Tides",
         "['Adventure', 'Action', 'Fantasy']",
         "['Captain', 'Jack', 'Sparrow', 'crosses', 'paths', 'with', 'a', 'woman', 'from', 'his', 'past,', 'and', \"he's\", 'not', 'sure', 'if', \"it's\", 'love', '--', 'or', 'if', \"she's\", 'a', 'ruthless', 'con', 'artist', \"who's\", 'using', 'him', 'to', 'find', 'the', 'fabled', 'Fountain', 'of', 'Youth.', 'When', 'she', 'forces', 'him', 'aboard', 'the', 'Queen', \"Anne's\", 'Revenge,', 'the', 'ship', 'of', 'the', 'formidable', 'pirate', 'Blackbeard,', 'Jack', 'finds', 'himself', 'on', 'an', 'unexpected', 'adventure', 'in', 'which', 'he', \"doesn't\", 'know', 'who', 'to', 'fear', 'more:', 'Blackbeard', 'or', 'the', 'woman', 'from', 'his', 'past.']",
         "['sea', 'captain', 'mutiny', 'sword', 'primeminister', 'sailing', 'silver', 'ship', 'duke', 'mermaid', 'pirate', 'soldier', 'battle', 'swashbuckler', 'aftercreditsstinger', '3d']",
         "['JohnnyDepp', 'PenélopeCruz', 'IanMcShane']",
         "['RobMarshall']",
         "['Adventure', 'Action', 'Fantasy', 'Captain', 'Jack', 'Sparrow', 'crosses', 'paths', 'with', 'a', 'woman', 'from', 'his', 'past,', 'and', \"he's\", 'not', 'sure', 'if', \"it's\", 'love', '--', 'or', 'if', \"she's\", 'a', 'ruthless', 'con', 'artist', \"who's\", 'using', 'him', 'to', 'find', 'the', 'fabled', 'Fountain', 'of', 'Youth.', 'When', 'she', 'forces', 'him', 'aboard', 'the', 'Queen', \"Anne's\", 'Revenge,', 'the', 'ship', 'of', 'the', 'formidable', 'pirate', 'Blackbeard,', 'Jack', 'finds', 'himself', 'on', 'an', 'unexpected', 'adventure', 'in', 'which', 'he', \"doesn't\", 'know', 'who', 'to', 'fear', 'more:', 'Blackbeard', 'or', 'the', 'woman', 'from', 'his', 'past.', 'sea', 'captain', 'mutiny', 'sword', 'primeminister', 'sailing', 'silver', 'ship', 'duke', 'mermaid', 'pirate', 'soldier', 'battle', 'swashbuckler', 'aftercreditsstinger', '3d', 'JohnnyDepp', 'PenélopeCruz', 'IanMcShane', 'RobMarshall']"
        ],
        [
         "18",
         "41154",
         "Men in Black 3",
         "['Action', 'Comedy', 'ScienceFiction']",
         "['Agents', 'J', '(Will', 'Smith)', 'and', 'K', '(Tommy', 'Lee', 'Jones)', 'are', 'back...in', 'time.', 'J', 'has', 'seen', 'some', 'inexplicable', 'things', 'in', 'his', '15', 'years', 'with', 'the', 'Men', 'in', 'Black,', 'but', 'nothing,', 'not', 'even', 'aliens,', 'perplexes', 'him', 'as', 'much', 'as', 'his', 'wry,', 'reticent', 'partner.', 'But', 'when', \"K's\", 'life', 'and', 'the', 'fate', 'of', 'the', 'planet', 'are', 'put', 'at', 'stake,', 'Agent', 'J', 'will', 'have', 'to', 'travel', 'back', 'in', 'time', 'to', 'put', 'things', 'right.', 'J', 'discovers', 'that', 'there', 'are', 'secrets', 'to', 'the', 'universe', 'that', 'K', 'never', 'told', 'him', '-', 'secrets', 'that', 'will', 'reveal', 'themselves', 'as', 'he', 'teams', 'up', 'with', 'the', 'young', 'Agent', 'K', '(Josh', 'Brolin)', 'to', 'save', 'his', 'partner,', 'the', 'agency,', 'and', 'the', 'future', 'of', 'humankind.']",
         "['timetravel', 'timemachine', 'alien', 'fictionalgovernmentagency', 'seeingthefuture', 'changinghistory']",
         "['WillSmith', 'TommyLeeJones', 'JoshBrolin']",
         "['BarrySonnenfeld']",
         "['Action', 'Comedy', 'ScienceFiction', 'Agents', 'J', '(Will', 'Smith)', 'and', 'K', '(Tommy', 'Lee', 'Jones)', 'are', 'back...in', 'time.', 'J', 'has', 'seen', 'some', 'inexplicable', 'things', 'in', 'his', '15', 'years', 'with', 'the', 'Men', 'in', 'Black,', 'but', 'nothing,', 'not', 'even', 'aliens,', 'perplexes', 'him', 'as', 'much', 'as', 'his', 'wry,', 'reticent', 'partner.', 'But', 'when', \"K's\", 'life', 'and', 'the', 'fate', 'of', 'the', 'planet', 'are', 'put', 'at', 'stake,', 'Agent', 'J', 'will', 'have', 'to', 'travel', 'back', 'in', 'time', 'to', 'put', 'things', 'right.', 'J', 'discovers', 'that', 'there', 'are', 'secrets', 'to', 'the', 'universe', 'that', 'K', 'never', 'told', 'him', '-', 'secrets', 'that', 'will', 'reveal', 'themselves', 'as', 'he', 'teams', 'up', 'with', 'the', 'young', 'Agent', 'K', '(Josh', 'Brolin)', 'to', 'save', 'his', 'partner,', 'the', 'agency,', 'and', 'the', 'future', 'of', 'humankind.', 'timetravel', 'timemachine', 'alien', 'fictionalgovernmentagency', 'seeingthefuture', 'changinghistory', 'WillSmith', 'TommyLeeJones', 'JoshBrolin', 'BarrySonnenfeld']"
        ],
        [
         "19",
         "122917",
         "The Hobbit: The Battle of the Five Armies",
         "['Action', 'Adventure', 'Fantasy']",
         "['Immediately', 'after', 'the', 'events', 'of', 'The', 'Desolation', 'of', 'Smaug,', 'Bilbo', 'and', 'the', 'dwarves', 'try', 'to', 'defend', \"Erebor's\", 'mountain', 'of', 'treasure', 'from', 'others', 'who', 'claim', 'it:', 'the', 'men', 'of', 'the', 'ruined', 'Laketown', 'and', 'the', 'elves', 'of', 'Mirkwood.', 'Meanwhile', 'an', 'army', 'of', 'Orcs', 'led', 'by', 'Azog', 'the', 'Defiler', 'is', 'marching', 'on', 'Erebor,', 'fueled', 'by', 'the', 'rise', 'of', 'the', 'dark', 'lord', 'Sauron.', 'Dwarves,', 'elves', 'and', 'men', 'must', 'unite,', 'and', 'the', 'hope', 'for', 'Middle-Earth', 'falls', 'into', \"Bilbo's\", 'hands.']",
         "['corruption', 'elves', 'dwarves', 'orcs', 'middle-earth(tolkien)', 'hobbit', 'dragon', 'battle', 'unlikelyfriendship', 'epicbattle', 'swordandsorcery']",
         "['MartinFreeman', 'IanMcKellen', 'RichardArmitage']",
         "['PeterJackson']",
         "['Action', 'Adventure', 'Fantasy', 'Immediately', 'after', 'the', 'events', 'of', 'The', 'Desolation', 'of', 'Smaug,', 'Bilbo', 'and', 'the', 'dwarves', 'try', 'to', 'defend', \"Erebor's\", 'mountain', 'of', 'treasure', 'from', 'others', 'who', 'claim', 'it:', 'the', 'men', 'of', 'the', 'ruined', 'Laketown', 'and', 'the', 'elves', 'of', 'Mirkwood.', 'Meanwhile', 'an', 'army', 'of', 'Orcs', 'led', 'by', 'Azog', 'the', 'Defiler', 'is', 'marching', 'on', 'Erebor,', 'fueled', 'by', 'the', 'rise', 'of', 'the', 'dark', 'lord', 'Sauron.', 'Dwarves,', 'elves', 'and', 'men', 'must', 'unite,', 'and', 'the', 'hope', 'for', 'Middle-Earth', 'falls', 'into', \"Bilbo's\", 'hands.', 'corruption', 'elves', 'dwarves', 'orcs', 'middle-earth(tolkien)', 'hobbit', 'dragon', 'battle', 'unlikelyfriendship', 'epicbattle', 'swordandsorcery', 'MartinFreeman', 'IanMcKellen', 'RichardArmitage', 'PeterJackson']"
        ],
        [
         "20",
         "1930",
         "The Amazing Spider-Man",
         "['Action', 'Adventure', 'Fantasy']",
         "['Peter', 'Parker', 'is', 'an', 'outcast', 'high', 'schooler', 'abandoned', 'by', 'his', 'parents', 'as', 'a', 'boy,', 'leaving', 'him', 'to', 'be', 'raised', 'by', 'his', 'Uncle', 'Ben', 'and', 'Aunt', 'May.', 'Like', 'most', 'teenagers,', 'Peter', 'is', 'trying', 'to', 'figure', 'out', 'who', 'he', 'is', 'and', 'how', 'he', 'got', 'to', 'be', 'the', 'person', 'he', 'is', 'today.', 'As', 'Peter', 'discovers', 'a', 'mysterious', 'briefcase', 'that', 'belonged', 'to', 'his', 'father,', 'he', 'begins', 'a', 'quest', 'to', 'understand', 'his', \"parents'\", 'disappearance', '–', 'leading', 'him', 'directly', 'to', 'Oscorp', 'and', 'the', 'lab', 'of', 'Dr.', 'Curt', 'Connors,', 'his', \"father's\", 'former', 'partner.', 'As', 'Spider-Man', 'is', 'set', 'on', 'a', 'collision', 'course', 'with', \"Connors'\", 'alter', 'ego,', 'The', 'Lizard,', 'Peter', 'will', 'make', 'life-altering', 'choices', 'to', 'use', 'his', 'powers', 'and', 'shape', 'his', 'destiny', 'to', 'become', 'a', 'hero.']",
         "['lossoffather', 'vigilante', 'serum', 'marvelcomic', 'scientificexperiment', 'spiderbite', 'maskedvigilante', 'reboot', 'superpowers', 'geneticengineering', 'socialoutcast', 'duringcreditsstinger']",
         "['AndrewGarfield', 'EmmaStone', 'RhysIfans']",
         "['MarcWebb']",
         "['Action', 'Adventure', 'Fantasy', 'Peter', 'Parker', 'is', 'an', 'outcast', 'high', 'schooler', 'abandoned', 'by', 'his', 'parents', 'as', 'a', 'boy,', 'leaving', 'him', 'to', 'be', 'raised', 'by', 'his', 'Uncle', 'Ben', 'and', 'Aunt', 'May.', 'Like', 'most', 'teenagers,', 'Peter', 'is', 'trying', 'to', 'figure', 'out', 'who', 'he', 'is', 'and', 'how', 'he', 'got', 'to', 'be', 'the', 'person', 'he', 'is', 'today.', 'As', 'Peter', 'discovers', 'a', 'mysterious', 'briefcase', 'that', 'belonged', 'to', 'his', 'father,', 'he', 'begins', 'a', 'quest', 'to', 'understand', 'his', \"parents'\", 'disappearance', '–', 'leading', 'him', 'directly', 'to', 'Oscorp', 'and', 'the', 'lab', 'of', 'Dr.', 'Curt', 'Connors,', 'his', \"father's\", 'former', 'partner.', 'As', 'Spider-Man', 'is', 'set', 'on', 'a', 'collision', 'course', 'with', \"Connors'\", 'alter', 'ego,', 'The', 'Lizard,', 'Peter', 'will', 'make', 'life-altering', 'choices', 'to', 'use', 'his', 'powers', 'and', 'shape', 'his', 'destiny', 'to', 'become', 'a', 'hero.', 'lossoffather', 'vigilante', 'serum', 'marvelcomic', 'scientificexperiment', 'spiderbite', 'maskedvigilante', 'reboot', 'superpowers', 'geneticengineering', 'socialoutcast', 'duringcreditsstinger', 'AndrewGarfield', 'EmmaStone', 'RhysIfans', 'MarcWebb']"
        ],
        [
         "21",
         "20662",
         "Robin Hood",
         "['Action', 'Adventure']",
         "['When', 'soldier', 'Robin', 'happens', 'upon', 'the', 'dying', 'Robert', 'of', 'Loxley,', 'he', 'promises', 'to', 'return', 'the', \"man's\", 'sword', 'to', 'his', 'family', 'in', 'Nottingham.', 'There,', 'he', 'assumes', \"Robert's\", 'identity;', 'romances', 'his', 'widow,', 'Marion;', 'and', 'draws', 'the', 'ire', 'of', 'the', \"town's\", 'sheriff', 'and', 'King', \"John's\", 'henchman,', 'Godfrey.']",
         "['robinhood', 'archer', 'knight', 'sherwoodforest', 'bowandarrow', 'middleages', 'medieval', 'kingofengland']",
         "['RussellCrowe', 'CateBlanchett', 'MaxvonSydow']",
         "['RidleyScott']",
         "['Action', 'Adventure', 'When', 'soldier', 'Robin', 'happens', 'upon', 'the', 'dying', 'Robert', 'of', 'Loxley,', 'he', 'promises', 'to', 'return', 'the', \"man's\", 'sword', 'to', 'his', 'family', 'in', 'Nottingham.', 'There,', 'he', 'assumes', \"Robert's\", 'identity;', 'romances', 'his', 'widow,', 'Marion;', 'and', 'draws', 'the', 'ire', 'of', 'the', \"town's\", 'sheriff', 'and', 'King', \"John's\", 'henchman,', 'Godfrey.', 'robinhood', 'archer', 'knight', 'sherwoodforest', 'bowandarrow', 'middleages', 'medieval', 'kingofengland', 'RussellCrowe', 'CateBlanchett', 'MaxvonSydow', 'RidleyScott']"
        ],
        [
         "22",
         "57158",
         "The Hobbit: The Desolation of Smaug",
         "['Adventure', 'Fantasy']",
         "['The', 'Dwarves,', 'Bilbo', 'and', 'Gandalf', 'have', 'successfully', 'escaped', 'the', 'Misty', 'Mountains,', 'and', 'Bilbo', 'has', 'gained', 'the', 'One', 'Ring.', 'They', 'all', 'continue', 'their', 'journey', 'to', 'get', 'their', 'gold', 'back', 'from', 'the', 'Dragon,', 'Smaug.']",
         "['elves', 'dwarves', 'orcs', 'hobbit', 'dragon', 'wizard', 'swordandsorcery']",
         "['MartinFreeman', 'IanMcKellen', 'RichardArmitage']",
         "['PeterJackson']",
         "['Adventure', 'Fantasy', 'The', 'Dwarves,', 'Bilbo', 'and', 'Gandalf', 'have', 'successfully', 'escaped', 'the', 'Misty', 'Mountains,', 'and', 'Bilbo', 'has', 'gained', 'the', 'One', 'Ring.', 'They', 'all', 'continue', 'their', 'journey', 'to', 'get', 'their', 'gold', 'back', 'from', 'the', 'Dragon,', 'Smaug.', 'elves', 'dwarves', 'orcs', 'hobbit', 'dragon', 'wizard', 'swordandsorcery', 'MartinFreeman', 'IanMcKellen', 'RichardArmitage', 'PeterJackson']"
        ],
        [
         "23",
         "2268",
         "The Golden Compass",
         "['Adventure', 'Fantasy']",
         "['After', 'overhearing', 'a', 'shocking', 'secret,', 'precocious', 'orphan', 'Lyra', 'Belacqua', 'trades', 'her', 'carefree', 'existence', 'roaming', 'the', 'halls', 'of', 'Jordan', 'College', 'for', 'an', 'otherworldly', 'adventure', 'in', 'the', 'far', 'North,', 'unaware', 'that', \"it's\", 'part', 'of', 'her', 'destiny.']",
         "['england', 'compass', 'experiment', 'lordship', 'uncle', 'polarbear', 'orphan', 'animal', 'basedonyoungadultnovel']",
         "['DakotaBlueRichards', 'NicoleKidman', 'DanielCraig']",
         "['ChrisWeitz']",
         "['Adventure', 'Fantasy', 'After', 'overhearing', 'a', 'shocking', 'secret,', 'precocious', 'orphan', 'Lyra', 'Belacqua', 'trades', 'her', 'carefree', 'existence', 'roaming', 'the', 'halls', 'of', 'Jordan', 'College', 'for', 'an', 'otherworldly', 'adventure', 'in', 'the', 'far', 'North,', 'unaware', 'that', \"it's\", 'part', 'of', 'her', 'destiny.', 'england', 'compass', 'experiment', 'lordship', 'uncle', 'polarbear', 'orphan', 'animal', 'basedonyoungadultnovel', 'DakotaBlueRichards', 'NicoleKidman', 'DanielCraig', 'ChrisWeitz']"
        ],
        [
         "24",
         "254",
         "King Kong",
         "['Adventure', 'Drama', 'Action']",
         "['In', '1933', 'New', 'York,', 'an', 'overly', 'ambitious', 'movie', 'producer', 'coerces', 'his', 'cast', 'and', 'hired', 'ship', 'crew', 'to', 'travel', 'to', 'mysterious', 'Skull', 'Island,', 'where', 'they', 'encounter', 'Kong,', 'a', 'giant', 'ape', 'who', 'is', 'immediately', 'smitten', 'with', 'the', 'leading', 'lady.']",
         "['filmbusiness', 'screenplay', 'showbusiness', 'filmmaking', 'filmproducer', 'exoticisland', 'monster', 'indigenous', 'ship', 'dinosaur']",
         "['NaomiWatts', 'JackBlack', 'AdrienBrody']",
         "['PeterJackson']",
         "['Adventure', 'Drama', 'Action', 'In', '1933', 'New', 'York,', 'an', 'overly', 'ambitious', 'movie', 'producer', 'coerces', 'his', 'cast', 'and', 'hired', 'ship', 'crew', 'to', 'travel', 'to', 'mysterious', 'Skull', 'Island,', 'where', 'they', 'encounter', 'Kong,', 'a', 'giant', 'ape', 'who', 'is', 'immediately', 'smitten', 'with', 'the', 'leading', 'lady.', 'filmbusiness', 'screenplay', 'showbusiness', 'filmmaking', 'filmproducer', 'exoticisland', 'monster', 'indigenous', 'ship', 'dinosaur', 'NaomiWatts', 'JackBlack', 'AdrienBrody', 'PeterJackson']"
        ],
        [
         "25",
         "597",
         "Titanic",
         "['Drama', 'Romance', 'Thriller']",
         "['84', 'years', 'later,', 'a', '101-year-old', 'woman', 'named', 'Rose', 'DeWitt', 'Bukater', 'tells', 'the', 'story', 'to', 'her', 'granddaughter', 'Lizzy', 'Calvert,', 'Brock', 'Lovett,', 'Lewis', 'Bodine,', 'Bobby', 'Buell', 'and', 'Anatoly', 'Mikailavich', 'on', 'the', 'Keldysh', 'about', 'her', 'life', 'set', 'in', 'April', '10th', '1912,', 'on', 'a', 'ship', 'called', 'Titanic', 'when', 'young', 'Rose', 'boards', 'the', 'departing', 'ship', 'with', 'the', 'upper-class', 'passengers', 'and', 'her', 'mother,', 'Ruth', 'DeWitt', 'Bukater,', 'and', 'her', 'fiancé,', 'Caledon', 'Hockley.', 'Meanwhile,', 'a', 'drifter', 'and', 'artist', 'named', 'Jack', 'Dawson', 'and', 'his', 'best', 'friend', 'Fabrizio', 'De', 'Rossi', 'win', 'third-class', 'tickets', 'to', 'the', 'ship', 'in', 'a', 'game.', 'And', 'she', 'explains', 'the', 'whole', 'story', 'from', 'departure', 'until', 'the', 'death', 'of', 'Titanic', 'on', 'its', 'first', 'and', 'last', 'voyage', 'April', '15th,', '1912', 'at', '2:20', 'in', 'the', 'morning.']",
         "['shipwreck', 'iceberg', 'ship', 'panic', 'titanic', 'oceanliner', 'epic', 'richwoman-poorman', 'love', 'disaster', 'tragiclove', 'classdifferences', 'imax', 'starcrossedlovers', 'steerage', 'salvage', 'richsnob', '3d', '1910s']",
         "['KateWinslet', 'LeonardoDiCaprio', 'FrancesFisher']",
         "['JamesCameron']",
         "['Drama', 'Romance', 'Thriller', '84', 'years', 'later,', 'a', '101-year-old', 'woman', 'named', 'Rose', 'DeWitt', 'Bukater', 'tells', 'the', 'story', 'to', 'her', 'granddaughter', 'Lizzy', 'Calvert,', 'Brock', 'Lovett,', 'Lewis', 'Bodine,', 'Bobby', 'Buell', 'and', 'Anatoly', 'Mikailavich', 'on', 'the', 'Keldysh', 'about', 'her', 'life', 'set', 'in', 'April', '10th', '1912,', 'on', 'a', 'ship', 'called', 'Titanic', 'when', 'young', 'Rose', 'boards', 'the', 'departing', 'ship', 'with', 'the', 'upper-class', 'passengers', 'and', 'her', 'mother,', 'Ruth', 'DeWitt', 'Bukater,', 'and', 'her', 'fiancé,', 'Caledon', 'Hockley.', 'Meanwhile,', 'a', 'drifter', 'and', 'artist', 'named', 'Jack', 'Dawson', 'and', 'his', 'best', 'friend', 'Fabrizio', 'De', 'Rossi', 'win', 'third-class', 'tickets', 'to', 'the', 'ship', 'in', 'a', 'game.', 'And', 'she', 'explains', 'the', 'whole', 'story', 'from', 'departure', 'until', 'the', 'death', 'of', 'Titanic', 'on', 'its', 'first', 'and', 'last', 'voyage', 'April', '15th,', '1912', 'at', '2:20', 'in', 'the', 'morning.', 'shipwreck', 'iceberg', 'ship', 'panic', 'titanic', 'oceanliner', 'epic', 'richwoman-poorman', 'love', 'disaster', 'tragiclove', 'classdifferences', 'imax', 'starcrossedlovers', 'steerage', 'salvage', 'richsnob', '3d', '1910s', 'KateWinslet', 'LeonardoDiCaprio', 'FrancesFisher', 'JamesCameron']"
        ],
        [
         "26",
         "271110",
         "Captain America: Civil War",
         "['Adventure', 'Action', 'ScienceFiction']",
         "['Following', 'the', 'events', 'of', 'Age', 'of', 'Ultron,', 'the', 'collective', 'governments', 'of', 'the', 'world', 'pass', 'an', 'act', 'designed', 'to', 'regulate', 'all', 'superhuman', 'activity.', 'This', 'polarizes', 'opinion', 'amongst', 'the', 'Avengers,', 'causing', 'two', 'factions', 'to', 'side', 'with', 'Iron', 'Man', 'or', 'Captain', 'America,', 'which', 'causes', 'an', 'epic', 'battle', 'between', 'former', 'allies.']",
         "['civilwar', 'war', 'marvelcomic', 'sequel', 'superhero', 'basedoncomicbook', 'imax', 'aftercreditsstinger', 'duringcreditsstinger', 'marvelcinematicuniverse', '3d']",
         "['ChrisEvans', 'RobertDowneyJr.', 'ScarlettJohansson']",
         "['AnthonyRusso']",
         "['Adventure', 'Action', 'ScienceFiction', 'Following', 'the', 'events', 'of', 'Age', 'of', 'Ultron,', 'the', 'collective', 'governments', 'of', 'the', 'world', 'pass', 'an', 'act', 'designed', 'to', 'regulate', 'all', 'superhuman', 'activity.', 'This', 'polarizes', 'opinion', 'amongst', 'the', 'Avengers,', 'causing', 'two', 'factions', 'to', 'side', 'with', 'Iron', 'Man', 'or', 'Captain', 'America,', 'which', 'causes', 'an', 'epic', 'battle', 'between', 'former', 'allies.', 'civilwar', 'war', 'marvelcomic', 'sequel', 'superhero', 'basedoncomicbook', 'imax', 'aftercreditsstinger', 'duringcreditsstinger', 'marvelcinematicuniverse', '3d', 'ChrisEvans', 'RobertDowneyJr.', 'ScarlettJohansson', 'AnthonyRusso']"
        ],
        [
         "27",
         "44833",
         "Battleship",
         "['Thriller', 'Action', 'Adventure', 'ScienceFiction']",
         "['When', 'mankind', 'beams', 'a', 'radio', 'signal', 'into', 'space,', 'a', 'reply', 'comes', 'from', '‘Planet', 'G’,', 'in', 'the', 'form', 'of', 'several', 'alien', 'crafts', 'that', 'splash', 'down', 'in', 'the', 'waters', 'off', 'Hawaii.', 'Lieutenant', 'Alex', 'Hopper', 'is', 'a', 'weapons', 'officer', 'assigned', 'to', 'the', 'USS', 'John', 'Paul', 'Jones,', 'part', 'of', 'an', 'international', 'naval', 'coalition', 'which', 'becomes', 'the', \"world's\", 'last', 'hope', 'for', 'survival', 'as', 'they', 'engage', 'the', 'hostile', 'alien', 'force', 'of', 'unimaginable', 'strength.', 'While', 'taking', 'on', 'the', 'invaders,', 'Hopper', 'must', 'also', 'try', 'to', 'live', 'up', 'to', 'the', 'potential', 'his', 'brother,', 'and', 'his', \"fiancée's\", 'father,', 'Admiral', 'Shane,', 'expect', 'of', 'him.']",
         "['fight', 'u.s.navy', 'mindreading', 'hongkong', 'soccer', 'scientist', 'fictionalwar', 'naval', 'armada', 'battleship', 'navalcombat', 'jdsmyoko', 'lostcommunication', 'taser', 'buoy', 'communicationsexpert', 'jointchiefsofstaff', 'crashlanding', 'jetfighterpilot', 'navylieutenant', 'permissiontomarry', 'ussjohnpauljones', 'basedonboardgame', 'aftercreditsstinger', 'mightymo', 'ussmissouri']",
         "['TaylorKitsch', 'AlexanderSkarsgård', 'Rihanna']",
         "['PeterBerg']",
         "['Thriller', 'Action', 'Adventure', 'ScienceFiction', 'When', 'mankind', 'beams', 'a', 'radio', 'signal', 'into', 'space,', 'a', 'reply', 'comes', 'from', '‘Planet', 'G’,', 'in', 'the', 'form', 'of', 'several', 'alien', 'crafts', 'that', 'splash', 'down', 'in', 'the', 'waters', 'off', 'Hawaii.', 'Lieutenant', 'Alex', 'Hopper', 'is', 'a', 'weapons', 'officer', 'assigned', 'to', 'the', 'USS', 'John', 'Paul', 'Jones,', 'part', 'of', 'an', 'international', 'naval', 'coalition', 'which', 'becomes', 'the', \"world's\", 'last', 'hope', 'for', 'survival', 'as', 'they', 'engage', 'the', 'hostile', 'alien', 'force', 'of', 'unimaginable', 'strength.', 'While', 'taking', 'on', 'the', 'invaders,', 'Hopper', 'must', 'also', 'try', 'to', 'live', 'up', 'to', 'the', 'potential', 'his', 'brother,', 'and', 'his', \"fiancée's\", 'father,', 'Admiral', 'Shane,', 'expect', 'of', 'him.', 'fight', 'u.s.navy', 'mindreading', 'hongkong', 'soccer', 'scientist', 'fictionalwar', 'naval', 'armada', 'battleship', 'navalcombat', 'jdsmyoko', 'lostcommunication', 'taser', 'buoy', 'communicationsexpert', 'jointchiefsofstaff', 'crashlanding', 'jetfighterpilot', 'navylieutenant', 'permissiontomarry', 'ussjohnpauljones', 'basedonboardgame', 'aftercreditsstinger', 'mightymo', 'ussmissouri', 'TaylorKitsch', 'AlexanderSkarsgård', 'Rihanna', 'PeterBerg']"
        ],
        [
         "28",
         "135397",
         "Jurassic World",
         "['Action', 'Adventure', 'ScienceFiction', 'Thriller']",
         "['Twenty-two', 'years', 'after', 'the', 'events', 'of', 'Jurassic', 'Park,', 'Isla', 'Nublar', 'now', 'features', 'a', 'fully', 'functioning', 'dinosaur', 'theme', 'park,', 'Jurassic', 'World,', 'as', 'originally', 'envisioned', 'by', 'John', 'Hammond.']",
         "['monster', 'dna', 'tyrannosaurusrex', 'velociraptor', 'island', 'sequel', 'suspense', 'disaster', 'escape', 'dinosaur', 'amusementpark', 'animalattack', 'themepark', 'jurassicpark', '3d', 'animalhorror']",
         "['ChrisPratt', 'BryceDallasHoward', 'IrrfanKhan']",
         "['ColinTrevorrow']",
         "['Action', 'Adventure', 'ScienceFiction', 'Thriller', 'Twenty-two', 'years', 'after', 'the', 'events', 'of', 'Jurassic', 'Park,', 'Isla', 'Nublar', 'now', 'features', 'a', 'fully', 'functioning', 'dinosaur', 'theme', 'park,', 'Jurassic', 'World,', 'as', 'originally', 'envisioned', 'by', 'John', 'Hammond.', 'monster', 'dna', 'tyrannosaurusrex', 'velociraptor', 'island', 'sequel', 'suspense', 'disaster', 'escape', 'dinosaur', 'amusementpark', 'animalattack', 'themepark', 'jurassicpark', '3d', 'animalhorror', 'ChrisPratt', 'BryceDallasHoward', 'IrrfanKhan', 'ColinTrevorrow']"
        ],
        [
         "29",
         "37724",
         "Skyfall",
         "['Action', 'Adventure', 'Thriller']",
         "['When', \"Bond's\", 'latest', 'assignment', 'goes', 'gravely', 'wrong', 'and', 'agents', 'around', 'the', 'world', 'are', 'exposed,', 'MI6', 'is', 'attacked', 'forcing', 'M', 'to', 'relocate', 'the', 'agency.', 'These', 'events', 'cause', 'her', 'authority', 'and', 'position', 'to', 'be', 'challenged', 'by', 'Gareth', 'Mallory,', 'the', 'new', 'Chairman', 'of', 'the', 'Intelligence', 'and', 'Security', 'Committee.', 'With', 'MI6', 'now', 'compromised', 'from', 'both', 'inside', 'and', 'out,', 'M', 'is', 'left', 'with', 'one', 'ally', 'she', 'can', 'trust:', 'Bond.', '007', 'takes', 'to', 'the', 'shadows', '-', 'aided', 'only', 'by', 'field', 'agent,', 'Eve', '-', 'following', 'a', 'trail', 'to', 'the', 'mysterious', 'Silva,', 'whose', 'lethal', 'and', 'hidden', 'motives', 'have', 'yet', 'to', 'reveal', 'themselves.']",
         "['spy', 'secretagent', 'sociopath', 'killer', 'artgallery', 'britishsecretservice', 'istanbulturkey', 'imax', 'uzi', 'boobytrap', 'impersonatingapoliceofficer', 'macao']",
         "['DanielCraig', 'JudiDench', 'JavierBardem']",
         "['SamMendes']",
         "['Action', 'Adventure', 'Thriller', 'When', \"Bond's\", 'latest', 'assignment', 'goes', 'gravely', 'wrong', 'and', 'agents', 'around', 'the', 'world', 'are', 'exposed,', 'MI6', 'is', 'attacked', 'forcing', 'M', 'to', 'relocate', 'the', 'agency.', 'These', 'events', 'cause', 'her', 'authority', 'and', 'position', 'to', 'be', 'challenged', 'by', 'Gareth', 'Mallory,', 'the', 'new', 'Chairman', 'of', 'the', 'Intelligence', 'and', 'Security', 'Committee.', 'With', 'MI6', 'now', 'compromised', 'from', 'both', 'inside', 'and', 'out,', 'M', 'is', 'left', 'with', 'one', 'ally', 'she', 'can', 'trust:', 'Bond.', '007', 'takes', 'to', 'the', 'shadows', '-', 'aided', 'only', 'by', 'field', 'agent,', 'Eve', '-', 'following', 'a', 'trail', 'to', 'the', 'mysterious', 'Silva,', 'whose', 'lethal', 'and', 'hidden', 'motives', 'have', 'yet', 'to', 'reveal', 'themselves.', 'spy', 'secretagent', 'sociopath', 'killer', 'artgallery', 'britishsecretservice', 'istanbulturkey', 'imax', 'uzi', 'boobytrap', 'impersonatingapoliceofficer', 'macao', 'DanielCraig', 'JudiDench', 'JavierBardem', 'SamMendes']"
        ],
        [
         "30",
         "558",
         "Spider-Man 2",
         "['Action', 'Adventure', 'Fantasy']",
         "['Peter', 'Parker', 'is', 'going', 'through', 'a', 'major', 'identity', 'crisis.', 'Burned', 'out', 'from', 'being', 'Spider-Man,', 'he', 'decides', 'to', 'shelve', 'his', 'superhero', 'alter', 'ego,', 'which', 'leaves', 'the', 'city', 'suffering', 'in', 'the', 'wake', 'of', 'carnage', 'left', 'by', 'the', 'evil', 'Doc', 'Ock.', 'In', 'the', 'meantime,', 'Parker', 'still', \"can't\", 'act', 'on', 'his', 'feelings', 'for', 'Mary', 'Jane', 'Watson,', 'a', 'girl', \"he's\", 'loved', 'since', 'childhood.']",
         "['dualidentity', \"loveofone'slife\", 'pizzaboy', 'marvelcomic', 'sequel', 'superhero', 'doctor', 'scientist', 'tentacle', 'death', 'supervillain']",
         "['TobeyMaguire', 'KirstenDunst', 'JamesFranco']",
         "['SamRaimi']",
         "['Action', 'Adventure', 'Fantasy', 'Peter', 'Parker', 'is', 'going', 'through', 'a', 'major', 'identity', 'crisis.', 'Burned', 'out', 'from', 'being', 'Spider-Man,', 'he', 'decides', 'to', 'shelve', 'his', 'superhero', 'alter', 'ego,', 'which', 'leaves', 'the', 'city', 'suffering', 'in', 'the', 'wake', 'of', 'carnage', 'left', 'by', 'the', 'evil', 'Doc', 'Ock.', 'In', 'the', 'meantime,', 'Parker', 'still', \"can't\", 'act', 'on', 'his', 'feelings', 'for', 'Mary', 'Jane', 'Watson,', 'a', 'girl', \"he's\", 'loved', 'since', 'childhood.', 'dualidentity', \"loveofone'slife\", 'pizzaboy', 'marvelcomic', 'sequel', 'superhero', 'doctor', 'scientist', 'tentacle', 'death', 'supervillain', 'TobeyMaguire', 'KirstenDunst', 'JamesFranco', 'SamRaimi']"
        ],
        [
         "31",
         "68721",
         "Iron Man 3",
         "['Action', 'Adventure', 'ScienceFiction']",
         "['When', 'Tony', \"Stark's\", 'world', 'is', 'torn', 'apart', 'by', 'a', 'formidable', 'terrorist', 'called', 'the', 'Mandarin,', 'he', 'starts', 'an', 'odyssey', 'of', 'rebuilding', 'and', 'retribution.']",
         "['terrorist', 'waronterror', 'tennessee', 'malibu', 'marvelcomic', 'superhero', 'basedoncomicbook', 'tonystark', 'ironman', 'aftercreditsstinger', 'marvelcinematicuniverse', 'mandarin', '3d', 'warmachine', 'ironpatriot', 'extremis']",
         "['RobertDowneyJr.', 'GwynethPaltrow', 'DonCheadle']",
         "['ShaneBlack']",
         "['Action', 'Adventure', 'ScienceFiction', 'When', 'Tony', \"Stark's\", 'world', 'is', 'torn', 'apart', 'by', 'a', 'formidable', 'terrorist', 'called', 'the', 'Mandarin,', 'he', 'starts', 'an', 'odyssey', 'of', 'rebuilding', 'and', 'retribution.', 'terrorist', 'waronterror', 'tennessee', 'malibu', 'marvelcomic', 'superhero', 'basedoncomicbook', 'tonystark', 'ironman', 'aftercreditsstinger', 'marvelcinematicuniverse', 'mandarin', '3d', 'warmachine', 'ironpatriot', 'extremis', 'RobertDowneyJr.', 'GwynethPaltrow', 'DonCheadle', 'ShaneBlack']"
        ],
        [
         "32",
         "12155",
         "Alice in Wonderland",
         "['Family', 'Fantasy', 'Adventure']",
         "['Alice,', 'an', 'unpretentious', 'and', 'individual', '19-year-old,', 'is', 'betrothed', 'to', 'a', 'dunce', 'of', 'an', 'English', 'nobleman.', 'At', 'her', 'engagement', 'party,', 'she', 'escapes', 'the', 'crowd', 'to', 'consider', 'whether', 'to', 'go', 'through', 'with', 'the', 'marriage', 'and', 'falls', 'down', 'a', 'hole', 'in', 'the', 'garden', 'after', 'spotting', 'an', 'unusual', 'rabbit.', 'Arriving', 'in', 'a', 'strange', 'and', 'surreal', 'place', 'called', \"'Underland,'\", 'she', 'finds', 'herself', 'in', 'a', 'world', 'that', 'resembles', 'the', 'nightmares', 'she', 'had', 'as', 'a', 'child,', 'filled', 'with', 'talking', 'animals,', 'villainous', 'queens', 'and', 'knights,', 'and', 'frumious', 'bandersnatches.', 'Alice', 'realizes', 'that', 'she', 'is', 'there', 'for', 'a', 'reason', '–', 'to', 'conquer', 'the', 'horrific', 'Jabberwocky', 'and', 'restore', 'the', 'rightful', 'queen', 'to', 'her', 'throne.']",
         "['basedonnovel', 'fictionalplace', 'queen', 'fantasy', 'aliceinwonderland', 'fantasyworld', '3d']",
         "['MiaWasikowska', 'JohnnyDepp', 'AnneHathaway']",
         "['TimBurton']",
         "['Family', 'Fantasy', 'Adventure', 'Alice,', 'an', 'unpretentious', 'and', 'individual', '19-year-old,', 'is', 'betrothed', 'to', 'a', 'dunce', 'of', 'an', 'English', 'nobleman.', 'At', 'her', 'engagement', 'party,', 'she', 'escapes', 'the', 'crowd', 'to', 'consider', 'whether', 'to', 'go', 'through', 'with', 'the', 'marriage', 'and', 'falls', 'down', 'a', 'hole', 'in', 'the', 'garden', 'after', 'spotting', 'an', 'unusual', 'rabbit.', 'Arriving', 'in', 'a', 'strange', 'and', 'surreal', 'place', 'called', \"'Underland,'\", 'she', 'finds', 'herself', 'in', 'a', 'world', 'that', 'resembles', 'the', 'nightmares', 'she', 'had', 'as', 'a', 'child,', 'filled', 'with', 'talking', 'animals,', 'villainous', 'queens', 'and', 'knights,', 'and', 'frumious', 'bandersnatches.', 'Alice', 'realizes', 'that', 'she', 'is', 'there', 'for', 'a', 'reason', '–', 'to', 'conquer', 'the', 'horrific', 'Jabberwocky', 'and', 'restore', 'the', 'rightful', 'queen', 'to', 'her', 'throne.', 'basedonnovel', 'fictionalplace', 'queen', 'fantasy', 'aliceinwonderland', 'fantasyworld', '3d', 'MiaWasikowska', 'JohnnyDepp', 'AnneHathaway', 'TimBurton']"
        ],
        [
         "33",
         "36668",
         "X-Men: The Last Stand",
         "['Adventure', 'Action', 'ScienceFiction', 'Thriller']",
         "['When', 'a', 'cure', 'is', 'found', 'to', 'treat', 'mutations,', 'lines', 'are', 'drawn', 'amongst', 'the', 'X-Men', 'and', 'The', 'Brotherhood,', 'a', 'band', 'of', 'powerful', 'mutants', 'organized', 'under', \"Xavier's\", 'former', 'ally,', 'Magneto.']",
         "['mutant', 'marvelcomic', 'basedoncomicbook', 'superhuman', 'beast', 'cyclops', 'aftercreditsstinger']",
         "['HughJackman', 'HalleBerry', 'IanMcKellen']",
         "['BrettRatner']",
         "['Adventure', 'Action', 'ScienceFiction', 'Thriller', 'When', 'a', 'cure', 'is', 'found', 'to', 'treat', 'mutations,', 'lines', 'are', 'drawn', 'amongst', 'the', 'X-Men', 'and', 'The', 'Brotherhood,', 'a', 'band', 'of', 'powerful', 'mutants', 'organized', 'under', \"Xavier's\", 'former', 'ally,', 'Magneto.', 'mutant', 'marvelcomic', 'basedoncomicbook', 'superhuman', 'beast', 'cyclops', 'aftercreditsstinger', 'HughJackman', 'HalleBerry', 'IanMcKellen', 'BrettRatner']"
        ],
        [
         "34",
         "62211",
         "Monsters University",
         "['Animation', 'Family']",
         "['A', 'look', 'at', 'the', 'relationship', 'between', 'Mike', 'and', 'Sulley', 'during', 'their', 'days', 'at', 'Monsters', 'University', '—', 'when', 'they', \"weren't\", 'necessarily', 'the', 'best', 'of', 'friends.']",
         "['monster', 'dormitory', 'games', 'animation', 'bestfriend', 'university', 'scary', 'aftercreditsstinger']",
         "['BillyCrystal', 'JohnGoodman', 'SteveBuscemi']",
         "['DanScanlon']",
         "['Animation', 'Family', 'A', 'look', 'at', 'the', 'relationship', 'between', 'Mike', 'and', 'Sulley', 'during', 'their', 'days', 'at', 'Monsters', 'University', '—', 'when', 'they', \"weren't\", 'necessarily', 'the', 'best', 'of', 'friends.', 'monster', 'dormitory', 'games', 'animation', 'bestfriend', 'university', 'scary', 'aftercreditsstinger', 'BillyCrystal', 'JohnGoodman', 'SteveBuscemi', 'DanScanlon']"
        ],
        [
         "35",
         "8373",
         "Transformers: Revenge of the Fallen",
         "['ScienceFiction', 'Action', 'Adventure']",
         "['Sam', 'Witwicky', 'leaves', 'the', 'Autobots', 'behind', 'for', 'a', 'normal', 'life.', 'But', 'when', 'his', 'mind', 'is', 'filled', 'with', 'cryptic', 'symbols,', 'the', 'Decepticons', 'target', 'him', 'and', 'he', 'is', 'dragged', 'back', 'into', 'the', \"Transformers'\", 'war.']",
         "['egypt', 'sun', 'chaos', 'symbol', 'artifact', 'transformers', 'tank', 'robot', 'imax', 'duringcreditsstinger']",
         "['ShiaLaBeouf', 'MeganFox', 'JoshDuhamel']",
         "['MichaelBay']",
         "['ScienceFiction', 'Action', 'Adventure', 'Sam', 'Witwicky', 'leaves', 'the', 'Autobots', 'behind', 'for', 'a', 'normal', 'life.', 'But', 'when', 'his', 'mind', 'is', 'filled', 'with', 'cryptic', 'symbols,', 'the', 'Decepticons', 'target', 'him', 'and', 'he', 'is', 'dragged', 'back', 'into', 'the', \"Transformers'\", 'war.', 'egypt', 'sun', 'chaos', 'symbol', 'artifact', 'transformers', 'tank', 'robot', 'imax', 'duringcreditsstinger', 'ShiaLaBeouf', 'MeganFox', 'JoshDuhamel', 'MichaelBay']"
        ],
        [
         "36",
         "91314",
         "Transformers: Age of Extinction",
         "['ScienceFiction', 'Action', 'Adventure']",
         "['As', 'humanity', 'picks', 'up', 'the', 'pieces,', 'following', 'the', 'conclusion', 'of', '\"Transformers:', 'Dark', 'of', 'the', 'Moon,\"', 'Autobots', 'and', 'Decepticons', 'have', 'all', 'but', 'vanished', 'from', 'the', 'face', 'of', 'the', 'planet.', 'However,', 'a', 'group', 'of', 'powerful,', 'ingenious', 'businessman', 'and', 'scientists', 'attempt', 'to', 'learn', 'from', 'past', 'Transformer', 'incursions', 'and', 'push', 'the', 'boundaries', 'of', 'technology', 'beyond', 'what', 'they', 'can', 'control', '-', 'all', 'while', 'an', 'ancient,', 'powerful', 'Transformer', 'menace', 'sets', 'Earth', 'in', 'his', 'cross-hairs.']",
         "['sequel', 'alien', 'transformers', 'giantrobot', 'robot', 'imax', 'transformingrobot']",
         "['MarkWahlberg', 'StanleyTucci', 'KelseyGrammer']",
         "['MichaelBay']",
         "['ScienceFiction', 'Action', 'Adventure', 'As', 'humanity', 'picks', 'up', 'the', 'pieces,', 'following', 'the', 'conclusion', 'of', '\"Transformers:', 'Dark', 'of', 'the', 'Moon,\"', 'Autobots', 'and', 'Decepticons', 'have', 'all', 'but', 'vanished', 'from', 'the', 'face', 'of', 'the', 'planet.', 'However,', 'a', 'group', 'of', 'powerful,', 'ingenious', 'businessman', 'and', 'scientists', 'attempt', 'to', 'learn', 'from', 'past', 'Transformer', 'incursions', 'and', 'push', 'the', 'boundaries', 'of', 'technology', 'beyond', 'what', 'they', 'can', 'control', '-', 'all', 'while', 'an', 'ancient,', 'powerful', 'Transformer', 'menace', 'sets', 'Earth', 'in', 'his', 'cross-hairs.', 'sequel', 'alien', 'transformers', 'giantrobot', 'robot', 'imax', 'transformingrobot', 'MarkWahlberg', 'StanleyTucci', 'KelseyGrammer', 'MichaelBay']"
        ],
        [
         "37",
         "68728",
         "Oz: The Great and Powerful",
         "['Fantasy', 'Adventure', 'Family']",
         "['Oscar', 'Diggs,', 'a', 'small-time', 'circus', 'illusionist', 'and', 'con-artist,', 'is', 'whisked', 'from', 'Kansas', 'to', 'the', 'Land', 'of', 'Oz', 'where', 'the', 'inhabitants', 'assume', \"he's\", 'the', 'great', 'wizard', 'of', 'prophecy,', 'there', 'to', 'save', 'Oz', 'from', 'the', 'clutches', 'of', 'evil.']",
         "['circus', 'witch', 'magic', 'hope', 'illusion', 'lost', 'magictrick', 'wizard', '3d']",
         "['JamesFranco', 'MilaKunis', 'RachelWeisz']",
         "['SamRaimi']",
         "['Fantasy', 'Adventure', 'Family', 'Oscar', 'Diggs,', 'a', 'small-time', 'circus', 'illusionist', 'and', 'con-artist,', 'is', 'whisked', 'from', 'Kansas', 'to', 'the', 'Land', 'of', 'Oz', 'where', 'the', 'inhabitants', 'assume', \"he's\", 'the', 'great', 'wizard', 'of', 'prophecy,', 'there', 'to', 'save', 'Oz', 'from', 'the', 'clutches', 'of', 'evil.', 'circus', 'witch', 'magic', 'hope', 'illusion', 'lost', 'magictrick', 'wizard', '3d', 'JamesFranco', 'MilaKunis', 'RachelWeisz', 'SamRaimi']"
        ],
        [
         "38",
         "102382",
         "The Amazing Spider-Man 2",
         "['Action', 'Adventure', 'Fantasy']",
         "['For', 'Peter', 'Parker,', 'life', 'is', 'busy.', 'Between', 'taking', 'out', 'the', 'bad', 'guys', 'as', 'Spider-Man', 'and', 'spending', 'time', 'with', 'the', 'person', 'he', 'loves,', 'Gwen', 'Stacy,', 'high', 'school', 'graduation', 'cannot', 'come', 'quickly', 'enough.', 'Peter', 'has', 'not', 'forgotten', 'about', 'the', 'promise', 'he', 'made', 'to', 'Gwen’s', 'father', 'to', 'protect', 'her', 'by', 'staying', 'away,', 'but', 'that', 'is', 'a', 'promise', 'he', 'cannot', 'keep.', 'Things', 'will', 'change', 'for', 'Peter', 'when', 'a', 'new', 'villain,', 'Electro,', 'emerges,', 'an', 'old', 'friend,', 'Harry', 'Osborn,', 'returns,', 'and', 'Peter', 'uncovers', 'new', 'clues', 'about', 'his', 'past.']",
         "['obsession', 'marvelcomic', 'sequel', 'basedoncomicbook', 'electrocution', 'medicalexperiment', 'electricity', 'superpowers']",
         "['AndrewGarfield', 'EmmaStone', 'JamieFoxx']",
         "['MarcWebb']",
         "['Action', 'Adventure', 'Fantasy', 'For', 'Peter', 'Parker,', 'life', 'is', 'busy.', 'Between', 'taking', 'out', 'the', 'bad', 'guys', 'as', 'Spider-Man', 'and', 'spending', 'time', 'with', 'the', 'person', 'he', 'loves,', 'Gwen', 'Stacy,', 'high', 'school', 'graduation', 'cannot', 'come', 'quickly', 'enough.', 'Peter', 'has', 'not', 'forgotten', 'about', 'the', 'promise', 'he', 'made', 'to', 'Gwen’s', 'father', 'to', 'protect', 'her', 'by', 'staying', 'away,', 'but', 'that', 'is', 'a', 'promise', 'he', 'cannot', 'keep.', 'Things', 'will', 'change', 'for', 'Peter', 'when', 'a', 'new', 'villain,', 'Electro,', 'emerges,', 'an', 'old', 'friend,', 'Harry', 'Osborn,', 'returns,', 'and', 'Peter', 'uncovers', 'new', 'clues', 'about', 'his', 'past.', 'obsession', 'marvelcomic', 'sequel', 'basedoncomicbook', 'electrocution', 'medicalexperiment', 'electricity', 'superpowers', 'AndrewGarfield', 'EmmaStone', 'JamieFoxx', 'MarcWebb']"
        ],
        [
         "39",
         "20526",
         "TRON: Legacy",
         "['Adventure', 'Action', 'ScienceFiction']",
         "['Sam', 'Flynn,', 'the', 'tech-savvy', 'and', 'daring', 'son', 'of', 'Kevin', 'Flynn,', 'investigates', 'his', \"father's\", 'disappearance', 'and', 'is', 'pulled', 'into', 'The', 'Grid.', 'With', 'the', 'help', 'of', 'a', 'mysterious', 'program', 'named', 'Quorra,', 'Sam', 'quests', 'to', 'stop', 'evil', 'dictator', 'Clu', 'from', 'crossing', 'into', 'the', 'real', 'world.']",
         "['artificialintelligence', 'secretidentity', 'computerprogram', 'dystopia', 'computer', 'deception', 'duel', 'motorcycle', 'neonlight', 'autocracy']",
         "['GarrettHedlund', 'JeffBridges', 'OliviaWilde']",
         "['JosephKosinski']",
         "['Adventure', 'Action', 'ScienceFiction', 'Sam', 'Flynn,', 'the', 'tech-savvy', 'and', 'daring', 'son', 'of', 'Kevin', 'Flynn,', 'investigates', 'his', \"father's\", 'disappearance', 'and', 'is', 'pulled', 'into', 'The', 'Grid.', 'With', 'the', 'help', 'of', 'a', 'mysterious', 'program', 'named', 'Quorra,', 'Sam', 'quests', 'to', 'stop', 'evil', 'dictator', 'Clu', 'from', 'crossing', 'into', 'the', 'real', 'world.', 'artificialintelligence', 'secretidentity', 'computerprogram', 'dystopia', 'computer', 'deception', 'duel', 'motorcycle', 'neonlight', 'autocracy', 'GarrettHedlund', 'JeffBridges', 'OliviaWilde', 'JosephKosinski']"
        ],
        [
         "40",
         "49013",
         "Cars 2",
         "['Animation', 'Family', 'Adventure', 'Comedy']",
         "['Star', 'race', 'car', 'Lightning', 'McQueen', 'and', 'his', 'pal', 'Mater', 'head', 'overseas', 'to', 'compete', 'in', 'the', 'World', 'Grand', 'Prix', 'race.', 'But', 'the', 'road', 'to', 'the', 'championship', 'becomes', 'rocky', 'as', 'Mater', 'gets', 'caught', 'up', 'in', 'an', 'intriguing', 'adventure', 'of', 'his', 'own:', 'international', 'espionage.']",
         "['carrace', 'sequel', 'comedy', 'anthropomorphism', 'bestfriend', 'duringcreditsstinger']",
         "['OwenWilson', 'LarrytheCableGuy', 'MichaelCaine']",
         "['JohnLasseter']",
         "['Animation', 'Family', 'Adventure', 'Comedy', 'Star', 'race', 'car', 'Lightning', 'McQueen', 'and', 'his', 'pal', 'Mater', 'head', 'overseas', 'to', 'compete', 'in', 'the', 'World', 'Grand', 'Prix', 'race.', 'But', 'the', 'road', 'to', 'the', 'championship', 'becomes', 'rocky', 'as', 'Mater', 'gets', 'caught', 'up', 'in', 'an', 'intriguing', 'adventure', 'of', 'his', 'own:', 'international', 'espionage.', 'carrace', 'sequel', 'comedy', 'anthropomorphism', 'bestfriend', 'duringcreditsstinger', 'OwenWilson', 'LarrytheCableGuy', 'MichaelCaine', 'JohnLasseter']"
        ],
        [
         "41",
         "44912",
         "Green Lantern",
         "['Adventure', 'Action', 'Thriller', 'ScienceFiction']",
         "['For', 'centuries,', 'a', 'small', 'but', 'powerful', 'force', 'of', 'warriors', 'called', 'the', 'Green', 'Lantern', 'Corps', 'has', 'sworn', 'to', 'keep', 'intergalactic', 'order.', 'Each', 'Green', 'Lantern', 'wears', 'a', 'ring', 'that', 'grants', 'him', 'superpowers.', 'But', 'when', 'a', 'new', 'enemy', 'called', 'Parallax', 'threatens', 'to', 'destroy', 'the', 'balance', 'of', 'power', 'in', 'the', 'Universe,', 'their', 'fate', 'and', 'the', 'fate', 'of', 'Earth', 'lie', 'in', 'the', 'hands', 'of', 'the', 'first', 'human', 'ever', 'recruited.']",
         "['dccomics', 'transformation', 'superhero', 'alien', 'alieninfection', 'magicalobject', 'protector', 'superpowers', 'origin', '3d']",
         "['RyanReynolds', 'BlakeLively', 'PeterSarsgaard']",
         "['MartinCampbell']",
         "['Adventure', 'Action', 'Thriller', 'ScienceFiction', 'For', 'centuries,', 'a', 'small', 'but', 'powerful', 'force', 'of', 'warriors', 'called', 'the', 'Green', 'Lantern', 'Corps', 'has', 'sworn', 'to', 'keep', 'intergalactic', 'order.', 'Each', 'Green', 'Lantern', 'wears', 'a', 'ring', 'that', 'grants', 'him', 'superpowers.', 'But', 'when', 'a', 'new', 'enemy', 'called', 'Parallax', 'threatens', 'to', 'destroy', 'the', 'balance', 'of', 'power', 'in', 'the', 'Universe,', 'their', 'fate', 'and', 'the', 'fate', 'of', 'Earth', 'lie', 'in', 'the', 'hands', 'of', 'the', 'first', 'human', 'ever', 'recruited.', 'dccomics', 'transformation', 'superhero', 'alien', 'alieninfection', 'magicalobject', 'protector', 'superpowers', 'origin', '3d', 'RyanReynolds', 'BlakeLively', 'PeterSarsgaard', 'MartinCampbell']"
        ],
        [
         "42",
         "10193",
         "Toy Story 3",
         "['Animation', 'Family', 'Comedy']",
         "['Woody,', 'Buzz,', 'and', 'the', 'rest', 'of', \"Andy's\", 'toys', \"haven't\", 'been', 'played', 'with', 'in', 'years.', 'With', 'Andy', 'about', 'to', 'go', 'to', 'college,', 'the', 'gang', 'find', 'themselves', 'accidentally', 'left', 'at', 'a', 'nefarious', 'day', 'care', 'center.', 'The', 'toys', 'must', 'band', 'together', 'to', 'escape', 'and', 'return', 'home', 'to', 'Andy.']",
         "['hostage', 'college', 'toy', 'barbie', 'animation', 'escape', 'daycare', 'teddybear', 'duringcreditsstinger', 'toycomestolife', 'personification', 'inanimateobjectscomingtolife', 'toystory']",
         "['TomHanks', 'TimAllen', 'NedBeatty']",
         "['LeeUnkrich']",
         "['Animation', 'Family', 'Comedy', 'Woody,', 'Buzz,', 'and', 'the', 'rest', 'of', \"Andy's\", 'toys', \"haven't\", 'been', 'played', 'with', 'in', 'years.', 'With', 'Andy', 'about', 'to', 'go', 'to', 'college,', 'the', 'gang', 'find', 'themselves', 'accidentally', 'left', 'at', 'a', 'nefarious', 'day', 'care', 'center.', 'The', 'toys', 'must', 'band', 'together', 'to', 'escape', 'and', 'return', 'home', 'to', 'Andy.', 'hostage', 'college', 'toy', 'barbie', 'animation', 'escape', 'daycare', 'teddybear', 'duringcreditsstinger', 'toycomestolife', 'personification', 'inanimateobjectscomingtolife', 'toystory', 'TomHanks', 'TimAllen', 'NedBeatty', 'LeeUnkrich']"
        ],
        [
         "43",
         "534",
         "Terminator Salvation",
         "['Action', 'ScienceFiction', 'Thriller']",
         "['All', 'grown', 'up', 'in', 'post-apocalyptic', '2018,', 'John', 'Connor', 'must', 'lead', 'the', 'resistance', 'of', 'humans', 'against', 'the', 'increasingly', 'dominating', 'militaristic', 'robots.', 'But', 'when', 'Marcus', 'Wright', 'appears,', 'his', 'existence', 'confuses', 'the', 'mission', 'as', 'Connor', 'tries', 'to', 'determine', 'whether', 'Wright', 'has', 'come', 'from', 'the', 'future', 'or', 'the', 'past', '--', 'and', 'whether', \"he's\", 'friend', 'or', 'foe.']",
         "['savingtheworld', 'artificialintelligence', 'prophecy', 'sanfrancisco', 'cyborg', 'killerrobot', 'gasstation', 'post-apocalyptic', 'dystopia', 'army', 'firearm', 'wartime', 'losangeles']",
         "['ChristianBale', 'SamWorthington', 'AntonYelchin']",
         "['McG']",
         "['Action', 'ScienceFiction', 'Thriller', 'All', 'grown', 'up', 'in', 'post-apocalyptic', '2018,', 'John', 'Connor', 'must', 'lead', 'the', 'resistance', 'of', 'humans', 'against', 'the', 'increasingly', 'dominating', 'militaristic', 'robots.', 'But', 'when', 'Marcus', 'Wright', 'appears,', 'his', 'existence', 'confuses', 'the', 'mission', 'as', 'Connor', 'tries', 'to', 'determine', 'whether', 'Wright', 'has', 'come', 'from', 'the', 'future', 'or', 'the', 'past', '--', 'and', 'whether', \"he's\", 'friend', 'or', 'foe.', 'savingtheworld', 'artificialintelligence', 'prophecy', 'sanfrancisco', 'cyborg', 'killerrobot', 'gasstation', 'post-apocalyptic', 'dystopia', 'army', 'firearm', 'wartime', 'losangeles', 'ChristianBale', 'SamWorthington', 'AntonYelchin', 'McG']"
        ],
        [
         "44",
         "168259",
         "Furious 7",
         "['Action']",
         "['Deckard', 'Shaw', 'seeks', 'revenge', 'against', 'Dominic', 'Toretto', 'and', 'his', 'family', 'for', 'his', 'comatose', 'brother.']",
         "['carrace', 'speed', 'revenge', 'suspense', 'car', 'race', 'musclecar']",
         "['VinDiesel', 'PaulWalker', 'DwayneJohnson']",
         "['JamesWan']",
         "['Action', 'Deckard', 'Shaw', 'seeks', 'revenge', 'against', 'Dominic', 'Toretto', 'and', 'his', 'family', 'for', 'his', 'comatose', 'brother.', 'carrace', 'speed', 'revenge', 'suspense', 'car', 'race', 'musclecar', 'VinDiesel', 'PaulWalker', 'DwayneJohnson', 'JamesWan']"
        ],
        [
         "45",
         "72190",
         "World War Z",
         "['Action', 'Drama', 'Horror', 'ScienceFiction', 'Thriller']",
         "['Life', 'for', 'former', 'United', 'Nations', 'investigator', 'Gerry', 'Lane', 'and', 'his', 'family', 'seems', 'content.', 'Suddenly,', 'the', 'world', 'is', 'plagued', 'by', 'a', 'mysterious', 'infection', 'turning', 'whole', 'human', 'populations', 'into', 'rampaging', 'mindless', 'zombies.', 'After', 'barely', 'escaping', 'the', 'chaos,', 'Lane', 'is', 'persuaded', 'to', 'go', 'on', 'a', 'mission', 'to', 'investigate', 'this', 'disease.', 'What', 'follows', 'is', 'a', 'perilous', 'trek', 'around', 'the', 'world', 'where', 'Lane', 'must', 'brave', 'horrific', 'dangers', 'and', 'long', 'odds', 'to', 'find', 'answers', 'before', 'human', 'civilization', 'falls.']",
         "['dystopia', 'apocalypse', 'zombie', 'nuclearweapons', 'multipleperspectives', 'zombieapocalypse']",
         "['BradPitt', 'MireilleEnos', 'AbigailHargrove']",
         "['MarcForster']",
         "['Action', 'Drama', 'Horror', 'ScienceFiction', 'Thriller', 'Life', 'for', 'former', 'United', 'Nations', 'investigator', 'Gerry', 'Lane', 'and', 'his', 'family', 'seems', 'content.', 'Suddenly,', 'the', 'world', 'is', 'plagued', 'by', 'a', 'mysterious', 'infection', 'turning', 'whole', 'human', 'populations', 'into', 'rampaging', 'mindless', 'zombies.', 'After', 'barely', 'escaping', 'the', 'chaos,', 'Lane', 'is', 'persuaded', 'to', 'go', 'on', 'a', 'mission', 'to', 'investigate', 'this', 'disease.', 'What', 'follows', 'is', 'a', 'perilous', 'trek', 'around', 'the', 'world', 'where', 'Lane', 'must', 'brave', 'horrific', 'dangers', 'and', 'long', 'odds', 'to', 'find', 'answers', 'before', 'human', 'civilization', 'falls.', 'dystopia', 'apocalypse', 'zombie', 'nuclearweapons', 'multipleperspectives', 'zombieapocalypse', 'BradPitt', 'MireilleEnos', 'AbigailHargrove', 'MarcForster']"
        ],
        [
         "46",
         "127585",
         "X-Men: Days of Future Past",
         "['Action', 'Adventure', 'Fantasy', 'ScienceFiction']",
         "['The', 'ultimate', 'X-Men', 'ensemble', 'fights', 'a', 'war', 'for', 'the', 'survival', 'of', 'the', 'species', 'across', 'two', 'time', 'periods', 'as', 'they', 'join', 'forces', 'with', 'their', 'younger', 'selves', 'in', 'an', 'epic', 'battle', 'that', 'must', 'change', 'the', 'past', '–', 'to', 'save', 'our', 'future.']",
         "['1970s', 'mutant', 'timetravel', 'marvelcomic', 'basedoncomicbook', 'superhuman', 'storm', 'beast', 'aftercreditsstinger', 'changingthepastorfuture']",
         "['HughJackman', 'JamesMcAvoy', 'MichaelFassbender']",
         "['BryanSinger']",
         "['Action', 'Adventure', 'Fantasy', 'ScienceFiction', 'The', 'ultimate', 'X-Men', 'ensemble', 'fights', 'a', 'war', 'for', 'the', 'survival', 'of', 'the', 'species', 'across', 'two', 'time', 'periods', 'as', 'they', 'join', 'forces', 'with', 'their', 'younger', 'selves', 'in', 'an', 'epic', 'battle', 'that', 'must', 'change', 'the', 'past', '–', 'to', 'save', 'our', 'future.', '1970s', 'mutant', 'timetravel', 'marvelcomic', 'basedoncomicbook', 'superhuman', 'storm', 'beast', 'aftercreditsstinger', 'changingthepastorfuture', 'HughJackman', 'JamesMcAvoy', 'MichaelFassbender', 'BryanSinger']"
        ],
        [
         "47",
         "54138",
         "Star Trek Into Darkness",
         "['Action', 'Adventure', 'ScienceFiction']",
         "['When', 'the', 'crew', 'of', 'the', 'Enterprise', 'is', 'called', 'back', 'home,', 'they', 'find', 'an', 'unstoppable', 'force', 'of', 'terror', 'from', 'within', 'their', 'own', 'organization', 'has', 'detonated', 'the', 'fleet', 'and', 'everything', 'it', 'stands', 'for,', 'leaving', 'our', 'world', 'in', 'a', 'state', 'of', 'crisis.', 'With', 'a', 'personal', 'score', 'to', 'settle,', 'Captain', 'Kirk', 'leads', 'a', 'manhunt', 'to', 'a', 'war-zone', 'world', 'to', 'capture', 'a', 'one', 'man', 'weapon', 'of', 'mass', 'destruction.', 'As', 'our', 'heroes', 'are', 'propelled', 'into', 'an', 'epic', 'chess', 'game', 'of', 'life', 'and', 'death,', 'love', 'will', 'be', 'challenged,', 'friendships', 'will', 'be', 'torn', 'apart,', 'and', 'sacrifices', 'must', 'be', 'made', 'for', 'the', 'only', 'family', 'Kirk', 'has', 'left:', 'his', 'crew.']",
         "['spacecraft', 'friendship', 'sequel', 'futuristic', 'space', 'alien', 'imax', 'spaceopera', 'terroristbombing', '3d']",
         "['ChrisPine', 'ZacharyQuinto', 'ZoeSaldana']",
         "['J.J.Abrams']",
         "['Action', 'Adventure', 'ScienceFiction', 'When', 'the', 'crew', 'of', 'the', 'Enterprise', 'is', 'called', 'back', 'home,', 'they', 'find', 'an', 'unstoppable', 'force', 'of', 'terror', 'from', 'within', 'their', 'own', 'organization', 'has', 'detonated', 'the', 'fleet', 'and', 'everything', 'it', 'stands', 'for,', 'leaving', 'our', 'world', 'in', 'a', 'state', 'of', 'crisis.', 'With', 'a', 'personal', 'score', 'to', 'settle,', 'Captain', 'Kirk', 'leads', 'a', 'manhunt', 'to', 'a', 'war-zone', 'world', 'to', 'capture', 'a', 'one', 'man', 'weapon', 'of', 'mass', 'destruction.', 'As', 'our', 'heroes', 'are', 'propelled', 'into', 'an', 'epic', 'chess', 'game', 'of', 'life', 'and', 'death,', 'love', 'will', 'be', 'challenged,', 'friendships', 'will', 'be', 'torn', 'apart,', 'and', 'sacrifices', 'must', 'be', 'made', 'for', 'the', 'only', 'family', 'Kirk', 'has', 'left:', 'his', 'crew.', 'spacecraft', 'friendship', 'sequel', 'futuristic', 'space', 'alien', 'imax', 'spaceopera', 'terroristbombing', '3d', 'ChrisPine', 'ZacharyQuinto', 'ZoeSaldana', 'J.J.Abrams']"
        ],
        [
         "48",
         "81005",
         "Jack the Giant Slayer",
         "['Action', 'Family', 'Fantasy']",
         "['The', 'story', 'of', 'an', 'ancient', 'war', 'that', 'is', 'reignited', 'when', 'a', 'young', 'farmhand', 'unwittingly', 'opens', 'a', 'gateway', 'between', 'our', 'world', 'and', 'a', 'fearsome', 'race', 'of', 'giants.', 'Unleashed', 'on', 'the', 'Earth', 'for', 'the', 'first', 'time', 'in', 'centuries,', 'the', 'giants', 'strive', 'to', 'reclaim', 'the', 'land', 'they', 'once', 'lost,', 'forcing', 'the', 'young', 'man,', 'Jack', 'into', 'the', 'battle', 'of', 'his', 'life', 'to', 'stop', 'them.', 'Fighting', 'for', 'a', 'kingdom,', 'its', 'people,', 'and', 'the', 'love', 'of', 'a', 'brave', 'princess,', 'he', 'comes', 'face', 'to', 'face', 'with', 'the', 'unstoppable', 'warriors', 'he', 'thought', 'only', 'existed', 'in', 'legend–and', 'gets', 'the', 'chance', 'to', 'become', 'a', 'legend', 'himself.']",
         "['basedonfairytale', 'giant']",
         "['NicholasHoult', 'EleanorTomlinson', 'EwanMcGregor']",
         "['BryanSinger']",
         "['Action', 'Family', 'Fantasy', 'The', 'story', 'of', 'an', 'ancient', 'war', 'that', 'is', 'reignited', 'when', 'a', 'young', 'farmhand', 'unwittingly', 'opens', 'a', 'gateway', 'between', 'our', 'world', 'and', 'a', 'fearsome', 'race', 'of', 'giants.', 'Unleashed', 'on', 'the', 'Earth', 'for', 'the', 'first', 'time', 'in', 'centuries,', 'the', 'giants', 'strive', 'to', 'reclaim', 'the', 'land', 'they', 'once', 'lost,', 'forcing', 'the', 'young', 'man,', 'Jack', 'into', 'the', 'battle', 'of', 'his', 'life', 'to', 'stop', 'them.', 'Fighting', 'for', 'a', 'kingdom,', 'its', 'people,', 'and', 'the', 'love', 'of', 'a', 'brave', 'princess,', 'he', 'comes', 'face', 'to', 'face', 'with', 'the', 'unstoppable', 'warriors', 'he', 'thought', 'only', 'existed', 'in', 'legend–and', 'gets', 'the', 'chance', 'to', 'become', 'a', 'legend', 'himself.', 'basedonfairytale', 'giant', 'NicholasHoult', 'EleanorTomlinson', 'EwanMcGregor', 'BryanSinger']"
        ],
        [
         "49",
         "64682",
         "The Great Gatsby",
         "['Drama', 'Romance']",
         "['An', 'adaptation', 'of', 'F.', 'Scott', \"Fitzgerald's\", 'Long', 'Island-set', 'novel,', 'where', 'Midwesterner', 'Nick', 'Carraway', 'is', 'lured', 'into', 'the', 'lavish', 'world', 'of', 'his', 'neighbor,', 'Jay', 'Gatsby.', 'Soon', 'enough,', 'however,', 'Carraway', 'will', 'see', 'through', 'the', 'cracks', 'of', \"Gatsby's\", 'nouveau', 'riche', 'existence,', 'where', 'obsession,', 'madness,', 'and', 'tragedy', 'await.']",
         "['basedonnovel', 'infidelity', 'obsession', 'hope', '3d']",
         "['LeonardoDiCaprio', 'TobeyMaguire', 'CareyMulligan']",
         "['BazLuhrmann']",
         "['Drama', 'Romance', 'An', 'adaptation', 'of', 'F.', 'Scott', \"Fitzgerald's\", 'Long', 'Island-set', 'novel,', 'where', 'Midwesterner', 'Nick', 'Carraway', 'is', 'lured', 'into', 'the', 'lavish', 'world', 'of', 'his', 'neighbor,', 'Jay', 'Gatsby.', 'Soon', 'enough,', 'however,', 'Carraway', 'will', 'see', 'through', 'the', 'cracks', 'of', \"Gatsby's\", 'nouveau', 'riche', 'existence,', 'where', 'obsession,', 'madness,', 'and', 'tragedy', 'await.', 'basedonnovel', 'infidelity', 'obsession', 'hope', '3d', 'LeonardoDiCaprio', 'TobeyMaguire', 'CareyMulligan', 'BazLuhrmann']"
        ]
       ],
       "shape": {
        "columns": 8,
        "rows": 4800
       }
      },
      "text/html": [
       "<div>\n",
       "<style scoped>\n",
       "    .dataframe tbody tr th:only-of-type {\n",
       "        vertical-align: middle;\n",
       "    }\n",
       "\n",
       "    .dataframe tbody tr th {\n",
       "        vertical-align: top;\n",
       "    }\n",
       "\n",
       "    .dataframe thead th {\n",
       "        text-align: right;\n",
       "    }\n",
       "</style>\n",
       "<table border=\"1\" class=\"dataframe\">\n",
       "  <thead>\n",
       "    <tr style=\"text-align: right;\">\n",
       "      <th></th>\n",
       "      <th>movie_id</th>\n",
       "      <th>title</th>\n",
       "      <th>genres</th>\n",
       "      <th>overview</th>\n",
       "      <th>keywords</th>\n",
       "      <th>cast</th>\n",
       "      <th>director</th>\n",
       "      <th>tags</th>\n",
       "    </tr>\n",
       "  </thead>\n",
       "  <tbody>\n",
       "    <tr>\n",
       "      <th>0</th>\n",
       "      <td>19995</td>\n",
       "      <td>Avatar</td>\n",
       "      <td>[Action, Adventure, Fantasy, ScienceFiction]</td>\n",
       "      <td>[In, the, 22nd, century,, a, paraplegic, Marin...</td>\n",
       "      <td>[cultureclash, future, spacewar, spacecolony, ...</td>\n",
       "      <td>[SamWorthington, ZoeSaldana, SigourneyWeaver]</td>\n",
       "      <td>[JamesCameron]</td>\n",
       "      <td>[Action, Adventure, Fantasy, ScienceFiction, I...</td>\n",
       "    </tr>\n",
       "    <tr>\n",
       "      <th>1</th>\n",
       "      <td>285</td>\n",
       "      <td>Pirates of the Caribbean: At World's End</td>\n",
       "      <td>[Adventure, Fantasy, Action]</td>\n",
       "      <td>[Captain, Barbossa,, long, believed, to, be, d...</td>\n",
       "      <td>[ocean, drugabuse, exoticisland, eastindiatrad...</td>\n",
       "      <td>[JohnnyDepp, OrlandoBloom, KeiraKnightley]</td>\n",
       "      <td>[GoreVerbinski]</td>\n",
       "      <td>[Adventure, Fantasy, Action, Captain, Barbossa...</td>\n",
       "    </tr>\n",
       "    <tr>\n",
       "      <th>2</th>\n",
       "      <td>206647</td>\n",
       "      <td>Spectre</td>\n",
       "      <td>[Action, Adventure, Crime]</td>\n",
       "      <td>[A, cryptic, message, from, Bond’s, past, send...</td>\n",
       "      <td>[spy, basedonnovel, secretagent, sequel, mi6, ...</td>\n",
       "      <td>[DanielCraig, ChristophWaltz, LéaSeydoux]</td>\n",
       "      <td>[SamMendes]</td>\n",
       "      <td>[Action, Adventure, Crime, A, cryptic, message...</td>\n",
       "    </tr>\n",
       "    <tr>\n",
       "      <th>3</th>\n",
       "      <td>49026</td>\n",
       "      <td>The Dark Knight Rises</td>\n",
       "      <td>[Action, Crime, Drama, Thriller]</td>\n",
       "      <td>[Following, the, death, of, District, Attorney...</td>\n",
       "      <td>[dccomics, crimefighter, terrorist, secretiden...</td>\n",
       "      <td>[ChristianBale, MichaelCaine, GaryOldman]</td>\n",
       "      <td>[ChristopherNolan]</td>\n",
       "      <td>[Action, Crime, Drama, Thriller, Following, th...</td>\n",
       "    </tr>\n",
       "    <tr>\n",
       "      <th>4</th>\n",
       "      <td>49529</td>\n",
       "      <td>John Carter</td>\n",
       "      <td>[Action, Adventure, ScienceFiction]</td>\n",
       "      <td>[John, Carter, is, a, war-weary,, former, mili...</td>\n",
       "      <td>[basedonnovel, mars, medallion, spacetravel, p...</td>\n",
       "      <td>[TaylorKitsch, LynnCollins, SamanthaMorton]</td>\n",
       "      <td>[AndrewStanton]</td>\n",
       "      <td>[Action, Adventure, ScienceFiction, John, Cart...</td>\n",
       "    </tr>\n",
       "    <tr>\n",
       "      <th>...</th>\n",
       "      <td>...</td>\n",
       "      <td>...</td>\n",
       "      <td>...</td>\n",
       "      <td>...</td>\n",
       "      <td>...</td>\n",
       "      <td>...</td>\n",
       "      <td>...</td>\n",
       "      <td>...</td>\n",
       "    </tr>\n",
       "    <tr>\n",
       "      <th>4798</th>\n",
       "      <td>9367</td>\n",
       "      <td>El Mariachi</td>\n",
       "      <td>[Action, Crime, Thriller]</td>\n",
       "      <td>[El, Mariachi, just, wants, to, play, his, gui...</td>\n",
       "      <td>[unitedstates–mexicobarrier, legs, arms, paper...</td>\n",
       "      <td>[CarlosGallardo, JaimedeHoyos, PeterMarquardt]</td>\n",
       "      <td>[RobertRodriguez]</td>\n",
       "      <td>[Action, Crime, Thriller, El, Mariachi, just, ...</td>\n",
       "    </tr>\n",
       "    <tr>\n",
       "      <th>4799</th>\n",
       "      <td>72766</td>\n",
       "      <td>Newlyweds</td>\n",
       "      <td>[Comedy, Romance]</td>\n",
       "      <td>[A, newlywed, couple's, honeymoon, is, upended...</td>\n",
       "      <td>[]</td>\n",
       "      <td>[EdwardBurns, KerryBishé, MarshaDietlein]</td>\n",
       "      <td>[EdwardBurns]</td>\n",
       "      <td>[Comedy, Romance, A, newlywed, couple's, honey...</td>\n",
       "    </tr>\n",
       "    <tr>\n",
       "      <th>4800</th>\n",
       "      <td>231617</td>\n",
       "      <td>Signed, Sealed, Delivered</td>\n",
       "      <td>[Comedy, Drama, Romance, TVMovie]</td>\n",
       "      <td>[\"Signed,, Sealed,, Delivered\", introduces, a,...</td>\n",
       "      <td>[date, loveatfirstsight, narration, investigat...</td>\n",
       "      <td>[EricMabius, KristinBooth, CrystalLowe]</td>\n",
       "      <td>[ScottSmith]</td>\n",
       "      <td>[Comedy, Drama, Romance, TVMovie, \"Signed,, Se...</td>\n",
       "    </tr>\n",
       "    <tr>\n",
       "      <th>4801</th>\n",
       "      <td>126186</td>\n",
       "      <td>Shanghai Calling</td>\n",
       "      <td>[]</td>\n",
       "      <td>[When, ambitious, New, York, attorney, Sam, is...</td>\n",
       "      <td>[]</td>\n",
       "      <td>[DanielHenney, ElizaCoupe, BillPaxton]</td>\n",
       "      <td>[DanielHsia]</td>\n",
       "      <td>[When, ambitious, New, York, attorney, Sam, is...</td>\n",
       "    </tr>\n",
       "    <tr>\n",
       "      <th>4802</th>\n",
       "      <td>25975</td>\n",
       "      <td>My Date with Drew</td>\n",
       "      <td>[Documentary]</td>\n",
       "      <td>[Ever, since, the, second, grade, when, he, fi...</td>\n",
       "      <td>[obsession, camcorder, crush, dreamgirl]</td>\n",
       "      <td>[DrewBarrymore, BrianHerzlinger, CoreyFeldman]</td>\n",
       "      <td>[BrianHerzlinger]</td>\n",
       "      <td>[Documentary, Ever, since, the, second, grade,...</td>\n",
       "    </tr>\n",
       "  </tbody>\n",
       "</table>\n",
       "<p>4800 rows × 8 columns</p>\n",
       "</div>"
      ],
      "text/plain": [
       "      movie_id                                     title  \\\n",
       "0        19995                                    Avatar   \n",
       "1          285  Pirates of the Caribbean: At World's End   \n",
       "2       206647                                   Spectre   \n",
       "3        49026                     The Dark Knight Rises   \n",
       "4        49529                               John Carter   \n",
       "...        ...                                       ...   \n",
       "4798      9367                               El Mariachi   \n",
       "4799     72766                                 Newlyweds   \n",
       "4800    231617                 Signed, Sealed, Delivered   \n",
       "4801    126186                          Shanghai Calling   \n",
       "4802     25975                         My Date with Drew   \n",
       "\n",
       "                                            genres  \\\n",
       "0     [Action, Adventure, Fantasy, ScienceFiction]   \n",
       "1                     [Adventure, Fantasy, Action]   \n",
       "2                       [Action, Adventure, Crime]   \n",
       "3                 [Action, Crime, Drama, Thriller]   \n",
       "4              [Action, Adventure, ScienceFiction]   \n",
       "...                                            ...   \n",
       "4798                     [Action, Crime, Thriller]   \n",
       "4799                             [Comedy, Romance]   \n",
       "4800             [Comedy, Drama, Romance, TVMovie]   \n",
       "4801                                            []   \n",
       "4802                                 [Documentary]   \n",
       "\n",
       "                                               overview  \\\n",
       "0     [In, the, 22nd, century,, a, paraplegic, Marin...   \n",
       "1     [Captain, Barbossa,, long, believed, to, be, d...   \n",
       "2     [A, cryptic, message, from, Bond’s, past, send...   \n",
       "3     [Following, the, death, of, District, Attorney...   \n",
       "4     [John, Carter, is, a, war-weary,, former, mili...   \n",
       "...                                                 ...   \n",
       "4798  [El, Mariachi, just, wants, to, play, his, gui...   \n",
       "4799  [A, newlywed, couple's, honeymoon, is, upended...   \n",
       "4800  [\"Signed,, Sealed,, Delivered\", introduces, a,...   \n",
       "4801  [When, ambitious, New, York, attorney, Sam, is...   \n",
       "4802  [Ever, since, the, second, grade, when, he, fi...   \n",
       "\n",
       "                                               keywords  \\\n",
       "0     [cultureclash, future, spacewar, spacecolony, ...   \n",
       "1     [ocean, drugabuse, exoticisland, eastindiatrad...   \n",
       "2     [spy, basedonnovel, secretagent, sequel, mi6, ...   \n",
       "3     [dccomics, crimefighter, terrorist, secretiden...   \n",
       "4     [basedonnovel, mars, medallion, spacetravel, p...   \n",
       "...                                                 ...   \n",
       "4798  [unitedstates–mexicobarrier, legs, arms, paper...   \n",
       "4799                                                 []   \n",
       "4800  [date, loveatfirstsight, narration, investigat...   \n",
       "4801                                                 []   \n",
       "4802           [obsession, camcorder, crush, dreamgirl]   \n",
       "\n",
       "                                                cast            director  \\\n",
       "0      [SamWorthington, ZoeSaldana, SigourneyWeaver]      [JamesCameron]   \n",
       "1         [JohnnyDepp, OrlandoBloom, KeiraKnightley]     [GoreVerbinski]   \n",
       "2          [DanielCraig, ChristophWaltz, LéaSeydoux]         [SamMendes]   \n",
       "3          [ChristianBale, MichaelCaine, GaryOldman]  [ChristopherNolan]   \n",
       "4        [TaylorKitsch, LynnCollins, SamanthaMorton]     [AndrewStanton]   \n",
       "...                                              ...                 ...   \n",
       "4798  [CarlosGallardo, JaimedeHoyos, PeterMarquardt]   [RobertRodriguez]   \n",
       "4799       [EdwardBurns, KerryBishé, MarshaDietlein]       [EdwardBurns]   \n",
       "4800         [EricMabius, KristinBooth, CrystalLowe]        [ScottSmith]   \n",
       "4801          [DanielHenney, ElizaCoupe, BillPaxton]        [DanielHsia]   \n",
       "4802  [DrewBarrymore, BrianHerzlinger, CoreyFeldman]   [BrianHerzlinger]   \n",
       "\n",
       "                                                   tags  \n",
       "0     [Action, Adventure, Fantasy, ScienceFiction, I...  \n",
       "1     [Adventure, Fantasy, Action, Captain, Barbossa...  \n",
       "2     [Action, Adventure, Crime, A, cryptic, message...  \n",
       "3     [Action, Crime, Drama, Thriller, Following, th...  \n",
       "4     [Action, Adventure, ScienceFiction, John, Cart...  \n",
       "...                                                 ...  \n",
       "4798  [Action, Crime, Thriller, El, Mariachi, just, ...  \n",
       "4799  [Comedy, Romance, A, newlywed, couple's, honey...  \n",
       "4800  [Comedy, Drama, Romance, TVMovie, \"Signed,, Se...  \n",
       "4801  [When, ambitious, New, York, attorney, Sam, is...  \n",
       "4802  [Documentary, Ever, since, the, second, grade,...  \n",
       "\n",
       "[4800 rows x 8 columns]"
      ]
     },
     "execution_count": 84,
     "metadata": {},
     "output_type": "execute_result"
    }
   ],
   "source": [
    "movies"
   ]
  },
  {
   "cell_type": "code",
   "execution_count": 32,
   "id": "31237bb8",
   "metadata": {},
   "outputs": [],
   "source": [
    "movies['tags'] = movies['genres'] + movies['overview'] + movies['keywords'] + movies['cast'] + movies['director']"
   ]
  },
  {
   "cell_type": "code",
   "execution_count": 93,
   "id": "7e421b90",
   "metadata": {},
   "outputs": [],
   "source": [
    "movies['tags'] = movies['tags'].apply(lambda x: ' '.join(x).lower())"
   ]
  },
  {
   "cell_type": "code",
   "execution_count": 99,
   "id": "7a7689de",
   "metadata": {},
   "outputs": [],
   "source": [
    "movies.to_csv('Movies.csv', columns=['movie_id', 'title', 'tags'], index=False)"
   ]
  },
  {
   "cell_type": "markdown",
   "id": "a83fa669",
   "metadata": {},
   "source": [
    "### Final Movies Dataset to create a recommendation system"
   ]
  },
  {
   "cell_type": "code",
   "execution_count": 101,
   "id": "db0219eb",
   "metadata": {},
   "outputs": [
    {
     "data": {
      "application/vnd.microsoft.datawrangler.viewer.v0+json": {
       "columns": [
        {
         "name": "index",
         "rawType": "int64",
         "type": "integer"
        },
        {
         "name": "movie_id",
         "rawType": "int64",
         "type": "integer"
        },
        {
         "name": "title",
         "rawType": "object",
         "type": "string"
        },
        {
         "name": "tags",
         "rawType": "object",
         "type": "string"
        }
       ],
       "ref": "ee58ebe0-07bb-4c25-bd27-94bc33c64b70",
       "rows": [
        [
         "0",
         "19995",
         "Avatar",
         "action adventure fantasy sciencefiction in the 22nd century, a paraplegic marine is dispatched to the moon pandora on a unique mission, but becomes torn between following orders and protecting an alien civilization. cultureclash future spacewar spacecolony society spacetravel futuristic romance space alien tribe alienplanet cgi marine soldier battle loveaffair antiwar powerrelations mindandsoul 3d samworthington zoesaldana sigourneyweaver jamescameron"
        ],
        [
         "1",
         "285",
         "Pirates of the Caribbean: At World's End",
         "adventure fantasy action captain barbossa, long believed to be dead, has come back to life and is headed to the edge of the earth with will turner and elizabeth swann. but nothing is quite as it seems. ocean drugabuse exoticisland eastindiatradingcompany loveofone'slife traitor shipwreck strongwoman ship alliance calypso afterlife fighter pirate swashbuckler aftercreditsstinger johnnydepp orlandobloom keiraknightley goreverbinski"
        ],
        [
         "2",
         "206647",
         "Spectre",
         "action adventure crime a cryptic message from bond’s past sends him on a trail to uncover a sinister organization. while m battles political forces to keep the secret service alive, bond peels back the layers of deceit to reveal the terrible truth behind spectre. spy basedonnovel secretagent sequel mi6 britishsecretservice unitedkingdom danielcraig christophwaltz léaseydoux sammendes"
        ],
        [
         "3",
         "49026",
         "The Dark Knight Rises",
         "action crime drama thriller following the death of district attorney harvey dent, batman assumes responsibility for dent's crimes to protect the late attorney's reputation and is subsequently hunted by the gotham city police department. eight years later, batman encounters the mysterious selina kyle and the villainous bane, a new terrorist leader who overwhelms gotham's finest. the dark knight resurfaces to protect a city that has branded him an enemy. dccomics crimefighter terrorist secretidentity burglar hostagedrama timebomb gothamcity vigilante cover-up superhero villainess tragichero terrorism destruction catwoman catburglar imax flood criminalunderworld batman christianbale michaelcaine garyoldman christophernolan"
        ],
        [
         "4",
         "49529",
         "John Carter",
         "action adventure sciencefiction john carter is a war-weary, former military captain who's inexplicably transported to the mysterious and exotic planet of barsoom (mars) and reluctantly becomes embroiled in an epic conflict. it's a world on the brink of collapse, and carter rediscovers his humanity when he realizes the survival of barsoom and its people rests in his hands. basedonnovel mars medallion spacetravel princess alien steampunk martian escape edgarriceburroughs alienrace superhumanstrength marscivilization swordandplanet 19thcentury 3d taylorkitsch lynncollins samanthamorton andrewstanton"
        ],
        [
         "5",
         "559",
         "Spider-Man 3",
         "fantasy action adventure the seemingly invincible spider-man goes up against an all-new crop of villain – including the shape-shifting sandman. while spider-man’s superpowers are altered by an alien organism, his alter ego, peter parker, deals with nemesis eddie brock and also gets caught up in a love triangle. dualidentity amnesia sandstorm loveofone'slife forgiveness spider wretch deathofafriend egomania sand narcism hostility marvelcomic sequel superhero revenge tobeymaguire kirstendunst jamesfranco samraimi"
        ],
        [
         "6",
         "38757",
         "Tangled",
         "animation family when the kingdom's most wanted-and most charming-bandit flynn rider hides out in a mysterious tower, he's taken hostage by rapunzel, a beautiful and feisty tower-bound teen with 70 feet of magical, golden hair. flynn's curious captor, who's looking for her ticket out of the tower where she's been locked away for years, strikes a deal with the handsome thief and the unlikely duo sets off on an action-packed escapade, complete with a super-cop horse, an over-protective chameleon and a gruff gang of pub thugs. hostage magic horse fairytale musical princess animation tower blondewoman selfishness healingpower basedonfairytale duringcreditsstinger healinggift animalsidekick zacharylevi mandymoore donnamurphy byronhoward"
        ],
        [
         "7",
         "99861",
         "Avengers: Age of Ultron",
         "action adventure sciencefiction when tony stark tries to jumpstart a dormant peacekeeping program, things go awry and earth’s mightiest heroes are put to the ultimate test as the fate of the planet hangs in the balance. as the villainous ultron emerges, it is up to the avengers to stop him from enacting his terrible plans, and soon uneasy alliances and unexpected action pave the way for an epic and unique global adventure. marvelcomic sequel superhero basedoncomicbook vision superheroteam duringcreditsstinger marvelcinematicuniverse 3d robertdowneyjr. chrishemsworth markruffalo josswhedon"
        ],
        [
         "8",
         "767",
         "Harry Potter and the Half-Blood Prince",
         "adventure fantasy family as harry begins his sixth year at hogwarts, he discovers an old book marked as 'property of the half-blood prince', and begins to learn more about lord voldemort's dark past. witch magic broom schoolofwitchcraft wizardry apparition teenagecrush werewolf danielradcliffe rupertgrint emmawatson davidyates"
        ],
        [
         "9",
         "209112",
         "Batman v Superman: Dawn of Justice",
         "action adventure fantasy fearing the actions of a god-like super hero left unchecked, gotham city’s own formidable, forceful vigilante takes on metropolis’s most revered, modern-day savior, while the world wrestles with what sort of hero it really needs. and with batman and superman at war with one another, a new threat quickly arises, putting mankind in greater danger than it’s ever known before. dccomics vigilante superhero basedoncomicbook revenge superpowers clarkkent brucewayne dcextendeduniverse benaffleck henrycavill galgadot zacksnyder"
        ],
        [
         "10",
         "1452",
         "Superman Returns",
         "adventure fantasy action sciencefiction superman returns to discover his 5-year absence has allowed lex luthor to walk free, and that those he was closest too felt abandoned and have moved on. luthor plots his ultimate revenge that could see millions killed and change the face of the planet forever, as well as ridding himself of the man of steel. savingtheworld dccomics invulnerability sequel superhero basedoncomicbook kryptonite superpowers superhumanstrength lexluthor brandonrouth kevinspacey katebosworth bryansinger"
        ],
        [
         "11",
         "10764",
         "Quantum of Solace",
         "adventure action thriller crime quantum of solace continues the adventures of james bond after casino royale. betrayed by vesper, the woman he loved, 007 fights the urge to make his latest mission personal. pursuing his determination to uncover the truth, bond and m interrogate mr. white, who reveals that the organization that blackmailed vesper is far more complex and dangerous than anyone had imagined. killing undercover secretagent britishsecretservice danielcraig olgakurylenko mathieuamalric marcforster"
        ],
        [
         "12",
         "58",
         "Pirates of the Caribbean: Dead Man's Chest",
         "adventure fantasy action captain jack sparrow works his way out of a blood debt with the ghostly davey jones, he also attempts to avoid eternal damnation. witch fortuneteller bondage exoticisland monster captain cardgame eastindiatradingcompany compass ship daughter pirate swashbuckler aftercreditsstinger johnnydepp orlandobloom keiraknightley goreverbinski"
        ],
        [
         "13",
         "57201",
         "The Lone Ranger",
         "action adventure western the texas rangers chase down a gang of outlaws led by butch cavendish, but the gang ambushes the rangers, seemingly killing them all. one survivor is found, however, by an american indian named tonto, who nurses him back to health. the ranger, donning a mask and riding a white stallion named silver, teams up with tonto to bring the unscrupulous gang and others of that ilk to justice. texas horse survivor texasranger partner outlaw escape lawyer train loneranger comanche theloneranger tonto johnnydepp armiehammer williamfichtner goreverbinski"
        ],
        [
         "14",
         "49521",
         "Man of Steel",
         "action adventure fantasy sciencefiction a young boy learns that he has extraordinary powers and is not of this earth. as a young man, he journeys to discover where he came from and what he was sent here to do. but the hero in him must emerge if he is to save the world from annihilation and become the symbol of hope for all mankind. savingtheworld dccomics superhero basedoncomicbook superhuman alieninvasion reboot superpowers dcextendeduniverse henrycavill amyadams michaelshannon zacksnyder"
        ],
        [
         "15",
         "2454",
         "The Chronicles of Narnia: Prince Caspian",
         "adventure family fantasy one year after their incredible adventures in the lion, the witch and the wardrobe, peter, edmund, lucy and susan pevensie return to narnia to aid a young prince whose life has been threatened by the evil king miraz. now, with the help of a colorful cast of new characters, including trufflehunter the badger and nikabrik the dwarf, the pevensie clan embarks on an incredible quest to ensure that narnia is returned to its rightful heir. basedonnovel fictionalplace brothersisterrelationship lion humanbeing wretch leapintime matteroflifeanddeath faith uncle narnia fantasyworld benbarnes williammoseley annapopplewell andrewadamson"
        ],
        [
         "16",
         "24428",
         "The Avengers",
         "sciencefiction action adventure when an unexpected enemy emerges and threatens global safety and security, nick fury, director of the international peacekeeping agency known as s.h.i.e.l.d., finds himself in need of a team to pull the world back from the brink of disaster. spanning the globe, a daring recruitment effort begins! newyork shield marvelcomic superhero basedoncomicbook alieninvasion superheroteam aftercreditsstinger duringcreditsstinger marvelcinematicuniverse robertdowneyjr. chrisevans markruffalo josswhedon"
        ],
        [
         "17",
         "1865",
         "Pirates of the Caribbean: On Stranger Tides",
         "adventure action fantasy captain jack sparrow crosses paths with a woman from his past, and he's not sure if it's love -- or if she's a ruthless con artist who's using him to find the fabled fountain of youth. when she forces him aboard the queen anne's revenge, the ship of the formidable pirate blackbeard, jack finds himself on an unexpected adventure in which he doesn't know who to fear more: blackbeard or the woman from his past. sea captain mutiny sword primeminister sailing silver ship duke mermaid pirate soldier battle swashbuckler aftercreditsstinger 3d johnnydepp penélopecruz ianmcshane robmarshall"
        ],
        [
         "18",
         "41154",
         "Men in Black 3",
         "action comedy sciencefiction agents j (will smith) and k (tommy lee jones) are back...in time. j has seen some inexplicable things in his 15 years with the men in black, but nothing, not even aliens, perplexes him as much as his wry, reticent partner. but when k's life and the fate of the planet are put at stake, agent j will have to travel back in time to put things right. j discovers that there are secrets to the universe that k never told him - secrets that will reveal themselves as he teams up with the young agent k (josh brolin) to save his partner, the agency, and the future of humankind. timetravel timemachine alien fictionalgovernmentagency seeingthefuture changinghistory willsmith tommyleejones joshbrolin barrysonnenfeld"
        ],
        [
         "19",
         "122917",
         "The Hobbit: The Battle of the Five Armies",
         "action adventure fantasy immediately after the events of the desolation of smaug, bilbo and the dwarves try to defend erebor's mountain of treasure from others who claim it: the men of the ruined laketown and the elves of mirkwood. meanwhile an army of orcs led by azog the defiler is marching on erebor, fueled by the rise of the dark lord sauron. dwarves, elves and men must unite, and the hope for middle-earth falls into bilbo's hands. corruption elves dwarves orcs middle-earth(tolkien) hobbit dragon battle unlikelyfriendship epicbattle swordandsorcery martinfreeman ianmckellen richardarmitage peterjackson"
        ],
        [
         "20",
         "1930",
         "The Amazing Spider-Man",
         "action adventure fantasy peter parker is an outcast high schooler abandoned by his parents as a boy, leaving him to be raised by his uncle ben and aunt may. like most teenagers, peter is trying to figure out who he is and how he got to be the person he is today. as peter discovers a mysterious briefcase that belonged to his father, he begins a quest to understand his parents' disappearance – leading him directly to oscorp and the lab of dr. curt connors, his father's former partner. as spider-man is set on a collision course with connors' alter ego, the lizard, peter will make life-altering choices to use his powers and shape his destiny to become a hero. lossoffather vigilante serum marvelcomic scientificexperiment spiderbite maskedvigilante reboot superpowers geneticengineering socialoutcast duringcreditsstinger andrewgarfield emmastone rhysifans marcwebb"
        ],
        [
         "21",
         "20662",
         "Robin Hood",
         "action adventure when soldier robin happens upon the dying robert of loxley, he promises to return the man's sword to his family in nottingham. there, he assumes robert's identity; romances his widow, marion; and draws the ire of the town's sheriff and king john's henchman, godfrey. robinhood archer knight sherwoodforest bowandarrow middleages medieval kingofengland russellcrowe cateblanchett maxvonsydow ridleyscott"
        ],
        [
         "22",
         "57158",
         "The Hobbit: The Desolation of Smaug",
         "adventure fantasy the dwarves, bilbo and gandalf have successfully escaped the misty mountains, and bilbo has gained the one ring. they all continue their journey to get their gold back from the dragon, smaug. elves dwarves orcs hobbit dragon wizard swordandsorcery martinfreeman ianmckellen richardarmitage peterjackson"
        ],
        [
         "23",
         "2268",
         "The Golden Compass",
         "adventure fantasy after overhearing a shocking secret, precocious orphan lyra belacqua trades her carefree existence roaming the halls of jordan college for an otherworldly adventure in the far north, unaware that it's part of her destiny. england compass experiment lordship uncle polarbear orphan animal basedonyoungadultnovel dakotabluerichards nicolekidman danielcraig chrisweitz"
        ],
        [
         "24",
         "254",
         "King Kong",
         "adventure drama action in 1933 new york, an overly ambitious movie producer coerces his cast and hired ship crew to travel to mysterious skull island, where they encounter kong, a giant ape who is immediately smitten with the leading lady. filmbusiness screenplay showbusiness filmmaking filmproducer exoticisland monster indigenous ship dinosaur naomiwatts jackblack adrienbrody peterjackson"
        ],
        [
         "25",
         "597",
         "Titanic",
         "drama romance thriller 84 years later, a 101-year-old woman named rose dewitt bukater tells the story to her granddaughter lizzy calvert, brock lovett, lewis bodine, bobby buell and anatoly mikailavich on the keldysh about her life set in april 10th 1912, on a ship called titanic when young rose boards the departing ship with the upper-class passengers and her mother, ruth dewitt bukater, and her fiancé, caledon hockley. meanwhile, a drifter and artist named jack dawson and his best friend fabrizio de rossi win third-class tickets to the ship in a game. and she explains the whole story from departure until the death of titanic on its first and last voyage april 15th, 1912 at 2:20 in the morning. shipwreck iceberg ship panic titanic oceanliner epic richwoman-poorman love disaster tragiclove classdifferences imax starcrossedlovers steerage salvage richsnob 3d 1910s katewinslet leonardodicaprio francesfisher jamescameron"
        ],
        [
         "26",
         "271110",
         "Captain America: Civil War",
         "adventure action sciencefiction following the events of age of ultron, the collective governments of the world pass an act designed to regulate all superhuman activity. this polarizes opinion amongst the avengers, causing two factions to side with iron man or captain america, which causes an epic battle between former allies. civilwar war marvelcomic sequel superhero basedoncomicbook imax aftercreditsstinger duringcreditsstinger marvelcinematicuniverse 3d chrisevans robertdowneyjr. scarlettjohansson anthonyrusso"
        ],
        [
         "27",
         "44833",
         "Battleship",
         "thriller action adventure sciencefiction when mankind beams a radio signal into space, a reply comes from ‘planet g’, in the form of several alien crafts that splash down in the waters off hawaii. lieutenant alex hopper is a weapons officer assigned to the uss john paul jones, part of an international naval coalition which becomes the world's last hope for survival as they engage the hostile alien force of unimaginable strength. while taking on the invaders, hopper must also try to live up to the potential his brother, and his fiancée's father, admiral shane, expect of him. fight u.s.navy mindreading hongkong soccer scientist fictionalwar naval armada battleship navalcombat jdsmyoko lostcommunication taser buoy communicationsexpert jointchiefsofstaff crashlanding jetfighterpilot navylieutenant permissiontomarry ussjohnpauljones basedonboardgame aftercreditsstinger mightymo ussmissouri taylorkitsch alexanderskarsgård rihanna peterberg"
        ],
        [
         "28",
         "135397",
         "Jurassic World",
         "action adventure sciencefiction thriller twenty-two years after the events of jurassic park, isla nublar now features a fully functioning dinosaur theme park, jurassic world, as originally envisioned by john hammond. monster dna tyrannosaurusrex velociraptor island sequel suspense disaster escape dinosaur amusementpark animalattack themepark jurassicpark 3d animalhorror chrispratt brycedallashoward irrfankhan colintrevorrow"
        ],
        [
         "29",
         "37724",
         "Skyfall",
         "action adventure thriller when bond's latest assignment goes gravely wrong and agents around the world are exposed, mi6 is attacked forcing m to relocate the agency. these events cause her authority and position to be challenged by gareth mallory, the new chairman of the intelligence and security committee. with mi6 now compromised from both inside and out, m is left with one ally she can trust: bond. 007 takes to the shadows - aided only by field agent, eve - following a trail to the mysterious silva, whose lethal and hidden motives have yet to reveal themselves. spy secretagent sociopath killer artgallery britishsecretservice istanbulturkey imax uzi boobytrap impersonatingapoliceofficer macao danielcraig judidench javierbardem sammendes"
        ],
        [
         "30",
         "558",
         "Spider-Man 2",
         "action adventure fantasy peter parker is going through a major identity crisis. burned out from being spider-man, he decides to shelve his superhero alter ego, which leaves the city suffering in the wake of carnage left by the evil doc ock. in the meantime, parker still can't act on his feelings for mary jane watson, a girl he's loved since childhood. dualidentity loveofone'slife pizzaboy marvelcomic sequel superhero doctor scientist tentacle death supervillain tobeymaguire kirstendunst jamesfranco samraimi"
        ],
        [
         "31",
         "68721",
         "Iron Man 3",
         "action adventure sciencefiction when tony stark's world is torn apart by a formidable terrorist called the mandarin, he starts an odyssey of rebuilding and retribution. terrorist waronterror tennessee malibu marvelcomic superhero basedoncomicbook tonystark ironman aftercreditsstinger marvelcinematicuniverse mandarin 3d warmachine ironpatriot extremis robertdowneyjr. gwynethpaltrow doncheadle shaneblack"
        ],
        [
         "32",
         "12155",
         "Alice in Wonderland",
         "family fantasy adventure alice, an unpretentious and individual 19-year-old, is betrothed to a dunce of an english nobleman. at her engagement party, she escapes the crowd to consider whether to go through with the marriage and falls down a hole in the garden after spotting an unusual rabbit. arriving in a strange and surreal place called 'underland,' she finds herself in a world that resembles the nightmares she had as a child, filled with talking animals, villainous queens and knights, and frumious bandersnatches. alice realizes that she is there for a reason – to conquer the horrific jabberwocky and restore the rightful queen to her throne. basedonnovel fictionalplace queen fantasy aliceinwonderland fantasyworld 3d miawasikowska johnnydepp annehathaway timburton"
        ],
        [
         "33",
         "36668",
         "X-Men: The Last Stand",
         "adventure action sciencefiction thriller when a cure is found to treat mutations, lines are drawn amongst the x-men and the brotherhood, a band of powerful mutants organized under xavier's former ally, magneto. mutant marvelcomic basedoncomicbook superhuman beast cyclops aftercreditsstinger hughjackman halleberry ianmckellen brettratner"
        ],
        [
         "34",
         "62211",
         "Monsters University",
         "animation family a look at the relationship between mike and sulley during their days at monsters university — when they weren't necessarily the best of friends. monster dormitory games animation bestfriend university scary aftercreditsstinger billycrystal johngoodman stevebuscemi danscanlon"
        ],
        [
         "35",
         "8373",
         "Transformers: Revenge of the Fallen",
         "sciencefiction action adventure sam witwicky leaves the autobots behind for a normal life. but when his mind is filled with cryptic symbols, the decepticons target him and he is dragged back into the transformers' war. egypt sun chaos symbol artifact transformers tank robot imax duringcreditsstinger shialabeouf meganfox joshduhamel michaelbay"
        ],
        [
         "36",
         "91314",
         "Transformers: Age of Extinction",
         "sciencefiction action adventure as humanity picks up the pieces, following the conclusion of \"transformers: dark of the moon,\" autobots and decepticons have all but vanished from the face of the planet. however, a group of powerful, ingenious businessman and scientists attempt to learn from past transformer incursions and push the boundaries of technology beyond what they can control - all while an ancient, powerful transformer menace sets earth in his cross-hairs. sequel alien transformers giantrobot robot imax transformingrobot markwahlberg stanleytucci kelseygrammer michaelbay"
        ],
        [
         "37",
         "68728",
         "Oz: The Great and Powerful",
         "fantasy adventure family oscar diggs, a small-time circus illusionist and con-artist, is whisked from kansas to the land of oz where the inhabitants assume he's the great wizard of prophecy, there to save oz from the clutches of evil. circus witch magic hope illusion lost magictrick wizard 3d jamesfranco milakunis rachelweisz samraimi"
        ],
        [
         "38",
         "102382",
         "The Amazing Spider-Man 2",
         "action adventure fantasy for peter parker, life is busy. between taking out the bad guys as spider-man and spending time with the person he loves, gwen stacy, high school graduation cannot come quickly enough. peter has not forgotten about the promise he made to gwen’s father to protect her by staying away, but that is a promise he cannot keep. things will change for peter when a new villain, electro, emerges, an old friend, harry osborn, returns, and peter uncovers new clues about his past. obsession marvelcomic sequel basedoncomicbook electrocution medicalexperiment electricity superpowers andrewgarfield emmastone jamiefoxx marcwebb"
        ],
        [
         "39",
         "20526",
         "TRON: Legacy",
         "adventure action sciencefiction sam flynn, the tech-savvy and daring son of kevin flynn, investigates his father's disappearance and is pulled into the grid. with the help of a mysterious program named quorra, sam quests to stop evil dictator clu from crossing into the real world. artificialintelligence secretidentity computerprogram dystopia computer deception duel motorcycle neonlight autocracy garretthedlund jeffbridges oliviawilde josephkosinski"
        ],
        [
         "40",
         "49013",
         "Cars 2",
         "animation family adventure comedy star race car lightning mcqueen and his pal mater head overseas to compete in the world grand prix race. but the road to the championship becomes rocky as mater gets caught up in an intriguing adventure of his own: international espionage. carrace sequel comedy anthropomorphism bestfriend duringcreditsstinger owenwilson larrythecableguy michaelcaine johnlasseter"
        ],
        [
         "41",
         "44912",
         "Green Lantern",
         "adventure action thriller sciencefiction for centuries, a small but powerful force of warriors called the green lantern corps has sworn to keep intergalactic order. each green lantern wears a ring that grants him superpowers. but when a new enemy called parallax threatens to destroy the balance of power in the universe, their fate and the fate of earth lie in the hands of the first human ever recruited. dccomics transformation superhero alien alieninfection magicalobject protector superpowers origin 3d ryanreynolds blakelively petersarsgaard martincampbell"
        ],
        [
         "42",
         "10193",
         "Toy Story 3",
         "animation family comedy woody, buzz, and the rest of andy's toys haven't been played with in years. with andy about to go to college, the gang find themselves accidentally left at a nefarious day care center. the toys must band together to escape and return home to andy. hostage college toy barbie animation escape daycare teddybear duringcreditsstinger toycomestolife personification inanimateobjectscomingtolife toystory tomhanks timallen nedbeatty leeunkrich"
        ],
        [
         "43",
         "534",
         "Terminator Salvation",
         "action sciencefiction thriller all grown up in post-apocalyptic 2018, john connor must lead the resistance of humans against the increasingly dominating militaristic robots. but when marcus wright appears, his existence confuses the mission as connor tries to determine whether wright has come from the future or the past -- and whether he's friend or foe. savingtheworld artificialintelligence prophecy sanfrancisco cyborg killerrobot gasstation post-apocalyptic dystopia army firearm wartime losangeles christianbale samworthington antonyelchin mcg"
        ],
        [
         "44",
         "168259",
         "Furious 7",
         "action deckard shaw seeks revenge against dominic toretto and his family for his comatose brother. carrace speed revenge suspense car race musclecar vindiesel paulwalker dwaynejohnson jameswan"
        ],
        [
         "45",
         "72190",
         "World War Z",
         "action drama horror sciencefiction thriller life for former united nations investigator gerry lane and his family seems content. suddenly, the world is plagued by a mysterious infection turning whole human populations into rampaging mindless zombies. after barely escaping the chaos, lane is persuaded to go on a mission to investigate this disease. what follows is a perilous trek around the world where lane must brave horrific dangers and long odds to find answers before human civilization falls. dystopia apocalypse zombie nuclearweapons multipleperspectives zombieapocalypse bradpitt mireilleenos abigailhargrove marcforster"
        ],
        [
         "46",
         "127585",
         "X-Men: Days of Future Past",
         "action adventure fantasy sciencefiction the ultimate x-men ensemble fights a war for the survival of the species across two time periods as they join forces with their younger selves in an epic battle that must change the past – to save our future. 1970s mutant timetravel marvelcomic basedoncomicbook superhuman storm beast aftercreditsstinger changingthepastorfuture hughjackman jamesmcavoy michaelfassbender bryansinger"
        ],
        [
         "47",
         "54138",
         "Star Trek Into Darkness",
         "action adventure sciencefiction when the crew of the enterprise is called back home, they find an unstoppable force of terror from within their own organization has detonated the fleet and everything it stands for, leaving our world in a state of crisis. with a personal score to settle, captain kirk leads a manhunt to a war-zone world to capture a one man weapon of mass destruction. as our heroes are propelled into an epic chess game of life and death, love will be challenged, friendships will be torn apart, and sacrifices must be made for the only family kirk has left: his crew. spacecraft friendship sequel futuristic space alien imax spaceopera terroristbombing 3d chrispine zacharyquinto zoesaldana j.j.abrams"
        ],
        [
         "48",
         "81005",
         "Jack the Giant Slayer",
         "action family fantasy the story of an ancient war that is reignited when a young farmhand unwittingly opens a gateway between our world and a fearsome race of giants. unleashed on the earth for the first time in centuries, the giants strive to reclaim the land they once lost, forcing the young man, jack into the battle of his life to stop them. fighting for a kingdom, its people, and the love of a brave princess, he comes face to face with the unstoppable warriors he thought only existed in legend–and gets the chance to become a legend himself. basedonfairytale giant nicholashoult eleanortomlinson ewanmcgregor bryansinger"
        ],
        [
         "49",
         "64682",
         "The Great Gatsby",
         "drama romance an adaptation of f. scott fitzgerald's long island-set novel, where midwesterner nick carraway is lured into the lavish world of his neighbor, jay gatsby. soon enough, however, carraway will see through the cracks of gatsby's nouveau riche existence, where obsession, madness, and tragedy await. basedonnovel infidelity obsession hope 3d leonardodicaprio tobeymaguire careymulligan bazluhrmann"
        ]
       ],
       "shape": {
        "columns": 3,
        "rows": 4800
       }
      },
      "text/html": [
       "<div>\n",
       "<style scoped>\n",
       "    .dataframe tbody tr th:only-of-type {\n",
       "        vertical-align: middle;\n",
       "    }\n",
       "\n",
       "    .dataframe tbody tr th {\n",
       "        vertical-align: top;\n",
       "    }\n",
       "\n",
       "    .dataframe thead th {\n",
       "        text-align: right;\n",
       "    }\n",
       "</style>\n",
       "<table border=\"1\" class=\"dataframe\">\n",
       "  <thead>\n",
       "    <tr style=\"text-align: right;\">\n",
       "      <th></th>\n",
       "      <th>movie_id</th>\n",
       "      <th>title</th>\n",
       "      <th>tags</th>\n",
       "    </tr>\n",
       "  </thead>\n",
       "  <tbody>\n",
       "    <tr>\n",
       "      <th>0</th>\n",
       "      <td>19995</td>\n",
       "      <td>Avatar</td>\n",
       "      <td>action adventure fantasy sciencefiction in the...</td>\n",
       "    </tr>\n",
       "    <tr>\n",
       "      <th>1</th>\n",
       "      <td>285</td>\n",
       "      <td>Pirates of the Caribbean: At World's End</td>\n",
       "      <td>adventure fantasy action captain barbossa, lon...</td>\n",
       "    </tr>\n",
       "    <tr>\n",
       "      <th>2</th>\n",
       "      <td>206647</td>\n",
       "      <td>Spectre</td>\n",
       "      <td>action adventure crime a cryptic message from ...</td>\n",
       "    </tr>\n",
       "    <tr>\n",
       "      <th>3</th>\n",
       "      <td>49026</td>\n",
       "      <td>The Dark Knight Rises</td>\n",
       "      <td>action crime drama thriller following the deat...</td>\n",
       "    </tr>\n",
       "    <tr>\n",
       "      <th>4</th>\n",
       "      <td>49529</td>\n",
       "      <td>John Carter</td>\n",
       "      <td>action adventure sciencefiction john carter is...</td>\n",
       "    </tr>\n",
       "    <tr>\n",
       "      <th>...</th>\n",
       "      <td>...</td>\n",
       "      <td>...</td>\n",
       "      <td>...</td>\n",
       "    </tr>\n",
       "    <tr>\n",
       "      <th>4795</th>\n",
       "      <td>9367</td>\n",
       "      <td>El Mariachi</td>\n",
       "      <td>action crime thriller el mariachi just wants t...</td>\n",
       "    </tr>\n",
       "    <tr>\n",
       "      <th>4796</th>\n",
       "      <td>72766</td>\n",
       "      <td>Newlyweds</td>\n",
       "      <td>comedy romance a newlywed couple's honeymoon i...</td>\n",
       "    </tr>\n",
       "    <tr>\n",
       "      <th>4797</th>\n",
       "      <td>231617</td>\n",
       "      <td>Signed, Sealed, Delivered</td>\n",
       "      <td>comedy drama romance tvmovie \"signed, sealed, ...</td>\n",
       "    </tr>\n",
       "    <tr>\n",
       "      <th>4798</th>\n",
       "      <td>126186</td>\n",
       "      <td>Shanghai Calling</td>\n",
       "      <td>when ambitious new york attorney sam is sent t...</td>\n",
       "    </tr>\n",
       "    <tr>\n",
       "      <th>4799</th>\n",
       "      <td>25975</td>\n",
       "      <td>My Date with Drew</td>\n",
       "      <td>documentary ever since the second grade when h...</td>\n",
       "    </tr>\n",
       "  </tbody>\n",
       "</table>\n",
       "<p>4800 rows × 3 columns</p>\n",
       "</div>"
      ],
      "text/plain": [
       "      movie_id                                     title  \\\n",
       "0        19995                                    Avatar   \n",
       "1          285  Pirates of the Caribbean: At World's End   \n",
       "2       206647                                   Spectre   \n",
       "3        49026                     The Dark Knight Rises   \n",
       "4        49529                               John Carter   \n",
       "...        ...                                       ...   \n",
       "4795      9367                               El Mariachi   \n",
       "4796     72766                                 Newlyweds   \n",
       "4797    231617                 Signed, Sealed, Delivered   \n",
       "4798    126186                          Shanghai Calling   \n",
       "4799     25975                         My Date with Drew   \n",
       "\n",
       "                                                   tags  \n",
       "0     action adventure fantasy sciencefiction in the...  \n",
       "1     adventure fantasy action captain barbossa, lon...  \n",
       "2     action adventure crime a cryptic message from ...  \n",
       "3     action crime drama thriller following the deat...  \n",
       "4     action adventure sciencefiction john carter is...  \n",
       "...                                                 ...  \n",
       "4795  action crime thriller el mariachi just wants t...  \n",
       "4796  comedy romance a newlywed couple's honeymoon i...  \n",
       "4797  comedy drama romance tvmovie \"signed, sealed, ...  \n",
       "4798  when ambitious new york attorney sam is sent t...  \n",
       "4799  documentary ever since the second grade when h...  \n",
       "\n",
       "[4800 rows x 3 columns]"
      ]
     },
     "execution_count": 101,
     "metadata": {},
     "output_type": "execute_result"
    }
   ],
   "source": [
    "movies = pd.read_csv('data/Movies.csv')\n",
    "movies"
   ]
  },
  {
   "cell_type": "code",
   "execution_count": null,
   "id": "f81ed071",
   "metadata": {},
   "outputs": [],
   "source": []
  }
 ],
 "metadata": {
  "kernelspec": {
   "display_name": "Python 3",
   "language": "python",
   "name": "python3"
  },
  "language_info": {
   "codemirror_mode": {
    "name": "ipython",
    "version": 3
   },
   "file_extension": ".py",
   "mimetype": "text/x-python",
   "name": "python",
   "nbconvert_exporter": "python",
   "pygments_lexer": "ipython3",
   "version": "3.12.5"
  }
 },
 "nbformat": 4,
 "nbformat_minor": 5
}
